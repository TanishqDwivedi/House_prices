{
 "cells": [
  {
   "cell_type": "markdown",
   "id": "422245c5-debc-4f36-a675-b75b2ad2a36d",
   "metadata": {
    "tags": []
   },
   "source": [
    "Group Name: Brocode\n",
    "Group Members:\n",
    "    Aditya Maniar (am3326@njit.edu)\n",
    "    Tanishq Dwivedi (td43@njit.edu)"
   ]
  },
  {
   "cell_type": "code",
   "execution_count": 463,
   "id": "7a7cb46b-353f-4962-a3ee-9315ca3413ff",
   "metadata": {},
   "outputs": [],
   "source": [
    "import numpy as np \n",
    "import pandas as pd\n",
    "import seaborn as sns\n",
    "import matplotlib.pyplot as plt"
   ]
  },
  {
   "cell_type": "code",
   "execution_count": 464,
   "id": "5ad2f90b",
   "metadata": {
    "papermill": {
     "duration": 0.238728,
     "end_time": "2022-03-10T15:47:05.218936",
     "exception": false,
     "start_time": "2022-03-10T15:47:04.980208",
     "status": "completed"
    },
    "tags": []
   },
   "outputs": [],
   "source": [
    "df_train = pd.read_csv('train.csv') \n",
    "df_test = pd.read_csv('test.csv')"
   ]
  },
  {
   "cell_type": "code",
   "execution_count": 465,
   "id": "4d04bf49",
   "metadata": {
    "papermill": {
     "duration": 0.186951,
     "end_time": "2022-03-10T15:47:05.555754",
     "exception": false,
     "start_time": "2022-03-10T15:47:05.368803",
     "status": "completed"
    },
    "tags": []
   },
   "outputs": [
    {
     "data": {
      "text/html": [
       "<div>\n",
       "<style scoped>\n",
       "    .dataframe tbody tr th:only-of-type {\n",
       "        vertical-align: middle;\n",
       "    }\n",
       "\n",
       "    .dataframe tbody tr th {\n",
       "        vertical-align: top;\n",
       "    }\n",
       "\n",
       "    .dataframe thead th {\n",
       "        text-align: right;\n",
       "    }\n",
       "</style>\n",
       "<table border=\"1\" class=\"dataframe\">\n",
       "  <thead>\n",
       "    <tr style=\"text-align: right;\">\n",
       "      <th></th>\n",
       "      <th>Id</th>\n",
       "      <th>MSSubClass</th>\n",
       "      <th>MSZoning</th>\n",
       "      <th>LotFrontage</th>\n",
       "      <th>LotArea</th>\n",
       "      <th>Street</th>\n",
       "      <th>Alley</th>\n",
       "      <th>LotShape</th>\n",
       "      <th>LandContour</th>\n",
       "      <th>Utilities</th>\n",
       "      <th>...</th>\n",
       "      <th>PoolArea</th>\n",
       "      <th>PoolQC</th>\n",
       "      <th>Fence</th>\n",
       "      <th>MiscFeature</th>\n",
       "      <th>MiscVal</th>\n",
       "      <th>MoSold</th>\n",
       "      <th>YrSold</th>\n",
       "      <th>SaleType</th>\n",
       "      <th>SaleCondition</th>\n",
       "      <th>SalePrice</th>\n",
       "    </tr>\n",
       "  </thead>\n",
       "  <tbody>\n",
       "    <tr>\n",
       "      <th>0</th>\n",
       "      <td>1</td>\n",
       "      <td>60</td>\n",
       "      <td>RL</td>\n",
       "      <td>65.0</td>\n",
       "      <td>8450</td>\n",
       "      <td>Pave</td>\n",
       "      <td>NaN</td>\n",
       "      <td>Reg</td>\n",
       "      <td>Lvl</td>\n",
       "      <td>AllPub</td>\n",
       "      <td>...</td>\n",
       "      <td>0</td>\n",
       "      <td>NaN</td>\n",
       "      <td>NaN</td>\n",
       "      <td>NaN</td>\n",
       "      <td>0</td>\n",
       "      <td>2</td>\n",
       "      <td>2008</td>\n",
       "      <td>WD</td>\n",
       "      <td>Normal</td>\n",
       "      <td>208500</td>\n",
       "    </tr>\n",
       "    <tr>\n",
       "      <th>1</th>\n",
       "      <td>2</td>\n",
       "      <td>20</td>\n",
       "      <td>RL</td>\n",
       "      <td>80.0</td>\n",
       "      <td>9600</td>\n",
       "      <td>Pave</td>\n",
       "      <td>NaN</td>\n",
       "      <td>Reg</td>\n",
       "      <td>Lvl</td>\n",
       "      <td>AllPub</td>\n",
       "      <td>...</td>\n",
       "      <td>0</td>\n",
       "      <td>NaN</td>\n",
       "      <td>NaN</td>\n",
       "      <td>NaN</td>\n",
       "      <td>0</td>\n",
       "      <td>5</td>\n",
       "      <td>2007</td>\n",
       "      <td>WD</td>\n",
       "      <td>Normal</td>\n",
       "      <td>181500</td>\n",
       "    </tr>\n",
       "    <tr>\n",
       "      <th>2</th>\n",
       "      <td>3</td>\n",
       "      <td>60</td>\n",
       "      <td>RL</td>\n",
       "      <td>68.0</td>\n",
       "      <td>11250</td>\n",
       "      <td>Pave</td>\n",
       "      <td>NaN</td>\n",
       "      <td>IR1</td>\n",
       "      <td>Lvl</td>\n",
       "      <td>AllPub</td>\n",
       "      <td>...</td>\n",
       "      <td>0</td>\n",
       "      <td>NaN</td>\n",
       "      <td>NaN</td>\n",
       "      <td>NaN</td>\n",
       "      <td>0</td>\n",
       "      <td>9</td>\n",
       "      <td>2008</td>\n",
       "      <td>WD</td>\n",
       "      <td>Normal</td>\n",
       "      <td>223500</td>\n",
       "    </tr>\n",
       "    <tr>\n",
       "      <th>3</th>\n",
       "      <td>4</td>\n",
       "      <td>70</td>\n",
       "      <td>RL</td>\n",
       "      <td>60.0</td>\n",
       "      <td>9550</td>\n",
       "      <td>Pave</td>\n",
       "      <td>NaN</td>\n",
       "      <td>IR1</td>\n",
       "      <td>Lvl</td>\n",
       "      <td>AllPub</td>\n",
       "      <td>...</td>\n",
       "      <td>0</td>\n",
       "      <td>NaN</td>\n",
       "      <td>NaN</td>\n",
       "      <td>NaN</td>\n",
       "      <td>0</td>\n",
       "      <td>2</td>\n",
       "      <td>2006</td>\n",
       "      <td>WD</td>\n",
       "      <td>Abnorml</td>\n",
       "      <td>140000</td>\n",
       "    </tr>\n",
       "    <tr>\n",
       "      <th>4</th>\n",
       "      <td>5</td>\n",
       "      <td>60</td>\n",
       "      <td>RL</td>\n",
       "      <td>84.0</td>\n",
       "      <td>14260</td>\n",
       "      <td>Pave</td>\n",
       "      <td>NaN</td>\n",
       "      <td>IR1</td>\n",
       "      <td>Lvl</td>\n",
       "      <td>AllPub</td>\n",
       "      <td>...</td>\n",
       "      <td>0</td>\n",
       "      <td>NaN</td>\n",
       "      <td>NaN</td>\n",
       "      <td>NaN</td>\n",
       "      <td>0</td>\n",
       "      <td>12</td>\n",
       "      <td>2008</td>\n",
       "      <td>WD</td>\n",
       "      <td>Normal</td>\n",
       "      <td>250000</td>\n",
       "    </tr>\n",
       "  </tbody>\n",
       "</table>\n",
       "<p>5 rows × 81 columns</p>\n",
       "</div>"
      ],
      "text/plain": [
       "   Id  MSSubClass MSZoning  LotFrontage  LotArea Street Alley LotShape  \\\n",
       "0   1          60       RL         65.0     8450   Pave   NaN      Reg   \n",
       "1   2          20       RL         80.0     9600   Pave   NaN      Reg   \n",
       "2   3          60       RL         68.0    11250   Pave   NaN      IR1   \n",
       "3   4          70       RL         60.0     9550   Pave   NaN      IR1   \n",
       "4   5          60       RL         84.0    14260   Pave   NaN      IR1   \n",
       "\n",
       "  LandContour Utilities  ... PoolArea PoolQC Fence MiscFeature MiscVal MoSold  \\\n",
       "0         Lvl    AllPub  ...        0    NaN   NaN         NaN       0      2   \n",
       "1         Lvl    AllPub  ...        0    NaN   NaN         NaN       0      5   \n",
       "2         Lvl    AllPub  ...        0    NaN   NaN         NaN       0      9   \n",
       "3         Lvl    AllPub  ...        0    NaN   NaN         NaN       0      2   \n",
       "4         Lvl    AllPub  ...        0    NaN   NaN         NaN       0     12   \n",
       "\n",
       "  YrSold  SaleType  SaleCondition  SalePrice  \n",
       "0   2008        WD         Normal     208500  \n",
       "1   2007        WD         Normal     181500  \n",
       "2   2008        WD         Normal     223500  \n",
       "3   2006        WD        Abnorml     140000  \n",
       "4   2008        WD         Normal     250000  \n",
       "\n",
       "[5 rows x 81 columns]"
      ]
     },
     "execution_count": 465,
     "metadata": {},
     "output_type": "execute_result"
    }
   ],
   "source": [
    "df_train.head()"
   ]
  },
  {
   "cell_type": "code",
   "execution_count": 466,
   "id": "ad05a2b7",
   "metadata": {
    "papermill": {
     "duration": 0.186824,
     "end_time": "2022-03-10T15:47:05.891422",
     "exception": false,
     "start_time": "2022-03-10T15:47:05.704598",
     "status": "completed"
    },
    "tags": []
   },
   "outputs": [
    {
     "name": "stdout",
     "output_type": "stream",
     "text": [
      "<class 'pandas.core.frame.DataFrame'>\n",
      "RangeIndex: 1460 entries, 0 to 1459\n",
      "Data columns (total 81 columns):\n",
      " #   Column         Non-Null Count  Dtype  \n",
      "---  ------         --------------  -----  \n",
      " 0   Id             1460 non-null   int64  \n",
      " 1   MSSubClass     1460 non-null   int64  \n",
      " 2   MSZoning       1460 non-null   object \n",
      " 3   LotFrontage    1201 non-null   float64\n",
      " 4   LotArea        1460 non-null   int64  \n",
      " 5   Street         1460 non-null   object \n",
      " 6   Alley          91 non-null     object \n",
      " 7   LotShape       1460 non-null   object \n",
      " 8   LandContour    1460 non-null   object \n",
      " 9   Utilities      1460 non-null   object \n",
      " 10  LotConfig      1460 non-null   object \n",
      " 11  LandSlope      1460 non-null   object \n",
      " 12  Neighborhood   1460 non-null   object \n",
      " 13  Condition1     1460 non-null   object \n",
      " 14  Condition2     1460 non-null   object \n",
      " 15  BldgType       1460 non-null   object \n",
      " 16  HouseStyle     1460 non-null   object \n",
      " 17  OverallQual    1460 non-null   int64  \n",
      " 18  OverallCond    1460 non-null   int64  \n",
      " 19  YearBuilt      1460 non-null   int64  \n",
      " 20  YearRemodAdd   1460 non-null   int64  \n",
      " 21  RoofStyle      1460 non-null   object \n",
      " 22  RoofMatl       1460 non-null   object \n",
      " 23  Exterior1st    1460 non-null   object \n",
      " 24  Exterior2nd    1460 non-null   object \n",
      " 25  MasVnrType     1452 non-null   object \n",
      " 26  MasVnrArea     1452 non-null   float64\n",
      " 27  ExterQual      1460 non-null   object \n",
      " 28  ExterCond      1460 non-null   object \n",
      " 29  Foundation     1460 non-null   object \n",
      " 30  BsmtQual       1423 non-null   object \n",
      " 31  BsmtCond       1423 non-null   object \n",
      " 32  BsmtExposure   1422 non-null   object \n",
      " 33  BsmtFinType1   1423 non-null   object \n",
      " 34  BsmtFinSF1     1460 non-null   int64  \n",
      " 35  BsmtFinType2   1422 non-null   object \n",
      " 36  BsmtFinSF2     1460 non-null   int64  \n",
      " 37  BsmtUnfSF      1460 non-null   int64  \n",
      " 38  TotalBsmtSF    1460 non-null   int64  \n",
      " 39  Heating        1460 non-null   object \n",
      " 40  HeatingQC      1460 non-null   object \n",
      " 41  CentralAir     1460 non-null   object \n",
      " 42  Electrical     1459 non-null   object \n",
      " 43  1stFlrSF       1460 non-null   int64  \n",
      " 44  2ndFlrSF       1460 non-null   int64  \n",
      " 45  LowQualFinSF   1460 non-null   int64  \n",
      " 46  GrLivArea      1460 non-null   int64  \n",
      " 47  BsmtFullBath   1460 non-null   int64  \n",
      " 48  BsmtHalfBath   1460 non-null   int64  \n",
      " 49  FullBath       1460 non-null   int64  \n",
      " 50  HalfBath       1460 non-null   int64  \n",
      " 51  BedroomAbvGr   1460 non-null   int64  \n",
      " 52  KitchenAbvGr   1460 non-null   int64  \n",
      " 53  KitchenQual    1460 non-null   object \n",
      " 54  TotRmsAbvGrd   1460 non-null   int64  \n",
      " 55  Functional     1460 non-null   object \n",
      " 56  Fireplaces     1460 non-null   int64  \n",
      " 57  FireplaceQu    770 non-null    object \n",
      " 58  GarageType     1379 non-null   object \n",
      " 59  GarageYrBlt    1379 non-null   float64\n",
      " 60  GarageFinish   1379 non-null   object \n",
      " 61  GarageCars     1460 non-null   int64  \n",
      " 62  GarageArea     1460 non-null   int64  \n",
      " 63  GarageQual     1379 non-null   object \n",
      " 64  GarageCond     1379 non-null   object \n",
      " 65  PavedDrive     1460 non-null   object \n",
      " 66  WoodDeckSF     1460 non-null   int64  \n",
      " 67  OpenPorchSF    1460 non-null   int64  \n",
      " 68  EnclosedPorch  1460 non-null   int64  \n",
      " 69  3SsnPorch      1460 non-null   int64  \n",
      " 70  ScreenPorch    1460 non-null   int64  \n",
      " 71  PoolArea       1460 non-null   int64  \n",
      " 72  PoolQC         7 non-null      object \n",
      " 73  Fence          281 non-null    object \n",
      " 74  MiscFeature    54 non-null     object \n",
      " 75  MiscVal        1460 non-null   int64  \n",
      " 76  MoSold         1460 non-null   int64  \n",
      " 77  YrSold         1460 non-null   int64  \n",
      " 78  SaleType       1460 non-null   object \n",
      " 79  SaleCondition  1460 non-null   object \n",
      " 80  SalePrice      1460 non-null   int64  \n",
      "dtypes: float64(3), int64(35), object(43)\n",
      "memory usage: 924.0+ KB\n"
     ]
    }
   ],
   "source": [
    "df_train.info()"
   ]
  },
  {
   "cell_type": "code",
   "execution_count": 467,
   "id": "2c73f350",
   "metadata": {
    "papermill": {
     "duration": 0.170555,
     "end_time": "2022-03-10T15:47:06.212386",
     "exception": false,
     "start_time": "2022-03-10T15:47:06.041831",
     "status": "completed"
    },
    "tags": []
   },
   "outputs": [
    {
     "data": {
      "text/plain": [
       "Id                 0\n",
       "MSSubClass         0\n",
       "MSZoning           0\n",
       "LotFrontage      259\n",
       "LotArea            0\n",
       "                ... \n",
       "MoSold             0\n",
       "YrSold             0\n",
       "SaleType           0\n",
       "SaleCondition      0\n",
       "SalePrice          0\n",
       "Length: 81, dtype: int64"
      ]
     },
     "execution_count": 467,
     "metadata": {},
     "output_type": "execute_result"
    }
   ],
   "source": [
    "df_train.isnull().sum().head(100)"
   ]
  },
  {
   "cell_type": "code",
   "execution_count": 468,
   "id": "8c182890",
   "metadata": {
    "papermill": {
     "duration": 0.251041,
     "end_time": "2022-03-10T15:47:06.613215",
     "exception": false,
     "start_time": "2022-03-10T15:47:06.362174",
     "status": "completed"
    },
    "tags": []
   },
   "outputs": [
    {
     "data": {
      "text/html": [
       "<div>\n",
       "<style scoped>\n",
       "    .dataframe tbody tr th:only-of-type {\n",
       "        vertical-align: middle;\n",
       "    }\n",
       "\n",
       "    .dataframe tbody tr th {\n",
       "        vertical-align: top;\n",
       "    }\n",
       "\n",
       "    .dataframe thead th {\n",
       "        text-align: right;\n",
       "    }\n",
       "</style>\n",
       "<table border=\"1\" class=\"dataframe\">\n",
       "  <thead>\n",
       "    <tr style=\"text-align: right;\">\n",
       "      <th></th>\n",
       "      <th>Id</th>\n",
       "      <th>MSSubClass</th>\n",
       "      <th>LotFrontage</th>\n",
       "      <th>LotArea</th>\n",
       "      <th>OverallQual</th>\n",
       "      <th>OverallCond</th>\n",
       "      <th>YearBuilt</th>\n",
       "      <th>YearRemodAdd</th>\n",
       "      <th>MasVnrArea</th>\n",
       "      <th>BsmtFinSF1</th>\n",
       "      <th>...</th>\n",
       "      <th>WoodDeckSF</th>\n",
       "      <th>OpenPorchSF</th>\n",
       "      <th>EnclosedPorch</th>\n",
       "      <th>3SsnPorch</th>\n",
       "      <th>ScreenPorch</th>\n",
       "      <th>PoolArea</th>\n",
       "      <th>MiscVal</th>\n",
       "      <th>MoSold</th>\n",
       "      <th>YrSold</th>\n",
       "      <th>SalePrice</th>\n",
       "    </tr>\n",
       "  </thead>\n",
       "  <tbody>\n",
       "    <tr>\n",
       "      <th>count</th>\n",
       "      <td>1460.000000</td>\n",
       "      <td>1460.000000</td>\n",
       "      <td>1201.000000</td>\n",
       "      <td>1460.000000</td>\n",
       "      <td>1460.000000</td>\n",
       "      <td>1460.000000</td>\n",
       "      <td>1460.000000</td>\n",
       "      <td>1460.000000</td>\n",
       "      <td>1452.000000</td>\n",
       "      <td>1460.000000</td>\n",
       "      <td>...</td>\n",
       "      <td>1460.000000</td>\n",
       "      <td>1460.000000</td>\n",
       "      <td>1460.000000</td>\n",
       "      <td>1460.000000</td>\n",
       "      <td>1460.000000</td>\n",
       "      <td>1460.000000</td>\n",
       "      <td>1460.000000</td>\n",
       "      <td>1460.000000</td>\n",
       "      <td>1460.000000</td>\n",
       "      <td>1460.000000</td>\n",
       "    </tr>\n",
       "    <tr>\n",
       "      <th>mean</th>\n",
       "      <td>730.500000</td>\n",
       "      <td>56.897260</td>\n",
       "      <td>70.049958</td>\n",
       "      <td>10516.828082</td>\n",
       "      <td>6.099315</td>\n",
       "      <td>5.575342</td>\n",
       "      <td>1971.267808</td>\n",
       "      <td>1984.865753</td>\n",
       "      <td>103.685262</td>\n",
       "      <td>443.639726</td>\n",
       "      <td>...</td>\n",
       "      <td>94.244521</td>\n",
       "      <td>46.660274</td>\n",
       "      <td>21.954110</td>\n",
       "      <td>3.409589</td>\n",
       "      <td>15.060959</td>\n",
       "      <td>2.758904</td>\n",
       "      <td>43.489041</td>\n",
       "      <td>6.321918</td>\n",
       "      <td>2007.815753</td>\n",
       "      <td>180921.195890</td>\n",
       "    </tr>\n",
       "    <tr>\n",
       "      <th>std</th>\n",
       "      <td>421.610009</td>\n",
       "      <td>42.300571</td>\n",
       "      <td>24.284752</td>\n",
       "      <td>9981.264932</td>\n",
       "      <td>1.382997</td>\n",
       "      <td>1.112799</td>\n",
       "      <td>30.202904</td>\n",
       "      <td>20.645407</td>\n",
       "      <td>181.066207</td>\n",
       "      <td>456.098091</td>\n",
       "      <td>...</td>\n",
       "      <td>125.338794</td>\n",
       "      <td>66.256028</td>\n",
       "      <td>61.119149</td>\n",
       "      <td>29.317331</td>\n",
       "      <td>55.757415</td>\n",
       "      <td>40.177307</td>\n",
       "      <td>496.123024</td>\n",
       "      <td>2.703626</td>\n",
       "      <td>1.328095</td>\n",
       "      <td>79442.502883</td>\n",
       "    </tr>\n",
       "    <tr>\n",
       "      <th>min</th>\n",
       "      <td>1.000000</td>\n",
       "      <td>20.000000</td>\n",
       "      <td>21.000000</td>\n",
       "      <td>1300.000000</td>\n",
       "      <td>1.000000</td>\n",
       "      <td>1.000000</td>\n",
       "      <td>1872.000000</td>\n",
       "      <td>1950.000000</td>\n",
       "      <td>0.000000</td>\n",
       "      <td>0.000000</td>\n",
       "      <td>...</td>\n",
       "      <td>0.000000</td>\n",
       "      <td>0.000000</td>\n",
       "      <td>0.000000</td>\n",
       "      <td>0.000000</td>\n",
       "      <td>0.000000</td>\n",
       "      <td>0.000000</td>\n",
       "      <td>0.000000</td>\n",
       "      <td>1.000000</td>\n",
       "      <td>2006.000000</td>\n",
       "      <td>34900.000000</td>\n",
       "    </tr>\n",
       "    <tr>\n",
       "      <th>25%</th>\n",
       "      <td>365.750000</td>\n",
       "      <td>20.000000</td>\n",
       "      <td>59.000000</td>\n",
       "      <td>7553.500000</td>\n",
       "      <td>5.000000</td>\n",
       "      <td>5.000000</td>\n",
       "      <td>1954.000000</td>\n",
       "      <td>1967.000000</td>\n",
       "      <td>0.000000</td>\n",
       "      <td>0.000000</td>\n",
       "      <td>...</td>\n",
       "      <td>0.000000</td>\n",
       "      <td>0.000000</td>\n",
       "      <td>0.000000</td>\n",
       "      <td>0.000000</td>\n",
       "      <td>0.000000</td>\n",
       "      <td>0.000000</td>\n",
       "      <td>0.000000</td>\n",
       "      <td>5.000000</td>\n",
       "      <td>2007.000000</td>\n",
       "      <td>129975.000000</td>\n",
       "    </tr>\n",
       "    <tr>\n",
       "      <th>50%</th>\n",
       "      <td>730.500000</td>\n",
       "      <td>50.000000</td>\n",
       "      <td>69.000000</td>\n",
       "      <td>9478.500000</td>\n",
       "      <td>6.000000</td>\n",
       "      <td>5.000000</td>\n",
       "      <td>1973.000000</td>\n",
       "      <td>1994.000000</td>\n",
       "      <td>0.000000</td>\n",
       "      <td>383.500000</td>\n",
       "      <td>...</td>\n",
       "      <td>0.000000</td>\n",
       "      <td>25.000000</td>\n",
       "      <td>0.000000</td>\n",
       "      <td>0.000000</td>\n",
       "      <td>0.000000</td>\n",
       "      <td>0.000000</td>\n",
       "      <td>0.000000</td>\n",
       "      <td>6.000000</td>\n",
       "      <td>2008.000000</td>\n",
       "      <td>163000.000000</td>\n",
       "    </tr>\n",
       "    <tr>\n",
       "      <th>75%</th>\n",
       "      <td>1095.250000</td>\n",
       "      <td>70.000000</td>\n",
       "      <td>80.000000</td>\n",
       "      <td>11601.500000</td>\n",
       "      <td>7.000000</td>\n",
       "      <td>6.000000</td>\n",
       "      <td>2000.000000</td>\n",
       "      <td>2004.000000</td>\n",
       "      <td>166.000000</td>\n",
       "      <td>712.250000</td>\n",
       "      <td>...</td>\n",
       "      <td>168.000000</td>\n",
       "      <td>68.000000</td>\n",
       "      <td>0.000000</td>\n",
       "      <td>0.000000</td>\n",
       "      <td>0.000000</td>\n",
       "      <td>0.000000</td>\n",
       "      <td>0.000000</td>\n",
       "      <td>8.000000</td>\n",
       "      <td>2009.000000</td>\n",
       "      <td>214000.000000</td>\n",
       "    </tr>\n",
       "    <tr>\n",
       "      <th>max</th>\n",
       "      <td>1460.000000</td>\n",
       "      <td>190.000000</td>\n",
       "      <td>313.000000</td>\n",
       "      <td>215245.000000</td>\n",
       "      <td>10.000000</td>\n",
       "      <td>9.000000</td>\n",
       "      <td>2010.000000</td>\n",
       "      <td>2010.000000</td>\n",
       "      <td>1600.000000</td>\n",
       "      <td>5644.000000</td>\n",
       "      <td>...</td>\n",
       "      <td>857.000000</td>\n",
       "      <td>547.000000</td>\n",
       "      <td>552.000000</td>\n",
       "      <td>508.000000</td>\n",
       "      <td>480.000000</td>\n",
       "      <td>738.000000</td>\n",
       "      <td>15500.000000</td>\n",
       "      <td>12.000000</td>\n",
       "      <td>2010.000000</td>\n",
       "      <td>755000.000000</td>\n",
       "    </tr>\n",
       "  </tbody>\n",
       "</table>\n",
       "<p>8 rows × 38 columns</p>\n",
       "</div>"
      ],
      "text/plain": [
       "                Id   MSSubClass  LotFrontage        LotArea  OverallQual  \\\n",
       "count  1460.000000  1460.000000  1201.000000    1460.000000  1460.000000   \n",
       "mean    730.500000    56.897260    70.049958   10516.828082     6.099315   \n",
       "std     421.610009    42.300571    24.284752    9981.264932     1.382997   \n",
       "min       1.000000    20.000000    21.000000    1300.000000     1.000000   \n",
       "25%     365.750000    20.000000    59.000000    7553.500000     5.000000   \n",
       "50%     730.500000    50.000000    69.000000    9478.500000     6.000000   \n",
       "75%    1095.250000    70.000000    80.000000   11601.500000     7.000000   \n",
       "max    1460.000000   190.000000   313.000000  215245.000000    10.000000   \n",
       "\n",
       "       OverallCond    YearBuilt  YearRemodAdd   MasVnrArea   BsmtFinSF1  ...  \\\n",
       "count  1460.000000  1460.000000   1460.000000  1452.000000  1460.000000  ...   \n",
       "mean      5.575342  1971.267808   1984.865753   103.685262   443.639726  ...   \n",
       "std       1.112799    30.202904     20.645407   181.066207   456.098091  ...   \n",
       "min       1.000000  1872.000000   1950.000000     0.000000     0.000000  ...   \n",
       "25%       5.000000  1954.000000   1967.000000     0.000000     0.000000  ...   \n",
       "50%       5.000000  1973.000000   1994.000000     0.000000   383.500000  ...   \n",
       "75%       6.000000  2000.000000   2004.000000   166.000000   712.250000  ...   \n",
       "max       9.000000  2010.000000   2010.000000  1600.000000  5644.000000  ...   \n",
       "\n",
       "        WoodDeckSF  OpenPorchSF  EnclosedPorch    3SsnPorch  ScreenPorch  \\\n",
       "count  1460.000000  1460.000000    1460.000000  1460.000000  1460.000000   \n",
       "mean     94.244521    46.660274      21.954110     3.409589    15.060959   \n",
       "std     125.338794    66.256028      61.119149    29.317331    55.757415   \n",
       "min       0.000000     0.000000       0.000000     0.000000     0.000000   \n",
       "25%       0.000000     0.000000       0.000000     0.000000     0.000000   \n",
       "50%       0.000000    25.000000       0.000000     0.000000     0.000000   \n",
       "75%     168.000000    68.000000       0.000000     0.000000     0.000000   \n",
       "max     857.000000   547.000000     552.000000   508.000000   480.000000   \n",
       "\n",
       "          PoolArea       MiscVal       MoSold       YrSold      SalePrice  \n",
       "count  1460.000000   1460.000000  1460.000000  1460.000000    1460.000000  \n",
       "mean      2.758904     43.489041     6.321918  2007.815753  180921.195890  \n",
       "std      40.177307    496.123024     2.703626     1.328095   79442.502883  \n",
       "min       0.000000      0.000000     1.000000  2006.000000   34900.000000  \n",
       "25%       0.000000      0.000000     5.000000  2007.000000  129975.000000  \n",
       "50%       0.000000      0.000000     6.000000  2008.000000  163000.000000  \n",
       "75%       0.000000      0.000000     8.000000  2009.000000  214000.000000  \n",
       "max     738.000000  15500.000000    12.000000  2010.000000  755000.000000  \n",
       "\n",
       "[8 rows x 38 columns]"
      ]
     },
     "execution_count": 468,
     "metadata": {},
     "output_type": "execute_result"
    }
   ],
   "source": [
    "df_train.describe()"
   ]
  },
  {
   "cell_type": "code",
   "execution_count": 469,
   "id": "1c4cdbf1",
   "metadata": {
    "papermill": {
     "duration": 0.512511,
     "end_time": "2022-03-10T15:47:07.278285",
     "exception": false,
     "start_time": "2022-03-10T15:47:06.765774",
     "status": "completed"
    },
    "tags": []
   },
   "outputs": [
    {
     "data": {
      "text/plain": [
       "<AxesSubplot:>"
      ]
     },
     "execution_count": 469,
     "metadata": {},
     "output_type": "execute_result"
    },
    {
     "data": {
      "image/png": "[encoded data removed]",
      "text/plain": [
       "<Figure size 432x288 with 1 Axes>"
      ]
     },
     "metadata": {
      "needs_background": "light"
     },
     "output_type": "display_data"
    }
   ],
   "source": [
    "missing = df_train.isnull().sum()\n",
    "missing = missing[missing > 0]\n",
    "missing.sort_values(inplace=True)\n",
    "missing.plot.bar()"
   ]
  },
  {
   "cell_type": "code",
   "execution_count": 470,
   "id": "00c033f6",
   "metadata": {
    "papermill": {
     "duration": 0.163027,
     "end_time": "2022-03-10T15:47:07.593149",
     "exception": false,
     "start_time": "2022-03-10T15:47:07.430122",
     "status": "completed"
    },
    "tags": []
   },
   "outputs": [
    {
     "data": {
      "text/plain": [
       "0       65.0\n",
       "1       80.0\n",
       "2       68.0\n",
       "3       60.0\n",
       "4       84.0\n",
       "        ... \n",
       "1455    62.0\n",
       "1456    85.0\n",
       "1457    66.0\n",
       "1458    68.0\n",
       "1459    75.0\n",
       "Name: LotFrontage, Length: 1460, dtype: float64"
      ]
     },
     "execution_count": 470,
     "metadata": {},
     "output_type": "execute_result"
    }
   ],
   "source": [
    "df_train.LotFrontage"
   ]
  },
  {
   "cell_type": "code",
   "execution_count": 471,
   "id": "44e36f91",
   "metadata": {
    "papermill": {
     "duration": 0.493728,
     "end_time": "2022-03-10T15:47:08.240631",
     "exception": false,
     "start_time": "2022-03-10T15:47:07.746903",
     "status": "completed"
    },
    "tags": []
   },
   "outputs": [
    {
     "name": "stderr",
     "output_type": "stream",
     "text": [
      "/Users/tanishqdrive/opt/anaconda3/lib/python3.9/site-packages/seaborn/distributions.py:2619: FutureWarning: `distplot` is a deprecated function and will be removed in a future version. Please adapt your code to use either `displot` (a figure-level function with similar flexibility) or `histplot` (an axes-level function for histograms).\n",
      "  warnings.warn(msg, FutureWarning)\n"
     ]
    },
    {
     "data": {
      "image/png": "[encoded data removed]",
      "text/plain": [
       "<Figure size 432x288 with 1 Axes>"
      ]
     },
     "metadata": {
      "needs_background": "light"
     },
     "output_type": "display_data"
    }
   ],
   "source": [
    "ax = sns.distplot(df_train['LotFrontage'])"
   ]
  },
  {
   "cell_type": "code",
   "execution_count": 472,
   "id": "d7db344e",
   "metadata": {
    "papermill": {
     "duration": 0.318084,
     "end_time": "2022-03-10T15:47:08.714351",
     "exception": false,
     "start_time": "2022-03-10T15:47:08.396267",
     "status": "completed"
    },
    "tags": []
   },
   "outputs": [
    {
     "data": {
      "image/png": "[encoded data removed]",
      "text/plain": [
       "<Figure size 432x288 with 1 Axes>"
      ]
     },
     "metadata": {
      "needs_background": "light"
     },
     "output_type": "display_data"
    }
   ],
   "source": [
    "ax = sns.boxplot(x=df_train['LotFrontage'])"
   ]
  },
  {
   "cell_type": "code",
   "execution_count": 473,
   "id": "8aea96ac",
   "metadata": {
    "papermill": {
     "duration": 0.167237,
     "end_time": "2022-03-10T15:47:09.035484",
     "exception": false,
     "start_time": "2022-03-10T15:47:08.868247",
     "status": "completed"
    },
    "tags": []
   },
   "outputs": [],
   "source": [
    "df_train['LotFrontage'].fillna(df_train.LotFrontage.median(), inplace = True)"
   ]
  },
  {
   "cell_type": "code",
   "execution_count": 474,
   "id": "b246bee5",
   "metadata": {
    "papermill": {
     "duration": 0.477356,
     "end_time": "2022-03-10T15:47:09.671689",
     "exception": false,
     "start_time": "2022-03-10T15:47:09.194333",
     "status": "completed"
    },
    "tags": []
   },
   "outputs": [
    {
     "name": "stderr",
     "output_type": "stream",
     "text": [
      "/Users/tanishqdrive/opt/anaconda3/lib/python3.9/site-packages/seaborn/distributions.py:2619: FutureWarning: `distplot` is a deprecated function and will be removed in a future version. Please adapt your code to use either `displot` (a figure-level function with similar flexibility) or `histplot` (an axes-level function for histograms).\n",
      "  warnings.warn(msg, FutureWarning)\n"
     ]
    },
    {
     "data": {
      "image/png": "[encoded data removed]",
      "text/plain": [
       "<Figure size 432x288 with 1 Axes>"
      ]
     },
     "metadata": {
      "needs_background": "light"
     },
     "output_type": "display_data"
    }
   ],
   "source": [
    "ax = sns.distplot(df_train['LotFrontage'])"
   ]
  },
  {
   "cell_type": "code",
   "execution_count": 475,
   "id": "a01681fc",
   "metadata": {
    "papermill": {
     "duration": 0.324528,
     "end_time": "2022-03-10T15:47:10.151910",
     "exception": false,
     "start_time": "2022-03-10T15:47:09.827382",
     "status": "completed"
    },
    "tags": []
   },
   "outputs": [
    {
     "data": {
      "image/png": "[encoded data removed]",
      "text/plain": [
       "<Figure size 432x288 with 1 Axes>"
      ]
     },
     "metadata": {
      "needs_background": "light"
     },
     "output_type": "display_data"
    }
   ],
   "source": [
    "ax = sns.boxplot(x=df_train['LotFrontage'])"
   ]
  },
  {
   "cell_type": "code",
   "execution_count": 476,
   "id": "682b7551",
   "metadata": {
    "papermill": {
     "duration": 0.173773,
     "end_time": "2022-03-10T15:47:10.480301",
     "exception": false,
     "start_time": "2022-03-10T15:47:10.306528",
     "status": "completed"
    },
    "tags": []
   },
   "outputs": [
    {
     "data": {
      "text/plain": [
       "Id               0\n",
       "MSSubClass       0\n",
       "MSZoning         0\n",
       "LotFrontage      0\n",
       "LotArea          0\n",
       "                ..\n",
       "MoSold           0\n",
       "YrSold           0\n",
       "SaleType         0\n",
       "SaleCondition    0\n",
       "SalePrice        0\n",
       "Length: 81, dtype: int64"
      ]
     },
     "execution_count": 476,
     "metadata": {},
     "output_type": "execute_result"
    }
   ],
   "source": [
    "df_train.isnull().sum()"
   ]
  },
  {
   "cell_type": "code",
   "execution_count": 477,
   "id": "8c76f9a8",
   "metadata": {
    "papermill": {
     "duration": 0.374081,
     "end_time": "2022-03-10T15:47:11.010467",
     "exception": false,
     "start_time": "2022-03-10T15:47:10.636386",
     "status": "completed"
    },
    "tags": []
   },
   "outputs": [
    {
     "data": {
      "image/png": "[encoded data removed]",
      "text/plain": [
       "<Figure size 432x288 with 1 Axes>"
      ]
     },
     "metadata": {
      "needs_background": "light"
     },
     "output_type": "display_data"
    }
   ],
   "source": [
    "fig, ax = plt.subplots()\n",
    "ax.scatter(x = df_train['GrLivArea'], y = df_train['SalePrice'])\n",
    "plt.ylabel('SalePrice', fontsize=13)\n",
    "plt.xlabel('GrLivArea', fontsize=13)\n",
    "plt.show()"
   ]
  },
  {
   "cell_type": "code",
   "execution_count": 478,
   "id": "2a6f3f6e",
   "metadata": {
    "papermill": {
     "duration": 0.483239,
     "end_time": "2022-03-10T15:47:11.651139",
     "exception": false,
     "start_time": "2022-03-10T15:47:11.167900",
     "status": "completed"
    },
    "tags": []
   },
   "outputs": [
    {
     "name": "stderr",
     "output_type": "stream",
     "text": [
      "/Users/tanishqdrive/opt/anaconda3/lib/python3.9/site-packages/seaborn/distributions.py:2619: FutureWarning: `distplot` is a deprecated function and will be removed in a future version. Please adapt your code to use either `displot` (a figure-level function with similar flexibility) or `histplot` (an axes-level function for histograms).\n",
      "  warnings.warn(msg, FutureWarning)\n"
     ]
    },
    {
     "data": {
      "image/png": "[encoded data removed]",
      "text/plain": [
       "<Figure size 432x288 with 1 Axes>"
      ]
     },
     "metadata": {
      "needs_background": "light"
     },
     "output_type": "display_data"
    }
   ],
   "source": [
    "ax = sns.distplot(df_train['SalePrice'])"
   ]
  },
  {
   "cell_type": "code",
   "execution_count": 479,
   "id": "a3b5cb0d",
   "metadata": {
    "papermill": {
     "duration": 0.341737,
     "end_time": "2022-03-10T15:47:12.151890",
     "exception": false,
     "start_time": "2022-03-10T15:47:11.810153",
     "status": "completed"
    },
    "tags": []
   },
   "outputs": [
    {
     "data": {
      "image/png": "[encoded data removed]",
      "text/plain": [
       "<Figure size 432x288 with 1 Axes>"
      ]
     },
     "metadata": {
      "needs_background": "light"
     },
     "output_type": "display_data"
    }
   ],
   "source": [
    "ax = sns.boxplot(x=df_train['SalePrice'])"
   ]
  },
  {
   "cell_type": "code",
   "execution_count": 480,
   "id": "eb9045e5",
   "metadata": {
    "papermill": {
     "duration": 0.172657,
     "end_time": "2022-03-10T15:47:12.485589",
     "exception": false,
     "start_time": "2022-03-10T15:47:12.312932",
     "status": "completed"
    },
    "tags": []
   },
   "outputs": [],
   "source": [
    "df_train = df_train.drop(df_train[(df_train['GrLivArea']>4000) & (df_train['SalePrice']<300000)].index)"
   ]
  },
  {
   "cell_type": "code",
   "execution_count": 481,
   "id": "c48780ba",
   "metadata": {
    "papermill": {
     "duration": 0.489252,
     "end_time": "2022-03-10T15:47:13.135053",
     "exception": false,
     "start_time": "2022-03-10T15:47:12.645801",
     "status": "completed"
    },
    "tags": []
   },
   "outputs": [
    {
     "data": {
      "image/png": "[encoded data removed]",
      "text/plain": [
       "<Figure size 432x288 with 1 Axes>"
      ]
     },
     "metadata": {
      "needs_background": "light"
     },
     "output_type": "display_data"
    }
   ],
   "source": [
    "fig, ax = plt.subplots()\n",
    "ax.scatter(df_train['GrLivArea'], df_train['SalePrice'])\n",
    "plt.ylabel('SalePrice', fontsize=13)\n",
    "plt.xlabel('GrLivArea', fontsize=13)\n",
    "plt.show()"
   ]
  },
  {
   "cell_type": "code",
   "execution_count": 482,
   "id": "1d84b74f",
   "metadata": {
    "papermill": {
     "duration": 0.337663,
     "end_time": "2022-03-10T15:47:13.640712",
     "exception": false,
     "start_time": "2022-03-10T15:47:13.303049",
     "status": "completed"
    },
    "tags": []
   },
   "outputs": [
    {
     "data": {
      "image/png": "[encoded data removed]",
      "text/plain": [
       "<Figure size 432x288 with 1 Axes>"
      ]
     },
     "metadata": {
      "needs_background": "light"
     },
     "output_type": "display_data"
    }
   ],
   "source": [
    "ax = sns.boxplot(x=df_train['SalePrice'])"
   ]
  },
  {
   "cell_type": "code",
   "execution_count": 483,
   "id": "9be087ab",
   "metadata": {
    "papermill": {
     "duration": 0.516114,
     "end_time": "2022-03-10T15:47:14.318712",
     "exception": false,
     "start_time": "2022-03-10T15:47:13.802598",
     "status": "completed"
    },
    "tags": []
   },
   "outputs": [
    {
     "name": "stderr",
     "output_type": "stream",
     "text": [
      "/Users/tanishqdrive/opt/anaconda3/lib/python3.9/site-packages/seaborn/distributions.py:2619: FutureWarning: `distplot` is a deprecated function and will be removed in a future version. Please adapt your code to use either `displot` (a figure-level function with similar flexibility) or `histplot` (an axes-level function for histograms).\n",
      "  warnings.warn(msg, FutureWarning)\n"
     ]
    },
    {
     "data": {
      "image/png": "[encoded data removed]",
      "text/plain": [
       "<Figure size 432x288 with 1 Axes>"
      ]
     },
     "metadata": {
      "needs_background": "light"
     },
     "output_type": "display_data"
    }
   ],
   "source": [
    "ax = sns.distplot(df_train['SalePrice'])"
   ]
  },
  {
   "cell_type": "code",
   "execution_count": 484,
   "id": "6359bc3a",
   "metadata": {
    "papermill": {
     "duration": 0.173079,
     "end_time": "2022-03-10T15:47:14.656010",
     "exception": false,
     "start_time": "2022-03-10T15:47:14.482931",
     "status": "completed"
    },
    "tags": []
   },
   "outputs": [],
   "source": [
    "df_train[\"SalePrice\"] = np.log1p(df_train[\"SalePrice\"])"
   ]
  },
  {
   "cell_type": "code",
   "execution_count": 485,
   "id": "f970f4cb",
   "metadata": {
    "papermill": {
     "duration": 0.472215,
     "end_time": "2022-03-10T15:47:15.291523",
     "exception": false,
     "start_time": "2022-03-10T15:47:14.819308",
     "status": "completed"
    },
    "tags": []
   },
   "outputs": [
    {
     "name": "stderr",
     "output_type": "stream",
     "text": [
      "/Users/tanishqdrive/opt/anaconda3/lib/python3.9/site-packages/seaborn/distributions.py:2619: FutureWarning: `distplot` is a deprecated function and will be removed in a future version. Please adapt your code to use either `displot` (a figure-level function with similar flexibility) or `histplot` (an axes-level function for histograms).\n",
      "  warnings.warn(msg, FutureWarning)\n"
     ]
    },
    {
     "data": {
      "image/png": "[encoded data removed]",
      "text/plain": [
       "<Figure size 432x288 with 1 Axes>"
      ]
     },
     "metadata": {
      "needs_background": "light"
     },
     "output_type": "display_data"
    }
   ],
   "source": [
    "ax = sns.distplot(df_train['SalePrice'])"
   ]
  },
  {
   "cell_type": "code",
   "execution_count": 486,
   "id": "419a33d0",
   "metadata": {
    "papermill": {
     "duration": 0.173155,
     "end_time": "2022-03-10T15:47:15.630156",
     "exception": false,
     "start_time": "2022-03-10T15:47:15.457001",
     "status": "completed"
    },
    "tags": []
   },
   "outputs": [
    {
     "data": {
      "text/plain": [
       "(1458, 81)"
      ]
     },
     "metadata": {},
     "output_type": "display_data"
    }
   ],
   "source": [
    "ntrain = df_train.shape\n",
    "display (ntrain)"
   ]
  },
  {
   "cell_type": "code",
   "execution_count": 487,
   "id": "f9113c67",
   "metadata": {
    "papermill": {
     "duration": 0.188851,
     "end_time": "2022-03-10T15:47:15.984777",
     "exception": false,
     "start_time": "2022-03-10T15:47:15.795926",
     "status": "completed"
    },
    "tags": []
   },
   "outputs": [
    {
     "data": {
      "text/html": [
       "<div>\n",
       "<style scoped>\n",
       "    .dataframe tbody tr th:only-of-type {\n",
       "        vertical-align: middle;\n",
       "    }\n",
       "\n",
       "    .dataframe tbody tr th {\n",
       "        vertical-align: top;\n",
       "    }\n",
       "\n",
       "    .dataframe thead th {\n",
       "        text-align: right;\n",
       "    }\n",
       "</style>\n",
       "<table border=\"1\" class=\"dataframe\">\n",
       "  <thead>\n",
       "    <tr style=\"text-align: right;\">\n",
       "      <th></th>\n",
       "      <th>Missing Ratio</th>\n",
       "    </tr>\n",
       "  </thead>\n",
       "  <tbody>\n",
       "    <tr>\n",
       "      <th>PoolQC</th>\n",
       "      <td>99.588477</td>\n",
       "    </tr>\n",
       "    <tr>\n",
       "      <th>MiscFeature</th>\n",
       "      <td>96.296296</td>\n",
       "    </tr>\n",
       "    <tr>\n",
       "      <th>Alley</th>\n",
       "      <td>93.758573</td>\n",
       "    </tr>\n",
       "    <tr>\n",
       "      <th>Fence</th>\n",
       "      <td>80.727023</td>\n",
       "    </tr>\n",
       "    <tr>\n",
       "      <th>FireplaceQu</th>\n",
       "      <td>47.325103</td>\n",
       "    </tr>\n",
       "    <tr>\n",
       "      <th>GarageType</th>\n",
       "      <td>5.555556</td>\n",
       "    </tr>\n",
       "    <tr>\n",
       "      <th>GarageYrBlt</th>\n",
       "      <td>5.555556</td>\n",
       "    </tr>\n",
       "    <tr>\n",
       "      <th>GarageFinish</th>\n",
       "      <td>5.555556</td>\n",
       "    </tr>\n",
       "    <tr>\n",
       "      <th>GarageQual</th>\n",
       "      <td>5.555556</td>\n",
       "    </tr>\n",
       "    <tr>\n",
       "      <th>GarageCond</th>\n",
       "      <td>5.555556</td>\n",
       "    </tr>\n",
       "    <tr>\n",
       "      <th>BsmtExposure</th>\n",
       "      <td>2.606310</td>\n",
       "    </tr>\n",
       "    <tr>\n",
       "      <th>BsmtFinType2</th>\n",
       "      <td>2.606310</td>\n",
       "    </tr>\n",
       "    <tr>\n",
       "      <th>BsmtQual</th>\n",
       "      <td>2.537723</td>\n",
       "    </tr>\n",
       "    <tr>\n",
       "      <th>BsmtCond</th>\n",
       "      <td>2.537723</td>\n",
       "    </tr>\n",
       "    <tr>\n",
       "      <th>BsmtFinType1</th>\n",
       "      <td>2.537723</td>\n",
       "    </tr>\n",
       "    <tr>\n",
       "      <th>MasVnrType</th>\n",
       "      <td>0.548697</td>\n",
       "    </tr>\n",
       "    <tr>\n",
       "      <th>MasVnrArea</th>\n",
       "      <td>0.548697</td>\n",
       "    </tr>\n",
       "    <tr>\n",
       "      <th>Electrical</th>\n",
       "      <td>0.068587</td>\n",
       "    </tr>\n",
       "  </tbody>\n",
       "</table>\n",
       "</div>"
      ],
      "text/plain": [
       "              Missing Ratio\n",
       "PoolQC            99.588477\n",
       "MiscFeature       96.296296\n",
       "Alley             93.758573\n",
       "Fence             80.727023\n",
       "FireplaceQu       47.325103\n",
       "GarageType         5.555556\n",
       "GarageYrBlt        5.555556\n",
       "GarageFinish       5.555556\n",
       "GarageQual         5.555556\n",
       "GarageCond         5.555556\n",
       "BsmtExposure       2.606310\n",
       "BsmtFinType2       2.606310\n",
       "BsmtQual           2.537723\n",
       "BsmtCond           2.537723\n",
       "BsmtFinType1       2.537723\n",
       "MasVnrType         0.548697\n",
       "MasVnrArea         0.548697\n",
       "Electrical         0.068587"
      ]
     },
     "execution_count": 487,
     "metadata": {},
     "output_type": "execute_result"
    }
   ],
   "source": [
    "df_train_nu = (df_train.isnull().sum() / len(df_train)) * 100\n",
    "df_train_nu = df_train_nu.drop(df_train_nu[df_train_nu == 0].index).sort_values(ascending=False)[:30]\n",
    "missing_data = pd.DataFrame({'Missing Ratio' :df_train_nu})\n",
    "missing_data.head(100)"
   ]
  },
  {
   "cell_type": "code",
   "execution_count": 488,
   "id": "71b233b5",
   "metadata": {
    "papermill": {
     "duration": 0.554325,
     "end_time": "2022-03-10T15:47:16.706726",
     "exception": false,
     "start_time": "2022-03-10T15:47:16.152401",
     "status": "completed"
    },
    "tags": []
   },
   "outputs": [
    {
     "data": {
      "text/plain": [
       "Text(0.5, 1.0, 'Percent missing data by feature')"
      ]
     },
     "execution_count": 488,
     "metadata": {},
     "output_type": "execute_result"
    },
    {
     "data": {
      "image/png": "[encoded data removed]",
      "text/plain": [
       "<Figure size 1080x864 with 1 Axes>"
      ]
     },
     "metadata": {
      "needs_background": "light"
     },
     "output_type": "display_data"
    }
   ],
   "source": [
    "f, ax = plt.subplots(figsize=(15, 12))\n",
    "plt.xticks(rotation='90')\n",
    "sns.barplot(x=df_train_nu.index, y=df_train_nu)\n",
    "plt.xlabel('Features', fontsize=15)\n",
    "plt.ylabel('Percent of missing values', fontsize=15)\n",
    "plt.title('Percent missing data by feature', fontsize=15)"
   ]
  },
  {
   "cell_type": "code",
   "execution_count": 489,
   "id": "b917fc9b",
   "metadata": {
    "papermill": {
     "duration": 0.198841,
     "end_time": "2022-03-10T15:47:17.071728",
     "exception": false,
     "start_time": "2022-03-10T15:47:16.872887",
     "status": "completed"
    },
    "tags": []
   },
   "outputs": [
    {
     "name": "stdout",
     "output_type": "stream",
     "text": [
      "<class 'pandas.core.frame.DataFrame'>\n",
      "Int64Index: 1458 entries, 0 to 1459\n",
      "Data columns (total 81 columns):\n",
      " #   Column         Non-Null Count  Dtype  \n",
      "---  ------         --------------  -----  \n",
      " 0   Id             1458 non-null   int64  \n",
      " 1   MSSubClass     1458 non-null   int64  \n",
      " 2   MSZoning       1458 non-null   object \n",
      " 3   LotFrontage    1458 non-null   float64\n",
      " 4   LotArea        1458 non-null   int64  \n",
      " 5   Street         1458 non-null   object \n",
      " 6   Alley          91 non-null     object \n",
      " 7   LotShape       1458 non-null   object \n",
      " 8   LandContour    1458 non-null   object \n",
      " 9   Utilities      1458 non-null   object \n",
      " 10  LotConfig      1458 non-null   object \n",
      " 11  LandSlope      1458 non-null   object \n",
      " 12  Neighborhood   1458 non-null   object \n",
      " 13  Condition1     1458 non-null   object \n",
      " 14  Condition2     1458 non-null   object \n",
      " 15  BldgType       1458 non-null   object \n",
      " 16  HouseStyle     1458 non-null   object \n",
      " 17  OverallQual    1458 non-null   int64  \n",
      " 18  OverallCond    1458 non-null   int64  \n",
      " 19  YearBuilt      1458 non-null   int64  \n",
      " 20  YearRemodAdd   1458 non-null   int64  \n",
      " 21  RoofStyle      1458 non-null   object \n",
      " 22  RoofMatl       1458 non-null   object \n",
      " 23  Exterior1st    1458 non-null   object \n",
      " 24  Exterior2nd    1458 non-null   object \n",
      " 25  MasVnrType     1450 non-null   object \n",
      " 26  MasVnrArea     1450 non-null   float64\n",
      " 27  ExterQual      1458 non-null   object \n",
      " 28  ExterCond      1458 non-null   object \n",
      " 29  Foundation     1458 non-null   object \n",
      " 30  BsmtQual       1421 non-null   object \n",
      " 31  BsmtCond       1421 non-null   object \n",
      " 32  BsmtExposure   1420 non-null   object \n",
      " 33  BsmtFinType1   1421 non-null   object \n",
      " 34  BsmtFinSF1     1458 non-null   int64  \n",
      " 35  BsmtFinType2   1420 non-null   object \n",
      " 36  BsmtFinSF2     1458 non-null   int64  \n",
      " 37  BsmtUnfSF      1458 non-null   int64  \n",
      " 38  TotalBsmtSF    1458 non-null   int64  \n",
      " 39  Heating        1458 non-null   object \n",
      " 40  HeatingQC      1458 non-null   object \n",
      " 41  CentralAir     1458 non-null   object \n",
      " 42  Electrical     1457 non-null   object \n",
      " 43  1stFlrSF       1458 non-null   int64  \n",
      " 44  2ndFlrSF       1458 non-null   int64  \n",
      " 45  LowQualFinSF   1458 non-null   int64  \n",
      " 46  GrLivArea      1458 non-null   int64  \n",
      " 47  BsmtFullBath   1458 non-null   int64  \n",
      " 48  BsmtHalfBath   1458 non-null   int64  \n",
      " 49  FullBath       1458 non-null   int64  \n",
      " 50  HalfBath       1458 non-null   int64  \n",
      " 51  BedroomAbvGr   1458 non-null   int64  \n",
      " 52  KitchenAbvGr   1458 non-null   int64  \n",
      " 53  KitchenQual    1458 non-null   object \n",
      " 54  TotRmsAbvGrd   1458 non-null   int64  \n",
      " 55  Functional     1458 non-null   object \n",
      " 56  Fireplaces     1458 non-null   int64  \n",
      " 57  FireplaceQu    768 non-null    object \n",
      " 58  GarageType     1377 non-null   object \n",
      " 59  GarageYrBlt    1377 non-null   float64\n",
      " 60  GarageFinish   1377 non-null   object \n",
      " 61  GarageCars     1458 non-null   int64  \n",
      " 62  GarageArea     1458 non-null   int64  \n",
      " 63  GarageQual     1377 non-null   object \n",
      " 64  GarageCond     1377 non-null   object \n",
      " 65  PavedDrive     1458 non-null   object \n",
      " 66  WoodDeckSF     1458 non-null   int64  \n",
      " 67  OpenPorchSF    1458 non-null   int64  \n",
      " 68  EnclosedPorch  1458 non-null   int64  \n",
      " 69  3SsnPorch      1458 non-null   int64  \n",
      " 70  ScreenPorch    1458 non-null   int64  \n",
      " 71  PoolArea       1458 non-null   int64  \n",
      " 72  PoolQC         6 non-null      object \n",
      " 73  Fence          281 non-null    object \n",
      " 74  MiscFeature    54 non-null     object \n",
      " 75  MiscVal        1458 non-null   int64  \n",
      " 76  MoSold         1458 non-null   int64  \n",
      " 77  YrSold         1458 non-null   int64  \n",
      " 78  SaleType       1458 non-null   object \n",
      " 79  SaleCondition  1458 non-null   object \n",
      " 80  SalePrice      1458 non-null   float64\n",
      "dtypes: float64(4), int64(34), object(43)\n",
      "memory usage: 934.0+ KB\n"
     ]
    }
   ],
   "source": [
    "df_train.info()"
   ]
  },
  {
   "cell_type": "code",
   "execution_count": 490,
   "id": "2f4e69c9",
   "metadata": {
    "papermill": {
     "duration": 0.180856,
     "end_time": "2022-03-10T15:47:17.420470",
     "exception": false,
     "start_time": "2022-03-10T15:47:17.239614",
     "status": "completed"
    },
    "tags": []
   },
   "outputs": [
    {
     "data": {
      "text/plain": [
       "1452"
      ]
     },
     "execution_count": 490,
     "metadata": {},
     "output_type": "execute_result"
    }
   ],
   "source": [
    "df_train.PoolQC.isnull().sum()"
   ]
  },
  {
   "cell_type": "code",
   "execution_count": 491,
   "id": "3b047e66",
   "metadata": {
    "papermill": {
     "duration": 0.179473,
     "end_time": "2022-03-10T15:47:17.767503",
     "exception": false,
     "start_time": "2022-03-10T15:47:17.588030",
     "status": "completed"
    },
    "tags": []
   },
   "outputs": [
    {
     "data": {
      "text/plain": [
       "1404"
      ]
     },
     "execution_count": 491,
     "metadata": {},
     "output_type": "execute_result"
    }
   ],
   "source": [
    "df_train['MiscFeature'].isnull().sum()"
   ]
  },
  {
   "cell_type": "code",
   "execution_count": 492,
   "id": "b7fed0c9",
   "metadata": {
    "papermill": {
     "duration": 0.179119,
     "end_time": "2022-03-10T15:47:18.117770",
     "exception": false,
     "start_time": "2022-03-10T15:47:17.938651",
     "status": "completed"
    },
    "tags": []
   },
   "outputs": [
    {
     "data": {
      "text/plain": [
       "1367"
      ]
     },
     "execution_count": 492,
     "metadata": {},
     "output_type": "execute_result"
    }
   ],
   "source": [
    "df_train['Alley'].isnull().sum()"
   ]
  },
  {
   "cell_type": "code",
   "execution_count": 493,
   "id": "e45af0ce",
   "metadata": {
    "papermill": {
     "duration": 0.180586,
     "end_time": "2022-03-10T15:47:18.466955",
     "exception": false,
     "start_time": "2022-03-10T15:47:18.286369",
     "status": "completed"
    },
    "tags": []
   },
   "outputs": [
    {
     "data": {
      "text/plain": [
       "1177"
      ]
     },
     "execution_count": 493,
     "metadata": {},
     "output_type": "execute_result"
    }
   ],
   "source": [
    "df_train['Fence'].isnull().sum()"
   ]
  },
  {
   "cell_type": "code",
   "execution_count": 494,
   "id": "16674baf",
   "metadata": {
    "papermill": {
     "duration": 0.179462,
     "end_time": "2022-03-10T15:47:18.818123",
     "exception": false,
     "start_time": "2022-03-10T15:47:18.638661",
     "status": "completed"
    },
    "tags": []
   },
   "outputs": [
    {
     "data": {
      "text/plain": [
       "690"
      ]
     },
     "execution_count": 494,
     "metadata": {},
     "output_type": "execute_result"
    }
   ],
   "source": [
    "df_train['FireplaceQu'].isnull().sum()"
   ]
  },
  {
   "cell_type": "code",
   "execution_count": 495,
   "id": "1b330ba6",
   "metadata": {
    "papermill": {
     "duration": 0.224893,
     "end_time": "2022-03-10T15:47:19.213096",
     "exception": false,
     "start_time": "2022-03-10T15:47:18.988203",
     "status": "completed"
    },
    "tags": []
   },
   "outputs": [
    {
     "data": {
      "text/html": [
       "<div>\n",
       "<style scoped>\n",
       "    .dataframe tbody tr th:only-of-type {\n",
       "        vertical-align: middle;\n",
       "    }\n",
       "\n",
       "    .dataframe tbody tr th {\n",
       "        vertical-align: top;\n",
       "    }\n",
       "\n",
       "    .dataframe thead th {\n",
       "        text-align: right;\n",
       "    }\n",
       "</style>\n",
       "<table border=\"1\" class=\"dataframe\">\n",
       "  <thead>\n",
       "    <tr style=\"text-align: right;\">\n",
       "      <th></th>\n",
       "      <th>Id</th>\n",
       "      <th>MSSubClass</th>\n",
       "      <th>MSZoning</th>\n",
       "      <th>LotFrontage</th>\n",
       "      <th>LotArea</th>\n",
       "      <th>Street</th>\n",
       "      <th>LotShape</th>\n",
       "      <th>LandContour</th>\n",
       "      <th>Utilities</th>\n",
       "      <th>LotConfig</th>\n",
       "      <th>...</th>\n",
       "      <th>EnclosedPorch</th>\n",
       "      <th>3SsnPorch</th>\n",
       "      <th>ScreenPorch</th>\n",
       "      <th>PoolArea</th>\n",
       "      <th>MiscVal</th>\n",
       "      <th>MoSold</th>\n",
       "      <th>YrSold</th>\n",
       "      <th>SaleType</th>\n",
       "      <th>SaleCondition</th>\n",
       "      <th>SalePrice</th>\n",
       "    </tr>\n",
       "  </thead>\n",
       "  <tbody>\n",
       "    <tr>\n",
       "      <th>0</th>\n",
       "      <td>1</td>\n",
       "      <td>60</td>\n",
       "      <td>RL</td>\n",
       "      <td>65.0</td>\n",
       "      <td>8450</td>\n",
       "      <td>Pave</td>\n",
       "      <td>Reg</td>\n",
       "      <td>Lvl</td>\n",
       "      <td>AllPub</td>\n",
       "      <td>Inside</td>\n",
       "      <td>...</td>\n",
       "      <td>0</td>\n",
       "      <td>0</td>\n",
       "      <td>0</td>\n",
       "      <td>0</td>\n",
       "      <td>0</td>\n",
       "      <td>2</td>\n",
       "      <td>2008</td>\n",
       "      <td>WD</td>\n",
       "      <td>Normal</td>\n",
       "      <td>12.247699</td>\n",
       "    </tr>\n",
       "    <tr>\n",
       "      <th>1</th>\n",
       "      <td>2</td>\n",
       "      <td>20</td>\n",
       "      <td>RL</td>\n",
       "      <td>80.0</td>\n",
       "      <td>9600</td>\n",
       "      <td>Pave</td>\n",
       "      <td>Reg</td>\n",
       "      <td>Lvl</td>\n",
       "      <td>AllPub</td>\n",
       "      <td>FR2</td>\n",
       "      <td>...</td>\n",
       "      <td>0</td>\n",
       "      <td>0</td>\n",
       "      <td>0</td>\n",
       "      <td>0</td>\n",
       "      <td>0</td>\n",
       "      <td>5</td>\n",
       "      <td>2007</td>\n",
       "      <td>WD</td>\n",
       "      <td>Normal</td>\n",
       "      <td>12.109016</td>\n",
       "    </tr>\n",
       "    <tr>\n",
       "      <th>2</th>\n",
       "      <td>3</td>\n",
       "      <td>60</td>\n",
       "      <td>RL</td>\n",
       "      <td>68.0</td>\n",
       "      <td>11250</td>\n",
       "      <td>Pave</td>\n",
       "      <td>IR1</td>\n",
       "      <td>Lvl</td>\n",
       "      <td>AllPub</td>\n",
       "      <td>Inside</td>\n",
       "      <td>...</td>\n",
       "      <td>0</td>\n",
       "      <td>0</td>\n",
       "      <td>0</td>\n",
       "      <td>0</td>\n",
       "      <td>0</td>\n",
       "      <td>9</td>\n",
       "      <td>2008</td>\n",
       "      <td>WD</td>\n",
       "      <td>Normal</td>\n",
       "      <td>12.317171</td>\n",
       "    </tr>\n",
       "    <tr>\n",
       "      <th>3</th>\n",
       "      <td>4</td>\n",
       "      <td>70</td>\n",
       "      <td>RL</td>\n",
       "      <td>60.0</td>\n",
       "      <td>9550</td>\n",
       "      <td>Pave</td>\n",
       "      <td>IR1</td>\n",
       "      <td>Lvl</td>\n",
       "      <td>AllPub</td>\n",
       "      <td>Corner</td>\n",
       "      <td>...</td>\n",
       "      <td>272</td>\n",
       "      <td>0</td>\n",
       "      <td>0</td>\n",
       "      <td>0</td>\n",
       "      <td>0</td>\n",
       "      <td>2</td>\n",
       "      <td>2006</td>\n",
       "      <td>WD</td>\n",
       "      <td>Abnorml</td>\n",
       "      <td>11.849405</td>\n",
       "    </tr>\n",
       "    <tr>\n",
       "      <th>4</th>\n",
       "      <td>5</td>\n",
       "      <td>60</td>\n",
       "      <td>RL</td>\n",
       "      <td>84.0</td>\n",
       "      <td>14260</td>\n",
       "      <td>Pave</td>\n",
       "      <td>IR1</td>\n",
       "      <td>Lvl</td>\n",
       "      <td>AllPub</td>\n",
       "      <td>FR2</td>\n",
       "      <td>...</td>\n",
       "      <td>0</td>\n",
       "      <td>0</td>\n",
       "      <td>0</td>\n",
       "      <td>0</td>\n",
       "      <td>0</td>\n",
       "      <td>12</td>\n",
       "      <td>2008</td>\n",
       "      <td>WD</td>\n",
       "      <td>Normal</td>\n",
       "      <td>12.429220</td>\n",
       "    </tr>\n",
       "    <tr>\n",
       "      <th>...</th>\n",
       "      <td>...</td>\n",
       "      <td>...</td>\n",
       "      <td>...</td>\n",
       "      <td>...</td>\n",
       "      <td>...</td>\n",
       "      <td>...</td>\n",
       "      <td>...</td>\n",
       "      <td>...</td>\n",
       "      <td>...</td>\n",
       "      <td>...</td>\n",
       "      <td>...</td>\n",
       "      <td>...</td>\n",
       "      <td>...</td>\n",
       "      <td>...</td>\n",
       "      <td>...</td>\n",
       "      <td>...</td>\n",
       "      <td>...</td>\n",
       "      <td>...</td>\n",
       "      <td>...</td>\n",
       "      <td>...</td>\n",
       "      <td>...</td>\n",
       "    </tr>\n",
       "    <tr>\n",
       "      <th>1455</th>\n",
       "      <td>1456</td>\n",
       "      <td>60</td>\n",
       "      <td>RL</td>\n",
       "      <td>62.0</td>\n",
       "      <td>7917</td>\n",
       "      <td>Pave</td>\n",
       "      <td>Reg</td>\n",
       "      <td>Lvl</td>\n",
       "      <td>AllPub</td>\n",
       "      <td>Inside</td>\n",
       "      <td>...</td>\n",
       "      <td>0</td>\n",
       "      <td>0</td>\n",
       "      <td>0</td>\n",
       "      <td>0</td>\n",
       "      <td>0</td>\n",
       "      <td>8</td>\n",
       "      <td>2007</td>\n",
       "      <td>WD</td>\n",
       "      <td>Normal</td>\n",
       "      <td>12.072547</td>\n",
       "    </tr>\n",
       "    <tr>\n",
       "      <th>1456</th>\n",
       "      <td>1457</td>\n",
       "      <td>20</td>\n",
       "      <td>RL</td>\n",
       "      <td>85.0</td>\n",
       "      <td>13175</td>\n",
       "      <td>Pave</td>\n",
       "      <td>Reg</td>\n",
       "      <td>Lvl</td>\n",
       "      <td>AllPub</td>\n",
       "      <td>Inside</td>\n",
       "      <td>...</td>\n",
       "      <td>0</td>\n",
       "      <td>0</td>\n",
       "      <td>0</td>\n",
       "      <td>0</td>\n",
       "      <td>0</td>\n",
       "      <td>2</td>\n",
       "      <td>2010</td>\n",
       "      <td>WD</td>\n",
       "      <td>Normal</td>\n",
       "      <td>12.254868</td>\n",
       "    </tr>\n",
       "    <tr>\n",
       "      <th>1457</th>\n",
       "      <td>1458</td>\n",
       "      <td>70</td>\n",
       "      <td>RL</td>\n",
       "      <td>66.0</td>\n",
       "      <td>9042</td>\n",
       "      <td>Pave</td>\n",
       "      <td>Reg</td>\n",
       "      <td>Lvl</td>\n",
       "      <td>AllPub</td>\n",
       "      <td>Inside</td>\n",
       "      <td>...</td>\n",
       "      <td>0</td>\n",
       "      <td>0</td>\n",
       "      <td>0</td>\n",
       "      <td>0</td>\n",
       "      <td>2500</td>\n",
       "      <td>5</td>\n",
       "      <td>2010</td>\n",
       "      <td>WD</td>\n",
       "      <td>Normal</td>\n",
       "      <td>12.493133</td>\n",
       "    </tr>\n",
       "    <tr>\n",
       "      <th>1458</th>\n",
       "      <td>1459</td>\n",
       "      <td>20</td>\n",
       "      <td>RL</td>\n",
       "      <td>68.0</td>\n",
       "      <td>9717</td>\n",
       "      <td>Pave</td>\n",
       "      <td>Reg</td>\n",
       "      <td>Lvl</td>\n",
       "      <td>AllPub</td>\n",
       "      <td>Inside</td>\n",
       "      <td>...</td>\n",
       "      <td>112</td>\n",
       "      <td>0</td>\n",
       "      <td>0</td>\n",
       "      <td>0</td>\n",
       "      <td>0</td>\n",
       "      <td>4</td>\n",
       "      <td>2010</td>\n",
       "      <td>WD</td>\n",
       "      <td>Normal</td>\n",
       "      <td>11.864469</td>\n",
       "    </tr>\n",
       "    <tr>\n",
       "      <th>1459</th>\n",
       "      <td>1460</td>\n",
       "      <td>20</td>\n",
       "      <td>RL</td>\n",
       "      <td>75.0</td>\n",
       "      <td>9937</td>\n",
       "      <td>Pave</td>\n",
       "      <td>Reg</td>\n",
       "      <td>Lvl</td>\n",
       "      <td>AllPub</td>\n",
       "      <td>Inside</td>\n",
       "      <td>...</td>\n",
       "      <td>0</td>\n",
       "      <td>0</td>\n",
       "      <td>0</td>\n",
       "      <td>0</td>\n",
       "      <td>0</td>\n",
       "      <td>6</td>\n",
       "      <td>2008</td>\n",
       "      <td>WD</td>\n",
       "      <td>Normal</td>\n",
       "      <td>11.901590</td>\n",
       "    </tr>\n",
       "  </tbody>\n",
       "</table>\n",
       "<p>1458 rows × 76 columns</p>\n",
       "</div>"
      ],
      "text/plain": [
       "        Id  MSSubClass MSZoning  LotFrontage  LotArea Street LotShape  \\\n",
       "0        1          60       RL         65.0     8450   Pave      Reg   \n",
       "1        2          20       RL         80.0     9600   Pave      Reg   \n",
       "2        3          60       RL         68.0    11250   Pave      IR1   \n",
       "3        4          70       RL         60.0     9550   Pave      IR1   \n",
       "4        5          60       RL         84.0    14260   Pave      IR1   \n",
       "...    ...         ...      ...          ...      ...    ...      ...   \n",
       "1455  1456          60       RL         62.0     7917   Pave      Reg   \n",
       "1456  1457          20       RL         85.0    13175   Pave      Reg   \n",
       "1457  1458          70       RL         66.0     9042   Pave      Reg   \n",
       "1458  1459          20       RL         68.0     9717   Pave      Reg   \n",
       "1459  1460          20       RL         75.0     9937   Pave      Reg   \n",
       "\n",
       "     LandContour Utilities LotConfig  ... EnclosedPorch 3SsnPorch ScreenPorch  \\\n",
       "0            Lvl    AllPub    Inside  ...             0         0           0   \n",
       "1            Lvl    AllPub       FR2  ...             0         0           0   \n",
       "2            Lvl    AllPub    Inside  ...             0         0           0   \n",
       "3            Lvl    AllPub    Corner  ...           272         0           0   \n",
       "4            Lvl    AllPub       FR2  ...             0         0           0   \n",
       "...          ...       ...       ...  ...           ...       ...         ...   \n",
       "1455         Lvl    AllPub    Inside  ...             0         0           0   \n",
       "1456         Lvl    AllPub    Inside  ...             0         0           0   \n",
       "1457         Lvl    AllPub    Inside  ...             0         0           0   \n",
       "1458         Lvl    AllPub    Inside  ...           112         0           0   \n",
       "1459         Lvl    AllPub    Inside  ...             0         0           0   \n",
       "\n",
       "     PoolArea MiscVal MoSold  YrSold  SaleType  SaleCondition  SalePrice  \n",
       "0           0       0      2    2008        WD         Normal  12.247699  \n",
       "1           0       0      5    2007        WD         Normal  12.109016  \n",
       "2           0       0      9    2008        WD         Normal  12.317171  \n",
       "3           0       0      2    2006        WD        Abnorml  11.849405  \n",
       "4           0       0     12    2008        WD         Normal  12.429220  \n",
       "...       ...     ...    ...     ...       ...            ...        ...  \n",
       "1455        0       0      8    2007        WD         Normal  12.072547  \n",
       "1456        0       0      2    2010        WD         Normal  12.254868  \n",
       "1457        0    2500      5    2010        WD         Normal  12.493133  \n",
       "1458        0       0      4    2010        WD         Normal  11.864469  \n",
       "1459        0       0      6    2008        WD         Normal  11.901590  \n",
       "\n",
       "[1458 rows x 76 columns]"
      ]
     },
     "execution_count": 495,
     "metadata": {},
     "output_type": "execute_result"
    }
   ],
   "source": [
    "df_train.drop(['PoolQC','MiscFeature','Alley','Fence','FireplaceQu'], axis = 1, inplace = True )\n",
    "df_train"
   ]
  },
  {
   "cell_type": "code",
   "execution_count": 496,
   "id": "aa456c35",
   "metadata": {
    "papermill": {
     "duration": 0.187358,
     "end_time": "2022-03-10T15:47:19.573430",
     "exception": false,
     "start_time": "2022-03-10T15:47:19.386072",
     "status": "completed"
    },
    "tags": []
   },
   "outputs": [
    {
     "data": {
      "text/plain": [
       "Id               0\n",
       "MSSubClass       0\n",
       "MSZoning         0\n",
       "LotFrontage      0\n",
       "LotArea          0\n",
       "                ..\n",
       "MoSold           0\n",
       "YrSold           0\n",
       "SaleType         0\n",
       "SaleCondition    0\n",
       "SalePrice        0\n",
       "Length: 76, dtype: int64"
      ]
     },
     "execution_count": 496,
     "metadata": {},
     "output_type": "execute_result"
    }
   ],
   "source": [
    "df_train.isnull().sum()"
   ]
  },
  {
   "cell_type": "code",
   "execution_count": 497,
   "id": "5d025b1f",
   "metadata": {
    "papermill": {
     "duration": 0.19578,
     "end_time": "2022-03-10T15:47:19.947059",
     "exception": false,
     "start_time": "2022-03-10T15:47:19.751279",
     "status": "completed"
    },
    "tags": []
   },
   "outputs": [
    {
     "data": {
      "text/html": [
       "<div>\n",
       "<style scoped>\n",
       "    .dataframe tbody tr th:only-of-type {\n",
       "        vertical-align: middle;\n",
       "    }\n",
       "\n",
       "    .dataframe tbody tr th {\n",
       "        vertical-align: top;\n",
       "    }\n",
       "\n",
       "    .dataframe thead th {\n",
       "        text-align: right;\n",
       "    }\n",
       "</style>\n",
       "<table border=\"1\" class=\"dataframe\">\n",
       "  <thead>\n",
       "    <tr style=\"text-align: right;\">\n",
       "      <th></th>\n",
       "      <th>Missing Ratio</th>\n",
       "    </tr>\n",
       "  </thead>\n",
       "  <tbody>\n",
       "    <tr>\n",
       "      <th>GarageType</th>\n",
       "      <td>5.555556</td>\n",
       "    </tr>\n",
       "    <tr>\n",
       "      <th>GarageYrBlt</th>\n",
       "      <td>5.555556</td>\n",
       "    </tr>\n",
       "    <tr>\n",
       "      <th>GarageFinish</th>\n",
       "      <td>5.555556</td>\n",
       "    </tr>\n",
       "    <tr>\n",
       "      <th>GarageQual</th>\n",
       "      <td>5.555556</td>\n",
       "    </tr>\n",
       "    <tr>\n",
       "      <th>GarageCond</th>\n",
       "      <td>5.555556</td>\n",
       "    </tr>\n",
       "    <tr>\n",
       "      <th>BsmtExposure</th>\n",
       "      <td>2.606310</td>\n",
       "    </tr>\n",
       "    <tr>\n",
       "      <th>BsmtFinType2</th>\n",
       "      <td>2.606310</td>\n",
       "    </tr>\n",
       "    <tr>\n",
       "      <th>BsmtQual</th>\n",
       "      <td>2.537723</td>\n",
       "    </tr>\n",
       "    <tr>\n",
       "      <th>BsmtCond</th>\n",
       "      <td>2.537723</td>\n",
       "    </tr>\n",
       "    <tr>\n",
       "      <th>BsmtFinType1</th>\n",
       "      <td>2.537723</td>\n",
       "    </tr>\n",
       "    <tr>\n",
       "      <th>MasVnrType</th>\n",
       "      <td>0.548697</td>\n",
       "    </tr>\n",
       "    <tr>\n",
       "      <th>MasVnrArea</th>\n",
       "      <td>0.548697</td>\n",
       "    </tr>\n",
       "    <tr>\n",
       "      <th>Electrical</th>\n",
       "      <td>0.068587</td>\n",
       "    </tr>\n",
       "  </tbody>\n",
       "</table>\n",
       "</div>"
      ],
      "text/plain": [
       "              Missing Ratio\n",
       "GarageType         5.555556\n",
       "GarageYrBlt        5.555556\n",
       "GarageFinish       5.555556\n",
       "GarageQual         5.555556\n",
       "GarageCond         5.555556\n",
       "BsmtExposure       2.606310\n",
       "BsmtFinType2       2.606310\n",
       "BsmtQual           2.537723\n",
       "BsmtCond           2.537723\n",
       "BsmtFinType1       2.537723\n",
       "MasVnrType         0.548697\n",
       "MasVnrArea         0.548697\n",
       "Electrical         0.068587"
      ]
     },
     "execution_count": 497,
     "metadata": {},
     "output_type": "execute_result"
    }
   ],
   "source": [
    "df_train_nu = (df_train.isnull().sum() / len(df_train)) * 100\n",
    "df_train_nu = df_train_nu.drop(df_train_nu[df_train_nu == 0].index).sort_values(ascending=False)[:30]\n",
    "missing_data = pd.DataFrame({'Missing Ratio' :df_train_nu})\n",
    "missing_data.head(100)"
   ]
  },
  {
   "cell_type": "code",
   "execution_count": 498,
   "id": "2d61356d",
   "metadata": {
    "papermill": {
     "duration": 0.182049,
     "end_time": "2022-03-10T15:47:20.302255",
     "exception": false,
     "start_time": "2022-03-10T15:47:20.120206",
     "status": "completed"
    },
    "tags": []
   },
   "outputs": [
    {
     "data": {
      "text/plain": [
       "0       Attchd\n",
       "1       Attchd\n",
       "2       Attchd\n",
       "3       Detchd\n",
       "4       Attchd\n",
       "         ...  \n",
       "1455    Attchd\n",
       "1456    Attchd\n",
       "1457    Attchd\n",
       "1458    Attchd\n",
       "1459    Attchd\n",
       "Name: GarageType, Length: 1458, dtype: object"
      ]
     },
     "execution_count": 498,
     "metadata": {},
     "output_type": "execute_result"
    }
   ],
   "source": [
    "df_train.GarageType"
   ]
  },
  {
   "cell_type": "code",
   "execution_count": 499,
   "id": "0f57a88f",
   "metadata": {
    "papermill": {
     "duration": 0.182697,
     "end_time": "2022-03-10T15:47:20.661529",
     "exception": false,
     "start_time": "2022-03-10T15:47:20.478832",
     "status": "completed"
    },
    "tags": []
   },
   "outputs": [
    {
     "data": {
      "text/plain": [
       "81"
      ]
     },
     "execution_count": 499,
     "metadata": {},
     "output_type": "execute_result"
    }
   ],
   "source": [
    "df_train['GarageType'].isnull().sum()"
   ]
  },
  {
   "cell_type": "code",
   "execution_count": 500,
   "id": "680ae3af",
   "metadata": {
    "papermill": {
     "duration": 0.182987,
     "end_time": "2022-03-10T15:47:21.021459",
     "exception": false,
     "start_time": "2022-03-10T15:47:20.838472",
     "status": "completed"
    },
    "tags": []
   },
   "outputs": [],
   "source": [
    "df_train['GarageType'].fillna(df_train['GarageType'].mode()[0], inplace = True)"
   ]
  },
  {
   "cell_type": "code",
   "execution_count": 501,
   "id": "0a74f1a1",
   "metadata": {
    "papermill": {
     "duration": 0.184417,
     "end_time": "2022-03-10T15:47:21.378064",
     "exception": false,
     "start_time": "2022-03-10T15:47:21.193647",
     "status": "completed"
    },
    "tags": []
   },
   "outputs": [
    {
     "data": {
      "text/plain": [
       "'Attchd'"
      ]
     },
     "execution_count": 501,
     "metadata": {},
     "output_type": "execute_result"
    }
   ],
   "source": [
    "df_train['GarageType'].mode()[0]"
   ]
  },
  {
   "cell_type": "code",
   "execution_count": 502,
   "id": "cbd78882",
   "metadata": {
    "papermill": {
     "duration": 0.181254,
     "end_time": "2022-03-10T15:47:21.734300",
     "exception": false,
     "start_time": "2022-03-10T15:47:21.553046",
     "status": "completed"
    },
    "tags": []
   },
   "outputs": [
    {
     "data": {
      "text/plain": [
       "0"
      ]
     },
     "execution_count": 502,
     "metadata": {},
     "output_type": "execute_result"
    }
   ],
   "source": [
    "df_train['GarageType'].isnull().sum()"
   ]
  },
  {
   "cell_type": "code",
   "execution_count": 503,
   "id": "3642a820",
   "metadata": {
    "papermill": {
     "duration": 0.186112,
     "end_time": "2022-03-10T15:47:22.094442",
     "exception": false,
     "start_time": "2022-03-10T15:47:21.908330",
     "status": "completed"
    },
    "tags": []
   },
   "outputs": [
    {
     "data": {
      "text/plain": [
       "0       2003.0\n",
       "1       1976.0\n",
       "2       2001.0\n",
       "3       1998.0\n",
       "4       2000.0\n",
       "         ...  \n",
       "1455    1999.0\n",
       "1456    1978.0\n",
       "1457    1941.0\n",
       "1458    1950.0\n",
       "1459    1965.0\n",
       "Name: GarageYrBlt, Length: 1458, dtype: float64"
      ]
     },
     "execution_count": 503,
     "metadata": {},
     "output_type": "execute_result"
    }
   ],
   "source": [
    "df_train.GarageYrBlt"
   ]
  },
  {
   "cell_type": "code",
   "execution_count": 504,
   "id": "1694bf00",
   "metadata": {
    "papermill": {
     "duration": 0.39108,
     "end_time": "2022-03-10T15:47:22.660437",
     "exception": false,
     "start_time": "2022-03-10T15:47:22.269357",
     "status": "completed"
    },
    "tags": []
   },
   "outputs": [
    {
     "name": "stderr",
     "output_type": "stream",
     "text": [
      "/Users/tanishqdrive/opt/anaconda3/lib/python3.9/site-packages/seaborn/distributions.py:2619: FutureWarning: `distplot` is a deprecated function and will be removed in a future version. Please adapt your code to use either `displot` (a figure-level function with similar flexibility) or `histplot` (an axes-level function for histograms).\n",
      "  warnings.warn(msg, FutureWarning)\n"
     ]
    },
    {
     "data": {
      "image/png": "[encoded data removed]",
      "text/plain": [
       "<Figure size 432x288 with 1 Axes>"
      ]
     },
     "metadata": {
      "needs_background": "light"
     },
     "output_type": "display_data"
    }
   ],
   "source": [
    "ax = sns.distplot(df_train['GarageYrBlt'])"
   ]
  },
  {
   "cell_type": "code",
   "execution_count": 505,
   "id": "aa8227e3",
   "metadata": {
    "papermill": {
     "duration": 0.187358,
     "end_time": "2022-03-10T15:47:23.023442",
     "exception": false,
     "start_time": "2022-03-10T15:47:22.836084",
     "status": "completed"
    },
    "tags": []
   },
   "outputs": [
    {
     "data": {
      "text/plain": [
       "81"
      ]
     },
     "execution_count": 505,
     "metadata": {},
     "output_type": "execute_result"
    }
   ],
   "source": [
    "df_train['GarageYrBlt'].isnull().sum()"
   ]
  },
  {
   "cell_type": "code",
   "execution_count": 506,
   "id": "aff05443",
   "metadata": {
    "papermill": {
     "duration": 0.184472,
     "end_time": "2022-03-10T15:47:23.385591",
     "exception": false,
     "start_time": "2022-03-10T15:47:23.201119",
     "status": "completed"
    },
    "tags": []
   },
   "outputs": [
    {
     "data": {
      "text/plain": [
       "1980.0"
      ]
     },
     "execution_count": 506,
     "metadata": {},
     "output_type": "execute_result"
    }
   ],
   "source": [
    "df_train.GarageYrBlt.median()"
   ]
  },
  {
   "cell_type": "code",
   "execution_count": 507,
   "id": "38a7446b",
   "metadata": {
    "papermill": {
     "duration": 0.188234,
     "end_time": "2022-03-10T15:47:23.750896",
     "exception": false,
     "start_time": "2022-03-10T15:47:23.562662",
     "status": "completed"
    },
    "tags": []
   },
   "outputs": [],
   "source": [
    "df_train['GarageYrBlt'].fillna(df_train.GarageYrBlt.median(), inplace = True)"
   ]
  },
  {
   "cell_type": "code",
   "execution_count": 508,
   "id": "e8aecf21",
   "metadata": {
    "papermill": {
     "duration": 0.186508,
     "end_time": "2022-03-10T15:47:24.116547",
     "exception": false,
     "start_time": "2022-03-10T15:47:23.930039",
     "status": "completed"
    },
    "tags": []
   },
   "outputs": [
    {
     "data": {
      "text/plain": [
       "0"
      ]
     },
     "execution_count": 508,
     "metadata": {},
     "output_type": "execute_result"
    }
   ],
   "source": [
    "df_train['GarageYrBlt'].isnull().sum()"
   ]
  },
  {
   "cell_type": "code",
   "execution_count": 509,
   "id": "60ab150a",
   "metadata": {
    "papermill": {
     "duration": 0.201842,
     "end_time": "2022-03-10T15:47:24.505311",
     "exception": false,
     "start_time": "2022-03-10T15:47:24.303469",
     "status": "completed"
    },
    "tags": []
   },
   "outputs": [
    {
     "data": {
      "text/html": [
       "<div>\n",
       "<style scoped>\n",
       "    .dataframe tbody tr th:only-of-type {\n",
       "        vertical-align: middle;\n",
       "    }\n",
       "\n",
       "    .dataframe tbody tr th {\n",
       "        vertical-align: top;\n",
       "    }\n",
       "\n",
       "    .dataframe thead th {\n",
       "        text-align: right;\n",
       "    }\n",
       "</style>\n",
       "<table border=\"1\" class=\"dataframe\">\n",
       "  <thead>\n",
       "    <tr style=\"text-align: right;\">\n",
       "      <th></th>\n",
       "      <th>Missing Ratio</th>\n",
       "    </tr>\n",
       "  </thead>\n",
       "  <tbody>\n",
       "    <tr>\n",
       "      <th>GarageFinish</th>\n",
       "      <td>5.555556</td>\n",
       "    </tr>\n",
       "    <tr>\n",
       "      <th>GarageQual</th>\n",
       "      <td>5.555556</td>\n",
       "    </tr>\n",
       "    <tr>\n",
       "      <th>GarageCond</th>\n",
       "      <td>5.555556</td>\n",
       "    </tr>\n",
       "    <tr>\n",
       "      <th>BsmtExposure</th>\n",
       "      <td>2.606310</td>\n",
       "    </tr>\n",
       "    <tr>\n",
       "      <th>BsmtFinType2</th>\n",
       "      <td>2.606310</td>\n",
       "    </tr>\n",
       "    <tr>\n",
       "      <th>BsmtQual</th>\n",
       "      <td>2.537723</td>\n",
       "    </tr>\n",
       "    <tr>\n",
       "      <th>BsmtCond</th>\n",
       "      <td>2.537723</td>\n",
       "    </tr>\n",
       "    <tr>\n",
       "      <th>BsmtFinType1</th>\n",
       "      <td>2.537723</td>\n",
       "    </tr>\n",
       "    <tr>\n",
       "      <th>MasVnrType</th>\n",
       "      <td>0.548697</td>\n",
       "    </tr>\n",
       "    <tr>\n",
       "      <th>MasVnrArea</th>\n",
       "      <td>0.548697</td>\n",
       "    </tr>\n",
       "    <tr>\n",
       "      <th>Electrical</th>\n",
       "      <td>0.068587</td>\n",
       "    </tr>\n",
       "  </tbody>\n",
       "</table>\n",
       "</div>"
      ],
      "text/plain": [
       "              Missing Ratio\n",
       "GarageFinish       5.555556\n",
       "GarageQual         5.555556\n",
       "GarageCond         5.555556\n",
       "BsmtExposure       2.606310\n",
       "BsmtFinType2       2.606310\n",
       "BsmtQual           2.537723\n",
       "BsmtCond           2.537723\n",
       "BsmtFinType1       2.537723\n",
       "MasVnrType         0.548697\n",
       "MasVnrArea         0.548697\n",
       "Electrical         0.068587"
      ]
     },
     "execution_count": 509,
     "metadata": {},
     "output_type": "execute_result"
    }
   ],
   "source": [
    "df_train_nu = (df_train.isnull().sum() / len(df_train)) * 100\n",
    "df_train_nu = df_train_nu.drop(df_train_nu[df_train_nu == 0].index).sort_values(ascending=False)[:30]\n",
    "missing_data = pd.DataFrame({'Missing Ratio' :df_train_nu})\n",
    "missing_data.head(100)"
   ]
  },
  {
   "cell_type": "code",
   "execution_count": 510,
   "id": "f9b8250f",
   "metadata": {
    "papermill": {
     "duration": 0.193093,
     "end_time": "2022-03-10T15:47:24.875051",
     "exception": false,
     "start_time": "2022-03-10T15:47:24.681958",
     "status": "completed"
    },
    "tags": []
   },
   "outputs": [
    {
     "data": {
      "text/plain": [
       "81"
      ]
     },
     "execution_count": 510,
     "metadata": {},
     "output_type": "execute_result"
    }
   ],
   "source": [
    "df_train['GarageFinish'].isnull().sum()"
   ]
  },
  {
   "cell_type": "code",
   "execution_count": 511,
   "id": "6992dac0",
   "metadata": {
    "papermill": {
     "duration": 0.189062,
     "end_time": "2022-03-10T15:47:25.264079",
     "exception": false,
     "start_time": "2022-03-10T15:47:25.075017",
     "status": "completed"
    },
    "tags": []
   },
   "outputs": [
    {
     "data": {
      "text/plain": [
       "0       RFn\n",
       "1       RFn\n",
       "2       RFn\n",
       "3       Unf\n",
       "4       RFn\n",
       "       ... \n",
       "1455    RFn\n",
       "1456    Unf\n",
       "1457    RFn\n",
       "1458    Unf\n",
       "1459    Fin\n",
       "Name: GarageFinish, Length: 1458, dtype: object"
      ]
     },
     "execution_count": 511,
     "metadata": {},
     "output_type": "execute_result"
    }
   ],
   "source": [
    "df_train.GarageFinish"
   ]
  },
  {
   "cell_type": "code",
   "execution_count": 512,
   "id": "280877ec",
   "metadata": {
    "papermill": {
     "duration": 0.186766,
     "end_time": "2022-03-10T15:47:25.634374",
     "exception": false,
     "start_time": "2022-03-10T15:47:25.447608",
     "status": "completed"
    },
    "tags": []
   },
   "outputs": [],
   "source": [
    "df_train['GarageFinish'].fillna(df_train.GarageFinish.mode()[0], inplace = True)"
   ]
  },
  {
   "cell_type": "code",
   "execution_count": 513,
   "id": "6aab6f29",
   "metadata": {
    "papermill": {
     "duration": 0.189077,
     "end_time": "2022-03-10T15:47:26.003011",
     "exception": false,
     "start_time": "2022-03-10T15:47:25.813934",
     "status": "completed"
    },
    "tags": []
   },
   "outputs": [
    {
     "data": {
      "text/plain": [
       "0"
      ]
     },
     "execution_count": 513,
     "metadata": {},
     "output_type": "execute_result"
    }
   ],
   "source": [
    "df_train['GarageFinish'].isnull().sum()"
   ]
  },
  {
   "cell_type": "code",
   "execution_count": 514,
   "id": "136d22e7",
   "metadata": {
    "papermill": {
     "duration": 0.198711,
     "end_time": "2022-03-10T15:47:26.381794",
     "exception": false,
     "start_time": "2022-03-10T15:47:26.183083",
     "status": "completed"
    },
    "tags": []
   },
   "outputs": [
    {
     "data": {
      "text/plain": [
       "81"
      ]
     },
     "execution_count": 514,
     "metadata": {},
     "output_type": "execute_result"
    }
   ],
   "source": [
    "df_train['GarageQual'].isnull().sum()"
   ]
  },
  {
   "cell_type": "code",
   "execution_count": 515,
   "id": "fa5e5863",
   "metadata": {
    "papermill": {
     "duration": 0.193481,
     "end_time": "2022-03-10T15:47:26.757760",
     "exception": false,
     "start_time": "2022-03-10T15:47:26.564279",
     "status": "completed"
    },
    "tags": []
   },
   "outputs": [
    {
     "data": {
      "text/plain": [
       "0       TA\n",
       "1       TA\n",
       "2       TA\n",
       "3       TA\n",
       "4       TA\n",
       "        ..\n",
       "1455    TA\n",
       "1456    TA\n",
       "1457    TA\n",
       "1458    TA\n",
       "1459    TA\n",
       "Name: GarageQual, Length: 1458, dtype: object"
      ]
     },
     "execution_count": 515,
     "metadata": {},
     "output_type": "execute_result"
    }
   ],
   "source": [
    "df_train.GarageQual"
   ]
  },
  {
   "cell_type": "code",
   "execution_count": 516,
   "id": "9860cba6",
   "metadata": {
    "papermill": {
     "duration": 0.194486,
     "end_time": "2022-03-10T15:47:27.139407",
     "exception": false,
     "start_time": "2022-03-10T15:47:26.944921",
     "status": "completed"
    },
    "tags": []
   },
   "outputs": [],
   "source": [
    "df_train['GarageQual'].fillna(df_train.GarageQual.mode()[0], inplace = True)"
   ]
  },
  {
   "cell_type": "code",
   "execution_count": 517,
   "id": "581c859d",
   "metadata": {
    "papermill": {
     "duration": 0.193654,
     "end_time": "2022-03-10T15:47:27.517573",
     "exception": false,
     "start_time": "2022-03-10T15:47:27.323919",
     "status": "completed"
    },
    "tags": []
   },
   "outputs": [
    {
     "data": {
      "text/plain": [
       "0"
      ]
     },
     "execution_count": 517,
     "metadata": {},
     "output_type": "execute_result"
    }
   ],
   "source": [
    "df_train['GarageQual'].isnull().sum()"
   ]
  },
  {
   "cell_type": "code",
   "execution_count": 518,
   "id": "6c082a93",
   "metadata": {
    "papermill": {
     "duration": 0.193158,
     "end_time": "2022-03-10T15:47:27.895408",
     "exception": false,
     "start_time": "2022-03-10T15:47:27.702250",
     "status": "completed"
    },
    "tags": []
   },
   "outputs": [
    {
     "data": {
      "text/plain": [
       "81"
      ]
     },
     "execution_count": 518,
     "metadata": {},
     "output_type": "execute_result"
    }
   ],
   "source": [
    "df_train['GarageCond'].isnull().sum()"
   ]
  },
  {
   "cell_type": "code",
   "execution_count": 519,
   "id": "ffd2ed13",
   "metadata": {
    "papermill": {
     "duration": 0.19023,
     "end_time": "2022-03-10T15:47:28.267153",
     "exception": false,
     "start_time": "2022-03-10T15:47:28.076923",
     "status": "completed"
    },
    "tags": []
   },
   "outputs": [
    {
     "data": {
      "text/plain": [
       "0       TA\n",
       "1       TA\n",
       "2       TA\n",
       "3       TA\n",
       "4       TA\n",
       "        ..\n",
       "1455    TA\n",
       "1456    TA\n",
       "1457    TA\n",
       "1458    TA\n",
       "1459    TA\n",
       "Name: GarageCond, Length: 1458, dtype: object"
      ]
     },
     "execution_count": 519,
     "metadata": {},
     "output_type": "execute_result"
    }
   ],
   "source": [
    "df_train.GarageCond"
   ]
  },
  {
   "cell_type": "code",
   "execution_count": 520,
   "id": "ce586932",
   "metadata": {
    "papermill": {
     "duration": 0.188602,
     "end_time": "2022-03-10T15:47:28.638489",
     "exception": false,
     "start_time": "2022-03-10T15:47:28.449887",
     "status": "completed"
    },
    "tags": []
   },
   "outputs": [],
   "source": [
    "df_train['GarageCond'].fillna(df_train.GarageCond.mode()[0], inplace = True)"
   ]
  },
  {
   "cell_type": "code",
   "execution_count": 521,
   "id": "3fa809dd",
   "metadata": {
    "papermill": {
     "duration": 0.189842,
     "end_time": "2022-03-10T15:47:29.009235",
     "exception": false,
     "start_time": "2022-03-10T15:47:28.819393",
     "status": "completed"
    },
    "tags": []
   },
   "outputs": [
    {
     "data": {
      "text/plain": [
       "0"
      ]
     },
     "execution_count": 521,
     "metadata": {},
     "output_type": "execute_result"
    }
   ],
   "source": [
    "df_train['GarageCond'].isnull().sum()"
   ]
  },
  {
   "cell_type": "code",
   "execution_count": 522,
   "id": "32578e01",
   "metadata": {
    "papermill": {
     "duration": 0.194091,
     "end_time": "2022-03-10T15:47:29.388219",
     "exception": false,
     "start_time": "2022-03-10T15:47:29.194128",
     "status": "completed"
    },
    "tags": []
   },
   "outputs": [
    {
     "data": {
      "text/plain": [
       "0       No\n",
       "1       Gd\n",
       "2       Mn\n",
       "3       No\n",
       "4       Av\n",
       "        ..\n",
       "1455    No\n",
       "1456    No\n",
       "1457    No\n",
       "1458    Mn\n",
       "1459    No\n",
       "Name: BsmtExposure, Length: 1458, dtype: object"
      ]
     },
     "execution_count": 522,
     "metadata": {},
     "output_type": "execute_result"
    }
   ],
   "source": [
    "df_train.BsmtExposure"
   ]
  },
  {
   "cell_type": "code",
   "execution_count": 523,
   "id": "6c2df849",
   "metadata": {
    "papermill": {
     "duration": 0.192074,
     "end_time": "2022-03-10T15:47:29.768863",
     "exception": false,
     "start_time": "2022-03-10T15:47:29.576789",
     "status": "completed"
    },
    "tags": []
   },
   "outputs": [
    {
     "data": {
      "text/plain": [
       "38"
      ]
     },
     "execution_count": 523,
     "metadata": {},
     "output_type": "execute_result"
    }
   ],
   "source": [
    "df_train['BsmtExposure'].isnull().sum()"
   ]
  },
  {
   "cell_type": "code",
   "execution_count": 524,
   "id": "519bcc12",
   "metadata": {
    "papermill": {
     "duration": 0.192713,
     "end_time": "2022-03-10T15:47:30.145386",
     "exception": false,
     "start_time": "2022-03-10T15:47:29.952673",
     "status": "completed"
    },
    "tags": []
   },
   "outputs": [],
   "source": [
    "df_train['BsmtExposure'].fillna(df_train.BsmtExposure.mode()[0], inplace = True)"
   ]
  },
  {
   "cell_type": "code",
   "execution_count": 525,
   "id": "e44ad260",
   "metadata": {
    "papermill": {
     "duration": 0.189054,
     "end_time": "2022-03-10T15:47:30.514160",
     "exception": false,
     "start_time": "2022-03-10T15:47:30.325106",
     "status": "completed"
    },
    "tags": []
   },
   "outputs": [
    {
     "data": {
      "text/plain": [
       "0"
      ]
     },
     "execution_count": 525,
     "metadata": {},
     "output_type": "execute_result"
    }
   ],
   "source": [
    "df_train['BsmtExposure'].isnull().sum()"
   ]
  },
  {
   "cell_type": "code",
   "execution_count": 526,
   "id": "62e64ff6",
   "metadata": {
    "papermill": {
     "duration": 0.222499,
     "end_time": "2022-03-10T15:47:30.918355",
     "exception": false,
     "start_time": "2022-03-10T15:47:30.695856",
     "status": "completed"
    },
    "tags": []
   },
   "outputs": [
    {
     "data": {
      "text/plain": [
       "0       Unf\n",
       "1       Unf\n",
       "2       Unf\n",
       "3       Unf\n",
       "4       Unf\n",
       "       ... \n",
       "1455    Unf\n",
       "1456    Rec\n",
       "1457    Unf\n",
       "1458    Rec\n",
       "1459    LwQ\n",
       "Name: BsmtFinType2, Length: 1458, dtype: object"
      ]
     },
     "execution_count": 526,
     "metadata": {},
     "output_type": "execute_result"
    }
   ],
   "source": [
    "df_train.BsmtFinType2"
   ]
  },
  {
   "cell_type": "code",
   "execution_count": 527,
   "id": "569702e8",
   "metadata": {
    "papermill": {
     "duration": 0.19375,
     "end_time": "2022-03-10T15:47:31.329036",
     "exception": false,
     "start_time": "2022-03-10T15:47:31.135286",
     "status": "completed"
    },
    "tags": []
   },
   "outputs": [
    {
     "data": {
      "text/plain": [
       "38"
      ]
     },
     "execution_count": 527,
     "metadata": {},
     "output_type": "execute_result"
    }
   ],
   "source": [
    "df_train['BsmtFinType2'].isnull().sum()"
   ]
  },
  {
   "cell_type": "code",
   "execution_count": 528,
   "id": "92197f4a",
   "metadata": {
    "papermill": {
     "duration": 0.193648,
     "end_time": "2022-03-10T15:47:31.710277",
     "exception": false,
     "start_time": "2022-03-10T15:47:31.516629",
     "status": "completed"
    },
    "tags": []
   },
   "outputs": [],
   "source": [
    "df_train['BsmtFinType2'].fillna(df_train.BsmtFinType2.mode()[0], inplace = True)"
   ]
  },
  {
   "cell_type": "code",
   "execution_count": 529,
   "id": "386e646d",
   "metadata": {
    "papermill": {
     "duration": 0.1935,
     "end_time": "2022-03-10T15:47:32.088521",
     "exception": false,
     "start_time": "2022-03-10T15:47:31.895021",
     "status": "completed"
    },
    "tags": []
   },
   "outputs": [
    {
     "data": {
      "text/plain": [
       "0"
      ]
     },
     "execution_count": 529,
     "metadata": {},
     "output_type": "execute_result"
    }
   ],
   "source": [
    "df_train['BsmtFinType2'].isnull().sum()"
   ]
  },
  {
   "cell_type": "code",
   "execution_count": 530,
   "id": "9e6b8a51",
   "metadata": {
    "papermill": {
     "duration": 0.19344,
     "end_time": "2022-03-10T15:47:32.465407",
     "exception": false,
     "start_time": "2022-03-10T15:47:32.271967",
     "status": "completed"
    },
    "tags": []
   },
   "outputs": [
    {
     "data": {
      "text/plain": [
       "0       Gd\n",
       "1       Gd\n",
       "2       Gd\n",
       "3       TA\n",
       "4       Gd\n",
       "        ..\n",
       "1455    Gd\n",
       "1456    Gd\n",
       "1457    TA\n",
       "1458    TA\n",
       "1459    TA\n",
       "Name: BsmtQual, Length: 1458, dtype: object"
      ]
     },
     "execution_count": 530,
     "metadata": {},
     "output_type": "execute_result"
    }
   ],
   "source": [
    "df_train.BsmtQual"
   ]
  },
  {
   "cell_type": "code",
   "execution_count": 531,
   "id": "10dbb0e2",
   "metadata": {
    "papermill": {
     "duration": 0.192039,
     "end_time": "2022-03-10T15:47:32.842092",
     "exception": false,
     "start_time": "2022-03-10T15:47:32.650053",
     "status": "completed"
    },
    "tags": []
   },
   "outputs": [
    {
     "data": {
      "text/plain": [
       "37"
      ]
     },
     "execution_count": 531,
     "metadata": {},
     "output_type": "execute_result"
    }
   ],
   "source": [
    "df_train['BsmtQual'].isnull().sum()"
   ]
  },
  {
   "cell_type": "code",
   "execution_count": 532,
   "id": "27e85c30",
   "metadata": {
    "papermill": {
     "duration": 0.196312,
     "end_time": "2022-03-10T15:47:33.224645",
     "exception": false,
     "start_time": "2022-03-10T15:47:33.028333",
     "status": "completed"
    },
    "tags": []
   },
   "outputs": [],
   "source": [
    "df_train['BsmtQual'].fillna(df_train.BsmtQual.mode()[0], inplace = True)"
   ]
  },
  {
   "cell_type": "code",
   "execution_count": 533,
   "id": "cff542ae",
   "metadata": {
    "papermill": {
     "duration": 0.193616,
     "end_time": "2022-03-10T15:47:33.603441",
     "exception": false,
     "start_time": "2022-03-10T15:47:33.409825",
     "status": "completed"
    },
    "tags": []
   },
   "outputs": [
    {
     "data": {
      "text/plain": [
       "0"
      ]
     },
     "execution_count": 533,
     "metadata": {},
     "output_type": "execute_result"
    }
   ],
   "source": [
    "df_train['BsmtQual'].isnull().sum()"
   ]
  },
  {
   "cell_type": "code",
   "execution_count": 534,
   "id": "e8c13c36",
   "metadata": {
    "papermill": {
     "duration": 0.196795,
     "end_time": "2022-03-10T15:47:33.984325",
     "exception": false,
     "start_time": "2022-03-10T15:47:33.787530",
     "status": "completed"
    },
    "tags": []
   },
   "outputs": [
    {
     "data": {
      "text/plain": [
       "0       TA\n",
       "1       TA\n",
       "2       TA\n",
       "3       Gd\n",
       "4       TA\n",
       "        ..\n",
       "1455    TA\n",
       "1456    TA\n",
       "1457    Gd\n",
       "1458    TA\n",
       "1459    TA\n",
       "Name: BsmtCond, Length: 1458, dtype: object"
      ]
     },
     "execution_count": 534,
     "metadata": {},
     "output_type": "execute_result"
    }
   ],
   "source": [
    "df_train.BsmtCond"
   ]
  },
  {
   "cell_type": "code",
   "execution_count": 535,
   "id": "0f2fb62e",
   "metadata": {
    "papermill": {
     "duration": 0.2003,
     "end_time": "2022-03-10T15:47:34.373266",
     "exception": false,
     "start_time": "2022-03-10T15:47:34.172966",
     "status": "completed"
    },
    "tags": []
   },
   "outputs": [
    {
     "data": {
      "text/plain": [
       "37"
      ]
     },
     "execution_count": 535,
     "metadata": {},
     "output_type": "execute_result"
    }
   ],
   "source": [
    "df_train['BsmtCond'].isnull().sum()"
   ]
  },
  {
   "cell_type": "code",
   "execution_count": 536,
   "id": "76ea9e01",
   "metadata": {
    "papermill": {
     "duration": 0.193758,
     "end_time": "2022-03-10T15:47:34.754134",
     "exception": false,
     "start_time": "2022-03-10T15:47:34.560376",
     "status": "completed"
    },
    "tags": []
   },
   "outputs": [],
   "source": [
    "df_train['BsmtCond'].fillna(df_train.BsmtCond.mode()[0], inplace = True)"
   ]
  },
  {
   "cell_type": "code",
   "execution_count": 537,
   "id": "bd1e082d",
   "metadata": {
    "papermill": {
     "duration": 0.198291,
     "end_time": "2022-03-10T15:47:35.138248",
     "exception": false,
     "start_time": "2022-03-10T15:47:34.939957",
     "status": "completed"
    },
    "tags": []
   },
   "outputs": [
    {
     "data": {
      "text/plain": [
       "0"
      ]
     },
     "execution_count": 537,
     "metadata": {},
     "output_type": "execute_result"
    }
   ],
   "source": [
    "df_train['BsmtCond'].isnull().sum()"
   ]
  },
  {
   "cell_type": "code",
   "execution_count": 538,
   "id": "53324ba4",
   "metadata": {
    "papermill": {
     "duration": 0.197115,
     "end_time": "2022-03-10T15:47:35.524975",
     "exception": false,
     "start_time": "2022-03-10T15:47:35.327860",
     "status": "completed"
    },
    "tags": []
   },
   "outputs": [
    {
     "data": {
      "text/plain": [
       "0       GLQ\n",
       "1       ALQ\n",
       "2       GLQ\n",
       "3       ALQ\n",
       "4       GLQ\n",
       "       ... \n",
       "1455    Unf\n",
       "1456    ALQ\n",
       "1457    GLQ\n",
       "1458    GLQ\n",
       "1459    BLQ\n",
       "Name: BsmtFinType1, Length: 1458, dtype: object"
      ]
     },
     "execution_count": 538,
     "metadata": {},
     "output_type": "execute_result"
    }
   ],
   "source": [
    "df_train.BsmtFinType1"
   ]
  },
  {
   "cell_type": "code",
   "execution_count": 539,
   "id": "8ca69819",
   "metadata": {
    "papermill": {
     "duration": 0.213584,
     "end_time": "2022-03-10T15:47:35.925919",
     "exception": false,
     "start_time": "2022-03-10T15:47:35.712335",
     "status": "completed"
    },
    "tags": []
   },
   "outputs": [
    {
     "data": {
      "text/plain": [
       "37"
      ]
     },
     "execution_count": 539,
     "metadata": {},
     "output_type": "execute_result"
    }
   ],
   "source": [
    "df_train['BsmtFinType1'].isnull().sum()"
   ]
  },
  {
   "cell_type": "code",
   "execution_count": 540,
   "id": "92e41be0",
   "metadata": {
    "papermill": {
     "duration": 0.195214,
     "end_time": "2022-03-10T15:47:36.319447",
     "exception": false,
     "start_time": "2022-03-10T15:47:36.124233",
     "status": "completed"
    },
    "tags": []
   },
   "outputs": [],
   "source": [
    "df_train['BsmtFinType1'].fillna(df_train.BsmtFinType1.mode()[0], inplace = True)"
   ]
  },
  {
   "cell_type": "code",
   "execution_count": 541,
   "id": "2c0d946a",
   "metadata": {
    "papermill": {
     "duration": 0.193971,
     "end_time": "2022-03-10T15:47:36.698861",
     "exception": false,
     "start_time": "2022-03-10T15:47:36.504890",
     "status": "completed"
    },
    "tags": []
   },
   "outputs": [
    {
     "data": {
      "text/plain": [
       "0"
      ]
     },
     "execution_count": 541,
     "metadata": {},
     "output_type": "execute_result"
    }
   ],
   "source": [
    "df_train['BsmtFinType1'].isnull().sum()"
   ]
  },
  {
   "cell_type": "code",
   "execution_count": 542,
   "id": "6836ce6e",
   "metadata": {
    "papermill": {
     "duration": 0.201612,
     "end_time": "2022-03-10T15:47:37.087445",
     "exception": false,
     "start_time": "2022-03-10T15:47:36.885833",
     "status": "completed"
    },
    "tags": []
   },
   "outputs": [
    {
     "data": {
      "text/plain": [
       "0       BrkFace\n",
       "1          None\n",
       "2       BrkFace\n",
       "3          None\n",
       "4       BrkFace\n",
       "         ...   \n",
       "1455       None\n",
       "1456      Stone\n",
       "1457       None\n",
       "1458       None\n",
       "1459       None\n",
       "Name: MasVnrType, Length: 1458, dtype: object"
      ]
     },
     "execution_count": 542,
     "metadata": {},
     "output_type": "execute_result"
    }
   ],
   "source": [
    "df_train.MasVnrType"
   ]
  },
  {
   "cell_type": "code",
   "execution_count": 543,
   "id": "4b171e88",
   "metadata": {
    "papermill": {
     "duration": 0.198065,
     "end_time": "2022-03-10T15:47:37.476210",
     "exception": false,
     "start_time": "2022-03-10T15:47:37.278145",
     "status": "completed"
    },
    "tags": []
   },
   "outputs": [
    {
     "data": {
      "text/plain": [
       "0       196.0\n",
       "1         0.0\n",
       "2       162.0\n",
       "3         0.0\n",
       "4       350.0\n",
       "        ...  \n",
       "1455      0.0\n",
       "1456    119.0\n",
       "1457      0.0\n",
       "1458      0.0\n",
       "1459      0.0\n",
       "Name: MasVnrArea, Length: 1458, dtype: float64"
      ]
     },
     "execution_count": 543,
     "metadata": {},
     "output_type": "execute_result"
    }
   ],
   "source": [
    "df_train.MasVnrArea"
   ]
  },
  {
   "cell_type": "code",
   "execution_count": 544,
   "id": "31712a6a",
   "metadata": {
    "papermill": {
     "duration": 0.197916,
     "end_time": "2022-03-10T15:47:37.863841",
     "exception": false,
     "start_time": "2022-03-10T15:47:37.665925",
     "status": "completed"
    },
    "tags": []
   },
   "outputs": [
    {
     "data": {
      "text/plain": [
       "8"
      ]
     },
     "execution_count": 544,
     "metadata": {},
     "output_type": "execute_result"
    }
   ],
   "source": [
    "df_train['MasVnrArea'].isnull().sum()"
   ]
  },
  {
   "cell_type": "code",
   "execution_count": 545,
   "id": "129f82bb",
   "metadata": {
    "papermill": {
     "duration": 0.493283,
     "end_time": "2022-03-10T15:47:38.547958",
     "exception": false,
     "start_time": "2022-03-10T15:47:38.054675",
     "status": "completed"
    },
    "tags": []
   },
   "outputs": [
    {
     "name": "stderr",
     "output_type": "stream",
     "text": [
      "/Users/tanishqdrive/opt/anaconda3/lib/python3.9/site-packages/seaborn/distributions.py:2619: FutureWarning: `distplot` is a deprecated function and will be removed in a future version. Please adapt your code to use either `displot` (a figure-level function with similar flexibility) or `histplot` (an axes-level function for histograms).\n",
      "  warnings.warn(msg, FutureWarning)\n"
     ]
    },
    {
     "data": {
      "image/png": "[encoded data removed]",
      "text/plain": [
       "<Figure size 432x288 with 1 Axes>"
      ]
     },
     "metadata": {
      "needs_background": "light"
     },
     "output_type": "display_data"
    }
   ],
   "source": [
    "ax = sns.distplot(df_train['MasVnrArea'])"
   ]
  },
  {
   "cell_type": "code",
   "execution_count": 546,
   "id": "1ff4ef0a",
   "metadata": {
    "papermill": {
     "duration": 0.197288,
     "end_time": "2022-03-10T15:47:38.934698",
     "exception": false,
     "start_time": "2022-03-10T15:47:38.737410",
     "status": "completed"
    },
    "tags": []
   },
   "outputs": [],
   "source": [
    "df_train['MasVnrArea'].fillna(df_train.MasVnrArea.median(), inplace = True)"
   ]
  },
  {
   "cell_type": "code",
   "execution_count": 547,
   "id": "64bc1f35",
   "metadata": {
    "papermill": {
     "duration": 0.199482,
     "end_time": "2022-03-10T15:47:39.325358",
     "exception": false,
     "start_time": "2022-03-10T15:47:39.125876",
     "status": "completed"
    },
    "tags": []
   },
   "outputs": [
    {
     "data": {
      "text/plain": [
       "0"
      ]
     },
     "execution_count": 547,
     "metadata": {},
     "output_type": "execute_result"
    }
   ],
   "source": [
    "df_train['MasVnrArea'].isnull().sum()"
   ]
  },
  {
   "cell_type": "code",
   "execution_count": 548,
   "id": "c1370a73",
   "metadata": {
    "papermill": {
     "duration": 0.203974,
     "end_time": "2022-03-10T15:47:39.723280",
     "exception": false,
     "start_time": "2022-03-10T15:47:39.519306",
     "status": "completed"
    },
    "tags": []
   },
   "outputs": [
    {
     "data": {
      "text/plain": [
       "0       BrkFace\n",
       "1          None\n",
       "2       BrkFace\n",
       "3          None\n",
       "4       BrkFace\n",
       "         ...   \n",
       "1455       None\n",
       "1456      Stone\n",
       "1457       None\n",
       "1458       None\n",
       "1459       None\n",
       "Name: MasVnrType, Length: 1458, dtype: object"
      ]
     },
     "execution_count": 548,
     "metadata": {},
     "output_type": "execute_result"
    }
   ],
   "source": [
    "df_train.MasVnrType"
   ]
  },
  {
   "cell_type": "code",
   "execution_count": 549,
   "id": "f2733158",
   "metadata": {
    "papermill": {
     "duration": 0.201597,
     "end_time": "2022-03-10T15:47:40.115533",
     "exception": false,
     "start_time": "2022-03-10T15:47:39.913936",
     "status": "completed"
    },
    "tags": []
   },
   "outputs": [
    {
     "data": {
      "text/plain": [
       "0       SBrkr\n",
       "1       SBrkr\n",
       "2       SBrkr\n",
       "3       SBrkr\n",
       "4       SBrkr\n",
       "        ...  \n",
       "1455    SBrkr\n",
       "1456    SBrkr\n",
       "1457    SBrkr\n",
       "1458    FuseA\n",
       "1459    SBrkr\n",
       "Name: Electrical, Length: 1458, dtype: object"
      ]
     },
     "execution_count": 549,
     "metadata": {},
     "output_type": "execute_result"
    }
   ],
   "source": [
    "df_train.Electrical"
   ]
  },
  {
   "cell_type": "code",
   "execution_count": 550,
   "id": "4a4bd8ce",
   "metadata": {
    "papermill": {
     "duration": 0.208917,
     "end_time": "2022-03-10T15:47:40.517620",
     "exception": false,
     "start_time": "2022-03-10T15:47:40.308703",
     "status": "completed"
    },
    "tags": []
   },
   "outputs": [],
   "source": [
    "df_train.dropna(inplace=True)"
   ]
  },
  {
   "cell_type": "code",
   "execution_count": 551,
   "id": "45eeb339",
   "metadata": {
    "papermill": {
     "duration": 0.213514,
     "end_time": "2022-03-10T15:47:40.921755",
     "exception": false,
     "start_time": "2022-03-10T15:47:40.708241",
     "status": "completed"
    },
    "tags": []
   },
   "outputs": [
    {
     "data": {
      "text/plain": [
       "Id               0\n",
       "MSSubClass       0\n",
       "MSZoning         0\n",
       "LotFrontage      0\n",
       "LotArea          0\n",
       "                ..\n",
       "MoSold           0\n",
       "YrSold           0\n",
       "SaleType         0\n",
       "SaleCondition    0\n",
       "SalePrice        0\n",
       "Length: 76, dtype: int64"
      ]
     },
     "execution_count": 551,
     "metadata": {},
     "output_type": "execute_result"
    }
   ],
   "source": [
    "df_train.isnull().sum()"
   ]
  },
  {
   "cell_type": "code",
   "execution_count": 552,
   "id": "b1722edc",
   "metadata": {
    "papermill": {
     "duration": 0.215361,
     "end_time": "2022-03-10T15:47:41.330583",
     "exception": false,
     "start_time": "2022-03-10T15:47:41.115222",
     "status": "completed"
    },
    "tags": []
   },
   "outputs": [
    {
     "data": {
      "text/html": [
       "<div>\n",
       "<style scoped>\n",
       "    .dataframe tbody tr th:only-of-type {\n",
       "        vertical-align: middle;\n",
       "    }\n",
       "\n",
       "    .dataframe tbody tr th {\n",
       "        vertical-align: top;\n",
       "    }\n",
       "\n",
       "    .dataframe thead th {\n",
       "        text-align: right;\n",
       "    }\n",
       "</style>\n",
       "<table border=\"1\" class=\"dataframe\">\n",
       "  <thead>\n",
       "    <tr style=\"text-align: right;\">\n",
       "      <th></th>\n",
       "      <th>Missing Ratio</th>\n",
       "    </tr>\n",
       "  </thead>\n",
       "  <tbody>\n",
       "  </tbody>\n",
       "</table>\n",
       "</div>"
      ],
      "text/plain": [
       "Empty DataFrame\n",
       "Columns: [Missing Ratio]\n",
       "Index: []"
      ]
     },
     "execution_count": 552,
     "metadata": {},
     "output_type": "execute_result"
    }
   ],
   "source": [
    "df_train_nu = (df_train.isnull().sum() / len(df_train)) * 100\n",
    "df_train_nu = df_train_nu.drop(df_train_nu[df_train_nu == 0].index).sort_values(ascending=False)[:30]\n",
    "missing_data = pd.DataFrame({'Missing Ratio' :df_train_nu})\n",
    "missing_data.head(100)"
   ]
  },
  {
   "cell_type": "code",
   "execution_count": 553,
   "id": "65c4d03e",
   "metadata": {
    "papermill": {
     "duration": 1.276879,
     "end_time": "2022-03-10T15:47:42.801340",
     "exception": false,
     "start_time": "2022-03-10T15:47:41.524461",
     "status": "completed"
    },
    "tags": []
   },
   "outputs": [
    {
     "data": {
      "text/plain": [
       "<AxesSubplot:>"
      ]
     },
     "execution_count": 553,
     "metadata": {},
     "output_type": "execute_result"
    },
    {
     "data": {
      "image/png": "[encoded data removed]",
      "text/plain": [
       "<Figure size 1440x1440 with 2 Axes>"
      ]
     },
     "metadata": {
      "needs_background": "light"
     },
     "output_type": "display_data"
    }
   ],
   "source": [
    "corrmat = df_train.corr()\n",
    "plt.subplots(figsize=(20,20))\n",
    "sns.heatmap(corrmat, vmax=1.1, square=True)"
   ]
  },
  {
   "cell_type": "code",
   "execution_count": 554,
   "id": "a5502747",
   "metadata": {
    "papermill": {
     "duration": 0.22533,
     "end_time": "2022-03-10T15:47:43.222319",
     "exception": false,
     "start_time": "2022-03-10T15:47:42.996989",
     "status": "completed"
    },
    "tags": []
   },
   "outputs": [
    {
     "name": "stdout",
     "output_type": "stream",
     "text": [
      "<class 'pandas.core.frame.DataFrame'>\n",
      "Int64Index: 1449 entries, 0 to 1459\n",
      "Data columns (total 76 columns):\n",
      " #   Column         Non-Null Count  Dtype  \n",
      "---  ------         --------------  -----  \n",
      " 0   Id             1449 non-null   int64  \n",
      " 1   MSSubClass     1449 non-null   int64  \n",
      " 2   MSZoning       1449 non-null   object \n",
      " 3   LotFrontage    1449 non-null   float64\n",
      " 4   LotArea        1449 non-null   int64  \n",
      " 5   Street         1449 non-null   object \n",
      " 6   LotShape       1449 non-null   object \n",
      " 7   LandContour    1449 non-null   object \n",
      " 8   Utilities      1449 non-null   object \n",
      " 9   LotConfig      1449 non-null   object \n",
      " 10  LandSlope      1449 non-null   object \n",
      " 11  Neighborhood   1449 non-null   object \n",
      " 12  Condition1     1449 non-null   object \n",
      " 13  Condition2     1449 non-null   object \n",
      " 14  BldgType       1449 non-null   object \n",
      " 15  HouseStyle     1449 non-null   object \n",
      " 16  OverallQual    1449 non-null   int64  \n",
      " 17  OverallCond    1449 non-null   int64  \n",
      " 18  YearBuilt      1449 non-null   int64  \n",
      " 19  YearRemodAdd   1449 non-null   int64  \n",
      " 20  RoofStyle      1449 non-null   object \n",
      " 21  RoofMatl       1449 non-null   object \n",
      " 22  Exterior1st    1449 non-null   object \n",
      " 23  Exterior2nd    1449 non-null   object \n",
      " 24  MasVnrType     1449 non-null   object \n",
      " 25  MasVnrArea     1449 non-null   float64\n",
      " 26  ExterQual      1449 non-null   object \n",
      " 27  ExterCond      1449 non-null   object \n",
      " 28  Foundation     1449 non-null   object \n",
      " 29  BsmtQual       1449 non-null   object \n",
      " 30  BsmtCond       1449 non-null   object \n",
      " 31  BsmtExposure   1449 non-null   object \n",
      " 32  BsmtFinType1   1449 non-null   object \n",
      " 33  BsmtFinSF1     1449 non-null   int64  \n",
      " 34  BsmtFinType2   1449 non-null   object \n",
      " 35  BsmtFinSF2     1449 non-null   int64  \n",
      " 36  BsmtUnfSF      1449 non-null   int64  \n",
      " 37  TotalBsmtSF    1449 non-null   int64  \n",
      " 38  Heating        1449 non-null   object \n",
      " 39  HeatingQC      1449 non-null   object \n",
      " 40  CentralAir     1449 non-null   object \n",
      " 41  Electrical     1449 non-null   object \n",
      " 42  1stFlrSF       1449 non-null   int64  \n",
      " 43  2ndFlrSF       1449 non-null   int64  \n",
      " 44  LowQualFinSF   1449 non-null   int64  \n",
      " 45  GrLivArea      1449 non-null   int64  \n",
      " 46  BsmtFullBath   1449 non-null   int64  \n",
      " 47  BsmtHalfBath   1449 non-null   int64  \n",
      " 48  FullBath       1449 non-null   int64  \n",
      " 49  HalfBath       1449 non-null   int64  \n",
      " 50  BedroomAbvGr   1449 non-null   int64  \n",
      " 51  KitchenAbvGr   1449 non-null   int64  \n",
      " 52  KitchenQual    1449 non-null   object \n",
      " 53  TotRmsAbvGrd   1449 non-null   int64  \n",
      " 54  Functional     1449 non-null   object \n",
      " 55  Fireplaces     1449 non-null   int64  \n",
      " 56  GarageType     1449 non-null   object \n",
      " 57  GarageYrBlt    1449 non-null   float64\n",
      " 58  GarageFinish   1449 non-null   object \n",
      " 59  GarageCars     1449 non-null   int64  \n",
      " 60  GarageArea     1449 non-null   int64  \n",
      " 61  GarageQual     1449 non-null   object \n",
      " 62  GarageCond     1449 non-null   object \n",
      " 63  PavedDrive     1449 non-null   object \n",
      " 64  WoodDeckSF     1449 non-null   int64  \n",
      " 65  OpenPorchSF    1449 non-null   int64  \n",
      " 66  EnclosedPorch  1449 non-null   int64  \n",
      " 67  3SsnPorch      1449 non-null   int64  \n",
      " 68  ScreenPorch    1449 non-null   int64  \n",
      " 69  PoolArea       1449 non-null   int64  \n",
      " 70  MiscVal        1449 non-null   int64  \n",
      " 71  MoSold         1449 non-null   int64  \n",
      " 72  YrSold         1449 non-null   int64  \n",
      " 73  SaleType       1449 non-null   object \n",
      " 74  SaleCondition  1449 non-null   object \n",
      " 75  SalePrice      1449 non-null   float64\n",
      "dtypes: float64(4), int64(34), object(38)\n",
      "memory usage: 871.7+ KB\n"
     ]
    }
   ],
   "source": [
    "df_train.info()"
   ]
  },
  {
   "cell_type": "code",
   "execution_count": 555,
   "id": "ef712d37",
   "metadata": {
    "papermill": {
     "duration": 0.22921,
     "end_time": "2022-03-10T15:47:43.647672",
     "exception": false,
     "start_time": "2022-03-10T15:47:43.418462",
     "status": "completed"
    },
    "tags": []
   },
   "outputs": [
    {
     "data": {
      "text/html": [
       "<div>\n",
       "<style scoped>\n",
       "    .dataframe tbody tr th:only-of-type {\n",
       "        vertical-align: middle;\n",
       "    }\n",
       "\n",
       "    .dataframe tbody tr th {\n",
       "        vertical-align: top;\n",
       "    }\n",
       "\n",
       "    .dataframe thead th {\n",
       "        text-align: right;\n",
       "    }\n",
       "</style>\n",
       "<table border=\"1\" class=\"dataframe\">\n",
       "  <thead>\n",
       "    <tr style=\"text-align: right;\">\n",
       "      <th></th>\n",
       "      <th>MSZoning</th>\n",
       "      <th>Street</th>\n",
       "      <th>LotShape</th>\n",
       "      <th>LandContour</th>\n",
       "      <th>Utilities</th>\n",
       "      <th>LotConfig</th>\n",
       "      <th>LandSlope</th>\n",
       "      <th>Neighborhood</th>\n",
       "      <th>Condition1</th>\n",
       "      <th>Condition2</th>\n",
       "      <th>...</th>\n",
       "      <th>Electrical</th>\n",
       "      <th>KitchenQual</th>\n",
       "      <th>Functional</th>\n",
       "      <th>GarageType</th>\n",
       "      <th>GarageFinish</th>\n",
       "      <th>GarageQual</th>\n",
       "      <th>GarageCond</th>\n",
       "      <th>PavedDrive</th>\n",
       "      <th>SaleType</th>\n",
       "      <th>SaleCondition</th>\n",
       "    </tr>\n",
       "  </thead>\n",
       "  <tbody>\n",
       "    <tr>\n",
       "      <th>0</th>\n",
       "      <td>RL</td>\n",
       "      <td>Pave</td>\n",
       "      <td>Reg</td>\n",
       "      <td>Lvl</td>\n",
       "      <td>AllPub</td>\n",
       "      <td>Inside</td>\n",
       "      <td>Gtl</td>\n",
       "      <td>CollgCr</td>\n",
       "      <td>Norm</td>\n",
       "      <td>Norm</td>\n",
       "      <td>...</td>\n",
       "      <td>SBrkr</td>\n",
       "      <td>Gd</td>\n",
       "      <td>Typ</td>\n",
       "      <td>Attchd</td>\n",
       "      <td>RFn</td>\n",
       "      <td>TA</td>\n",
       "      <td>TA</td>\n",
       "      <td>Y</td>\n",
       "      <td>WD</td>\n",
       "      <td>Normal</td>\n",
       "    </tr>\n",
       "    <tr>\n",
       "      <th>1</th>\n",
       "      <td>RL</td>\n",
       "      <td>Pave</td>\n",
       "      <td>Reg</td>\n",
       "      <td>Lvl</td>\n",
       "      <td>AllPub</td>\n",
       "      <td>FR2</td>\n",
       "      <td>Gtl</td>\n",
       "      <td>Veenker</td>\n",
       "      <td>Feedr</td>\n",
       "      <td>Norm</td>\n",
       "      <td>...</td>\n",
       "      <td>SBrkr</td>\n",
       "      <td>TA</td>\n",
       "      <td>Typ</td>\n",
       "      <td>Attchd</td>\n",
       "      <td>RFn</td>\n",
       "      <td>TA</td>\n",
       "      <td>TA</td>\n",
       "      <td>Y</td>\n",
       "      <td>WD</td>\n",
       "      <td>Normal</td>\n",
       "    </tr>\n",
       "    <tr>\n",
       "      <th>2</th>\n",
       "      <td>RL</td>\n",
       "      <td>Pave</td>\n",
       "      <td>IR1</td>\n",
       "      <td>Lvl</td>\n",
       "      <td>AllPub</td>\n",
       "      <td>Inside</td>\n",
       "      <td>Gtl</td>\n",
       "      <td>CollgCr</td>\n",
       "      <td>Norm</td>\n",
       "      <td>Norm</td>\n",
       "      <td>...</td>\n",
       "      <td>SBrkr</td>\n",
       "      <td>Gd</td>\n",
       "      <td>Typ</td>\n",
       "      <td>Attchd</td>\n",
       "      <td>RFn</td>\n",
       "      <td>TA</td>\n",
       "      <td>TA</td>\n",
       "      <td>Y</td>\n",
       "      <td>WD</td>\n",
       "      <td>Normal</td>\n",
       "    </tr>\n",
       "    <tr>\n",
       "      <th>3</th>\n",
       "      <td>RL</td>\n",
       "      <td>Pave</td>\n",
       "      <td>IR1</td>\n",
       "      <td>Lvl</td>\n",
       "      <td>AllPub</td>\n",
       "      <td>Corner</td>\n",
       "      <td>Gtl</td>\n",
       "      <td>Crawfor</td>\n",
       "      <td>Norm</td>\n",
       "      <td>Norm</td>\n",
       "      <td>...</td>\n",
       "      <td>SBrkr</td>\n",
       "      <td>Gd</td>\n",
       "      <td>Typ</td>\n",
       "      <td>Detchd</td>\n",
       "      <td>Unf</td>\n",
       "      <td>TA</td>\n",
       "      <td>TA</td>\n",
       "      <td>Y</td>\n",
       "      <td>WD</td>\n",
       "      <td>Abnorml</td>\n",
       "    </tr>\n",
       "    <tr>\n",
       "      <th>4</th>\n",
       "      <td>RL</td>\n",
       "      <td>Pave</td>\n",
       "      <td>IR1</td>\n",
       "      <td>Lvl</td>\n",
       "      <td>AllPub</td>\n",
       "      <td>FR2</td>\n",
       "      <td>Gtl</td>\n",
       "      <td>NoRidge</td>\n",
       "      <td>Norm</td>\n",
       "      <td>Norm</td>\n",
       "      <td>...</td>\n",
       "      <td>SBrkr</td>\n",
       "      <td>Gd</td>\n",
       "      <td>Typ</td>\n",
       "      <td>Attchd</td>\n",
       "      <td>RFn</td>\n",
       "      <td>TA</td>\n",
       "      <td>TA</td>\n",
       "      <td>Y</td>\n",
       "      <td>WD</td>\n",
       "      <td>Normal</td>\n",
       "    </tr>\n",
       "    <tr>\n",
       "      <th>...</th>\n",
       "      <td>...</td>\n",
       "      <td>...</td>\n",
       "      <td>...</td>\n",
       "      <td>...</td>\n",
       "      <td>...</td>\n",
       "      <td>...</td>\n",
       "      <td>...</td>\n",
       "      <td>...</td>\n",
       "      <td>...</td>\n",
       "      <td>...</td>\n",
       "      <td>...</td>\n",
       "      <td>...</td>\n",
       "      <td>...</td>\n",
       "      <td>...</td>\n",
       "      <td>...</td>\n",
       "      <td>...</td>\n",
       "      <td>...</td>\n",
       "      <td>...</td>\n",
       "      <td>...</td>\n",
       "      <td>...</td>\n",
       "      <td>...</td>\n",
       "    </tr>\n",
       "    <tr>\n",
       "      <th>1455</th>\n",
       "      <td>RL</td>\n",
       "      <td>Pave</td>\n",
       "      <td>Reg</td>\n",
       "      <td>Lvl</td>\n",
       "      <td>AllPub</td>\n",
       "      <td>Inside</td>\n",
       "      <td>Gtl</td>\n",
       "      <td>Gilbert</td>\n",
       "      <td>Norm</td>\n",
       "      <td>Norm</td>\n",
       "      <td>...</td>\n",
       "      <td>SBrkr</td>\n",
       "      <td>TA</td>\n",
       "      <td>Typ</td>\n",
       "      <td>Attchd</td>\n",
       "      <td>RFn</td>\n",
       "      <td>TA</td>\n",
       "      <td>TA</td>\n",
       "      <td>Y</td>\n",
       "      <td>WD</td>\n",
       "      <td>Normal</td>\n",
       "    </tr>\n",
       "    <tr>\n",
       "      <th>1456</th>\n",
       "      <td>RL</td>\n",
       "      <td>Pave</td>\n",
       "      <td>Reg</td>\n",
       "      <td>Lvl</td>\n",
       "      <td>AllPub</td>\n",
       "      <td>Inside</td>\n",
       "      <td>Gtl</td>\n",
       "      <td>NWAmes</td>\n",
       "      <td>Norm</td>\n",
       "      <td>Norm</td>\n",
       "      <td>...</td>\n",
       "      <td>SBrkr</td>\n",
       "      <td>TA</td>\n",
       "      <td>Min1</td>\n",
       "      <td>Attchd</td>\n",
       "      <td>Unf</td>\n",
       "      <td>TA</td>\n",
       "      <td>TA</td>\n",
       "      <td>Y</td>\n",
       "      <td>WD</td>\n",
       "      <td>Normal</td>\n",
       "    </tr>\n",
       "    <tr>\n",
       "      <th>1457</th>\n",
       "      <td>RL</td>\n",
       "      <td>Pave</td>\n",
       "      <td>Reg</td>\n",
       "      <td>Lvl</td>\n",
       "      <td>AllPub</td>\n",
       "      <td>Inside</td>\n",
       "      <td>Gtl</td>\n",
       "      <td>Crawfor</td>\n",
       "      <td>Norm</td>\n",
       "      <td>Norm</td>\n",
       "      <td>...</td>\n",
       "      <td>SBrkr</td>\n",
       "      <td>Gd</td>\n",
       "      <td>Typ</td>\n",
       "      <td>Attchd</td>\n",
       "      <td>RFn</td>\n",
       "      <td>TA</td>\n",
       "      <td>TA</td>\n",
       "      <td>Y</td>\n",
       "      <td>WD</td>\n",
       "      <td>Normal</td>\n",
       "    </tr>\n",
       "    <tr>\n",
       "      <th>1458</th>\n",
       "      <td>RL</td>\n",
       "      <td>Pave</td>\n",
       "      <td>Reg</td>\n",
       "      <td>Lvl</td>\n",
       "      <td>AllPub</td>\n",
       "      <td>Inside</td>\n",
       "      <td>Gtl</td>\n",
       "      <td>NAmes</td>\n",
       "      <td>Norm</td>\n",
       "      <td>Norm</td>\n",
       "      <td>...</td>\n",
       "      <td>FuseA</td>\n",
       "      <td>Gd</td>\n",
       "      <td>Typ</td>\n",
       "      <td>Attchd</td>\n",
       "      <td>Unf</td>\n",
       "      <td>TA</td>\n",
       "      <td>TA</td>\n",
       "      <td>Y</td>\n",
       "      <td>WD</td>\n",
       "      <td>Normal</td>\n",
       "    </tr>\n",
       "    <tr>\n",
       "      <th>1459</th>\n",
       "      <td>RL</td>\n",
       "      <td>Pave</td>\n",
       "      <td>Reg</td>\n",
       "      <td>Lvl</td>\n",
       "      <td>AllPub</td>\n",
       "      <td>Inside</td>\n",
       "      <td>Gtl</td>\n",
       "      <td>Edwards</td>\n",
       "      <td>Norm</td>\n",
       "      <td>Norm</td>\n",
       "      <td>...</td>\n",
       "      <td>SBrkr</td>\n",
       "      <td>TA</td>\n",
       "      <td>Typ</td>\n",
       "      <td>Attchd</td>\n",
       "      <td>Fin</td>\n",
       "      <td>TA</td>\n",
       "      <td>TA</td>\n",
       "      <td>Y</td>\n",
       "      <td>WD</td>\n",
       "      <td>Normal</td>\n",
       "    </tr>\n",
       "  </tbody>\n",
       "</table>\n",
       "<p>1449 rows × 38 columns</p>\n",
       "</div>"
      ],
      "text/plain": [
       "     MSZoning Street LotShape LandContour Utilities LotConfig LandSlope  \\\n",
       "0          RL   Pave      Reg         Lvl    AllPub    Inside       Gtl   \n",
       "1          RL   Pave      Reg         Lvl    AllPub       FR2       Gtl   \n",
       "2          RL   Pave      IR1         Lvl    AllPub    Inside       Gtl   \n",
       "3          RL   Pave      IR1         Lvl    AllPub    Corner       Gtl   \n",
       "4          RL   Pave      IR1         Lvl    AllPub       FR2       Gtl   \n",
       "...       ...    ...      ...         ...       ...       ...       ...   \n",
       "1455       RL   Pave      Reg         Lvl    AllPub    Inside       Gtl   \n",
       "1456       RL   Pave      Reg         Lvl    AllPub    Inside       Gtl   \n",
       "1457       RL   Pave      Reg         Lvl    AllPub    Inside       Gtl   \n",
       "1458       RL   Pave      Reg         Lvl    AllPub    Inside       Gtl   \n",
       "1459       RL   Pave      Reg         Lvl    AllPub    Inside       Gtl   \n",
       "\n",
       "     Neighborhood Condition1 Condition2  ... Electrical KitchenQual  \\\n",
       "0         CollgCr       Norm       Norm  ...      SBrkr          Gd   \n",
       "1         Veenker      Feedr       Norm  ...      SBrkr          TA   \n",
       "2         CollgCr       Norm       Norm  ...      SBrkr          Gd   \n",
       "3         Crawfor       Norm       Norm  ...      SBrkr          Gd   \n",
       "4         NoRidge       Norm       Norm  ...      SBrkr          Gd   \n",
       "...           ...        ...        ...  ...        ...         ...   \n",
       "1455      Gilbert       Norm       Norm  ...      SBrkr          TA   \n",
       "1456       NWAmes       Norm       Norm  ...      SBrkr          TA   \n",
       "1457      Crawfor       Norm       Norm  ...      SBrkr          Gd   \n",
       "1458        NAmes       Norm       Norm  ...      FuseA          Gd   \n",
       "1459      Edwards       Norm       Norm  ...      SBrkr          TA   \n",
       "\n",
       "     Functional GarageType GarageFinish GarageQual GarageCond PavedDrive  \\\n",
       "0           Typ     Attchd          RFn         TA         TA          Y   \n",
       "1           Typ     Attchd          RFn         TA         TA          Y   \n",
       "2           Typ     Attchd          RFn         TA         TA          Y   \n",
       "3           Typ     Detchd          Unf         TA         TA          Y   \n",
       "4           Typ     Attchd          RFn         TA         TA          Y   \n",
       "...         ...        ...          ...        ...        ...        ...   \n",
       "1455        Typ     Attchd          RFn         TA         TA          Y   \n",
       "1456       Min1     Attchd          Unf         TA         TA          Y   \n",
       "1457        Typ     Attchd          RFn         TA         TA          Y   \n",
       "1458        Typ     Attchd          Unf         TA         TA          Y   \n",
       "1459        Typ     Attchd          Fin         TA         TA          Y   \n",
       "\n",
       "     SaleType SaleCondition  \n",
       "0          WD        Normal  \n",
       "1          WD        Normal  \n",
       "2          WD        Normal  \n",
       "3          WD       Abnorml  \n",
       "4          WD        Normal  \n",
       "...       ...           ...  \n",
       "1455       WD        Normal  \n",
       "1456       WD        Normal  \n",
       "1457       WD        Normal  \n",
       "1458       WD        Normal  \n",
       "1459       WD        Normal  \n",
       "\n",
       "[1449 rows x 38 columns]"
      ]
     },
     "execution_count": 555,
     "metadata": {},
     "output_type": "execute_result"
    }
   ],
   "source": [
    "df_train.select_dtypes(include=['object'])"
   ]
  },
  {
   "cell_type": "code",
   "execution_count": 556,
   "id": "6a53dd38",
   "metadata": {
    "papermill": {
     "duration": 0.206149,
     "end_time": "2022-03-10T15:47:44.051256",
     "exception": false,
     "start_time": "2022-03-10T15:47:43.845107",
     "status": "completed"
    },
    "tags": []
   },
   "outputs": [],
   "source": [
    "df_train_object=df_train.select_dtypes(include=['object'])"
   ]
  },
  {
   "cell_type": "code",
   "execution_count": 557,
   "id": "6c88dbd7",
   "metadata": {
    "papermill": {
     "duration": 0.206563,
     "end_time": "2022-03-10T15:47:44.455041",
     "exception": false,
     "start_time": "2022-03-10T15:47:44.248478",
     "status": "completed"
    },
    "tags": []
   },
   "outputs": [
    {
     "data": {
      "text/plain": [
       "Index(['MSZoning', 'Street', 'LotShape', 'LandContour', 'Utilities',\n",
       "       'LotConfig', 'LandSlope', 'Neighborhood', 'Condition1', 'Condition2',\n",
       "       'BldgType', 'HouseStyle', 'RoofStyle', 'RoofMatl', 'Exterior1st',\n",
       "       'Exterior2nd', 'MasVnrType', 'ExterQual', 'ExterCond', 'Foundation',\n",
       "       'BsmtQual', 'BsmtCond', 'BsmtExposure', 'BsmtFinType1', 'BsmtFinType2',\n",
       "       'Heating', 'HeatingQC', 'CentralAir', 'Electrical', 'KitchenQual',\n",
       "       'Functional', 'GarageType', 'GarageFinish', 'GarageQual', 'GarageCond',\n",
       "       'PavedDrive', 'SaleType', 'SaleCondition'],\n",
       "      dtype='object')"
      ]
     },
     "execution_count": 557,
     "metadata": {},
     "output_type": "execute_result"
    }
   ],
   "source": [
    "df_train_object.columns"
   ]
  },
  {
   "cell_type": "code",
   "execution_count": 558,
   "id": "c34946fb",
   "metadata": {
    "papermill": {
     "duration": 0.35345,
     "end_time": "2022-03-10T15:47:45.006518",
     "exception": false,
     "start_time": "2022-03-10T15:47:44.653068",
     "status": "completed"
    },
    "tags": []
   },
   "outputs": [],
   "source": [
    "from sklearn.preprocessing import LabelEncoder"
   ]
  },
  {
   "cell_type": "code",
   "execution_count": 559,
   "id": "80356110",
   "metadata": {
    "papermill": {
     "duration": 0.206594,
     "end_time": "2022-03-10T15:47:45.412205",
     "exception": false,
     "start_time": "2022-03-10T15:47:45.205611",
     "status": "completed"
    },
    "tags": []
   },
   "outputs": [],
   "source": [
    "object_cols = ('MSSubClass', 'MSZoning', 'Street', 'LotShape', 'LandContour',\n",
    "       'Utilities', 'LotConfig', 'LandSlope', 'Neighborhood', 'Condition1',\n",
    "       'Condition2', 'BldgType', 'HouseStyle', 'OverallCond', 'RoofStyle',\n",
    "       'RoofMatl', 'Exterior1st', 'Exterior2nd', 'MasVnrType', 'ExterQual',\n",
    "       'ExterCond', 'Foundation', 'BsmtQual', 'BsmtCond', 'BsmtExposure',\n",
    "       'BsmtFinType1', 'BsmtFinType2', 'Heating', 'HeatingQC', 'CentralAir',\n",
    "       'Electrical', 'KitchenQual', 'Functional', 'GarageType', 'GarageFinish',\n",
    "       'GarageQual', 'GarageCond', 'PavedDrive', 'MoSold', 'YrSold',\n",
    "       'SaleType', 'SaleCondition')"
   ]
  },
  {
   "cell_type": "code",
   "execution_count": 560,
   "id": "0442f711",
   "metadata": {
    "papermill": {
     "duration": 0.312524,
     "end_time": "2022-03-10T15:47:45.920819",
     "exception": false,
     "start_time": "2022-03-10T15:47:45.608295",
     "status": "completed"
    },
    "tags": []
   },
   "outputs": [],
   "source": [
    "for i in object_cols:\n",
    "    lb_encoder = LabelEncoder() \n",
    "    lb_encoder.fit(list(df_train[i].values)) \n",
    "    df_train[i] = lb_encoder.transform(list(df_train[i].values))"
   ]
  },
  {
   "cell_type": "code",
   "execution_count": 561,
   "id": "493a08bb",
   "metadata": {
    "papermill": {
     "duration": 0.21791,
     "end_time": "2022-03-10T15:47:46.399791",
     "exception": false,
     "start_time": "2022-03-10T15:47:46.181881",
     "status": "completed"
    },
    "tags": []
   },
   "outputs": [
    {
     "data": {
      "text/html": [
       "<div>\n",
       "<style scoped>\n",
       "    .dataframe tbody tr th:only-of-type {\n",
       "        vertical-align: middle;\n",
       "    }\n",
       "\n",
       "    .dataframe tbody tr th {\n",
       "        vertical-align: top;\n",
       "    }\n",
       "\n",
       "    .dataframe thead th {\n",
       "        text-align: right;\n",
       "    }\n",
       "</style>\n",
       "<table border=\"1\" class=\"dataframe\">\n",
       "  <thead>\n",
       "    <tr style=\"text-align: right;\">\n",
       "      <th></th>\n",
       "    </tr>\n",
       "  </thead>\n",
       "  <tbody>\n",
       "    <tr>\n",
       "      <th>0</th>\n",
       "    </tr>\n",
       "    <tr>\n",
       "      <th>1</th>\n",
       "    </tr>\n",
       "    <tr>\n",
       "      <th>2</th>\n",
       "    </tr>\n",
       "    <tr>\n",
       "      <th>3</th>\n",
       "    </tr>\n",
       "    <tr>\n",
       "      <th>4</th>\n",
       "    </tr>\n",
       "    <tr>\n",
       "      <th>...</th>\n",
       "    </tr>\n",
       "    <tr>\n",
       "      <th>1455</th>\n",
       "    </tr>\n",
       "    <tr>\n",
       "      <th>1456</th>\n",
       "    </tr>\n",
       "    <tr>\n",
       "      <th>1457</th>\n",
       "    </tr>\n",
       "    <tr>\n",
       "      <th>1458</th>\n",
       "    </tr>\n",
       "    <tr>\n",
       "      <th>1459</th>\n",
       "    </tr>\n",
       "  </tbody>\n",
       "</table>\n",
       "<p>1449 rows × 0 columns</p>\n",
       "</div>"
      ],
      "text/plain": [
       "Empty DataFrame\n",
       "Columns: []\n",
       "Index: [0, 1, 2, 3, 4, 5, 6, 7, 8, 9, 10, 11, 12, 13, 14, 15, 16, 17, 18, 19, 20, 21, 22, 23, 24, 25, 26, 27, 28, 29, 30, 31, 32, 33, 34, 35, 36, 37, 38, 39, 40, 41, 42, 43, 44, 45, 46, 47, 48, 49, 50, 51, 52, 53, 54, 55, 56, 57, 58, 59, 60, 61, 62, 63, 64, 65, 66, 67, 68, 69, 70, 71, 72, 73, 74, 75, 76, 77, 78, 79, 80, 81, 82, 83, 84, 85, 86, 87, 88, 89, 90, 91, 92, 93, 94, 95, 96, 97, 98, 99, ...]\n",
       "\n",
       "[1449 rows x 0 columns]"
      ]
     },
     "execution_count": 561,
     "metadata": {},
     "output_type": "execute_result"
    }
   ],
   "source": [
    "df_train.select_dtypes(include=['object'])"
   ]
  },
  {
   "cell_type": "code",
   "execution_count": 562,
   "id": "42da7836",
   "metadata": {
    "papermill": {
     "duration": 0.222569,
     "end_time": "2022-03-10T15:47:46.821184",
     "exception": false,
     "start_time": "2022-03-10T15:47:46.598615",
     "status": "completed"
    },
    "tags": []
   },
   "outputs": [
    {
     "name": "stdout",
     "output_type": "stream",
     "text": [
      "<class 'pandas.core.frame.DataFrame'>\n",
      "Int64Index: 1449 entries, 0 to 1459\n",
      "Data columns (total 76 columns):\n",
      " #   Column         Non-Null Count  Dtype  \n",
      "---  ------         --------------  -----  \n",
      " 0   Id             1449 non-null   int64  \n",
      " 1   MSSubClass     1449 non-null   int64  \n",
      " 2   MSZoning       1449 non-null   int64  \n",
      " 3   LotFrontage    1449 non-null   float64\n",
      " 4   LotArea        1449 non-null   int64  \n",
      " 5   Street         1449 non-null   int64  \n",
      " 6   LotShape       1449 non-null   int64  \n",
      " 7   LandContour    1449 non-null   int64  \n",
      " 8   Utilities      1449 non-null   int64  \n",
      " 9   LotConfig      1449 non-null   int64  \n",
      " 10  LandSlope      1449 non-null   int64  \n",
      " 11  Neighborhood   1449 non-null   int64  \n",
      " 12  Condition1     1449 non-null   int64  \n",
      " 13  Condition2     1449 non-null   int64  \n",
      " 14  BldgType       1449 non-null   int64  \n",
      " 15  HouseStyle     1449 non-null   int64  \n",
      " 16  OverallQual    1449 non-null   int64  \n",
      " 17  OverallCond    1449 non-null   int64  \n",
      " 18  YearBuilt      1449 non-null   int64  \n",
      " 19  YearRemodAdd   1449 non-null   int64  \n",
      " 20  RoofStyle      1449 non-null   int64  \n",
      " 21  RoofMatl       1449 non-null   int64  \n",
      " 22  Exterior1st    1449 non-null   int64  \n",
      " 23  Exterior2nd    1449 non-null   int64  \n",
      " 24  MasVnrType     1449 non-null   int64  \n",
      " 25  MasVnrArea     1449 non-null   float64\n",
      " 26  ExterQual      1449 non-null   int64  \n",
      " 27  ExterCond      1449 non-null   int64  \n",
      " 28  Foundation     1449 non-null   int64  \n",
      " 29  BsmtQual       1449 non-null   int64  \n",
      " 30  BsmtCond       1449 non-null   int64  \n",
      " 31  BsmtExposure   1449 non-null   int64  \n",
      " 32  BsmtFinType1   1449 non-null   int64  \n",
      " 33  BsmtFinSF1     1449 non-null   int64  \n",
      " 34  BsmtFinType2   1449 non-null   int64  \n",
      " 35  BsmtFinSF2     1449 non-null   int64  \n",
      " 36  BsmtUnfSF      1449 non-null   int64  \n",
      " 37  TotalBsmtSF    1449 non-null   int64  \n",
      " 38  Heating        1449 non-null   int64  \n",
      " 39  HeatingQC      1449 non-null   int64  \n",
      " 40  CentralAir     1449 non-null   int64  \n",
      " 41  Electrical     1449 non-null   int64  \n",
      " 42  1stFlrSF       1449 non-null   int64  \n",
      " 43  2ndFlrSF       1449 non-null   int64  \n",
      " 44  LowQualFinSF   1449 non-null   int64  \n",
      " 45  GrLivArea      1449 non-null   int64  \n",
      " 46  BsmtFullBath   1449 non-null   int64  \n",
      " 47  BsmtHalfBath   1449 non-null   int64  \n",
      " 48  FullBath       1449 non-null   int64  \n",
      " 49  HalfBath       1449 non-null   int64  \n",
      " 50  BedroomAbvGr   1449 non-null   int64  \n",
      " 51  KitchenAbvGr   1449 non-null   int64  \n",
      " 52  KitchenQual    1449 non-null   int64  \n",
      " 53  TotRmsAbvGrd   1449 non-null   int64  \n",
      " 54  Functional     1449 non-null   int64  \n",
      " 55  Fireplaces     1449 non-null   int64  \n",
      " 56  GarageType     1449 non-null   int64  \n",
      " 57  GarageYrBlt    1449 non-null   float64\n",
      " 58  GarageFinish   1449 non-null   int64  \n",
      " 59  GarageCars     1449 non-null   int64  \n",
      " 60  GarageArea     1449 non-null   int64  \n",
      " 61  GarageQual     1449 non-null   int64  \n",
      " 62  GarageCond     1449 non-null   int64  \n",
      " 63  PavedDrive     1449 non-null   int64  \n",
      " 64  WoodDeckSF     1449 non-null   int64  \n",
      " 65  OpenPorchSF    1449 non-null   int64  \n",
      " 66  EnclosedPorch  1449 non-null   int64  \n",
      " 67  3SsnPorch      1449 non-null   int64  \n",
      " 68  ScreenPorch    1449 non-null   int64  \n",
      " 69  PoolArea       1449 non-null   int64  \n",
      " 70  MiscVal        1449 non-null   int64  \n",
      " 71  MoSold         1449 non-null   int64  \n",
      " 72  YrSold         1449 non-null   int64  \n",
      " 73  SaleType       1449 non-null   int64  \n",
      " 74  SaleCondition  1449 non-null   int64  \n",
      " 75  SalePrice      1449 non-null   float64\n",
      "dtypes: float64(4), int64(72)\n",
      "memory usage: 871.7 KB\n"
     ]
    }
   ],
   "source": [
    "df_train.info()"
   ]
  },
  {
   "cell_type": "markdown",
   "id": "66389f36",
   "metadata": {
    "papermill": {
     "duration": 0.197251,
     "end_time": "2022-03-10T15:47:47.245471",
     "exception": false,
     "start_time": "2022-03-10T15:47:47.048220",
     "status": "completed"
    },
    "tags": []
   },
   "source": [
    "**Dealing with Test Set**\n"
   ]
  },
  {
   "cell_type": "code",
   "execution_count": 563,
   "id": "408ba8d4",
   "metadata": {
    "papermill": {
     "duration": 0.210716,
     "end_time": "2022-03-10T15:47:47.654986",
     "exception": false,
     "start_time": "2022-03-10T15:47:47.444270",
     "status": "completed"
    },
    "tags": []
   },
   "outputs": [
    {
     "data": {
      "text/plain": [
       "0       0.0\n",
       "1       0.0\n",
       "2       0.0\n",
       "3       0.0\n",
       "4       0.0\n",
       "       ... \n",
       "1454    0.0\n",
       "1455    0.0\n",
       "1456    1.0\n",
       "1457    0.0\n",
       "1458    0.0\n",
       "Name: BsmtFullBath, Length: 1459, dtype: float64"
      ]
     },
     "execution_count": 563,
     "metadata": {},
     "output_type": "execute_result"
    }
   ],
   "source": [
    "df_test['BsmtFullBath']"
   ]
  },
  {
   "cell_type": "code",
   "execution_count": 564,
   "id": "1700ba72",
   "metadata": {
    "papermill": {
     "duration": 0.21593,
     "end_time": "2022-03-10T15:47:48.069037",
     "exception": false,
     "start_time": "2022-03-10T15:47:47.853107",
     "status": "completed"
    },
    "tags": []
   },
   "outputs": [
    {
     "data": {
      "text/plain": [
       "0       0.0\n",
       "1       0.0\n",
       "2       0.0\n",
       "3       0.0\n",
       "4       0.0\n",
       "       ... \n",
       "1454    0.0\n",
       "1455    0.0\n",
       "1456    0.0\n",
       "1457    1.0\n",
       "1458    0.0\n",
       "Name: BsmtHalfBath, Length: 1459, dtype: float64"
      ]
     },
     "execution_count": 564,
     "metadata": {},
     "output_type": "execute_result"
    }
   ],
   "source": [
    "df_test['BsmtHalfBath']"
   ]
  },
  {
   "cell_type": "code",
   "execution_count": 565,
   "id": "9d93f2b8",
   "metadata": {
    "papermill": {
     "duration": 0.442368,
     "end_time": "2022-03-10T15:47:48.712667",
     "exception": false,
     "start_time": "2022-03-10T15:47:48.270299",
     "status": "completed"
    },
    "tags": []
   },
   "outputs": [
    {
     "data": {
      "text/plain": [
       "0        468.0\n",
       "1        923.0\n",
       "2        791.0\n",
       "3        602.0\n",
       "4        263.0\n",
       "         ...  \n",
       "1454       0.0\n",
       "1455     252.0\n",
       "1456    1224.0\n",
       "1457     337.0\n",
       "1458     758.0\n",
       "Name: BsmtFinSF1, Length: 1459, dtype: float64"
      ]
     },
     "metadata": {},
     "output_type": "display_data"
    },
    {
     "name": "stderr",
     "output_type": "stream",
     "text": [
      "/Users/tanishqdrive/opt/anaconda3/lib/python3.9/site-packages/seaborn/distributions.py:2619: FutureWarning: `distplot` is a deprecated function and will be removed in a future version. Please adapt your code to use either `displot` (a figure-level function with similar flexibility) or `histplot` (an axes-level function for histograms).\n",
      "  warnings.warn(msg, FutureWarning)\n"
     ]
    },
    {
     "data": {
      "image/png": "[encoded data removed]",
      "text/plain": [
       "<Figure size 432x288 with 1 Axes>"
      ]
     },
     "metadata": {
      "needs_background": "light"
     },
     "output_type": "display_data"
    }
   ],
   "source": [
    "display (df_test['BsmtFinSF1'])\n",
    "ax = sns.distplot(df_test['BsmtFinSF1'])"
   ]
  },
  {
   "cell_type": "code",
   "execution_count": 566,
   "id": "fcfd40a1",
   "metadata": {
    "papermill": {
     "duration": 0.214839,
     "end_time": "2022-03-10T15:47:49.130025",
     "exception": false,
     "start_time": "2022-03-10T15:47:48.915186",
     "status": "completed"
    },
    "tags": []
   },
   "outputs": [
    {
     "data": {
      "text/plain": [
       "0       1.0\n",
       "1       1.0\n",
       "2       2.0\n",
       "3       2.0\n",
       "4       2.0\n",
       "       ... \n",
       "1454    0.0\n",
       "1455    1.0\n",
       "1456    2.0\n",
       "1457    0.0\n",
       "1458    3.0\n",
       "Name: GarageCars, Length: 1459, dtype: float64"
      ]
     },
     "execution_count": 566,
     "metadata": {},
     "output_type": "execute_result"
    }
   ],
   "source": [
    "df_test['GarageCars']"
   ]
  },
  {
   "cell_type": "code",
   "execution_count": 567,
   "id": "6d020de5",
   "metadata": {
    "papermill": {
     "duration": 0.446959,
     "end_time": "2022-03-10T15:47:49.777800",
     "exception": false,
     "start_time": "2022-03-10T15:47:49.330841",
     "status": "completed"
    },
    "tags": []
   },
   "outputs": [
    {
     "data": {
      "text/plain": [
       "0       730.0\n",
       "1       312.0\n",
       "2       482.0\n",
       "3       470.0\n",
       "4       506.0\n",
       "        ...  \n",
       "1454      0.0\n",
       "1455    286.0\n",
       "1456    576.0\n",
       "1457      0.0\n",
       "1458    650.0\n",
       "Name: GarageArea, Length: 1459, dtype: float64"
      ]
     },
     "metadata": {},
     "output_type": "display_data"
    },
    {
     "name": "stderr",
     "output_type": "stream",
     "text": [
      "/Users/tanishqdrive/opt/anaconda3/lib/python3.9/site-packages/seaborn/distributions.py:2619: FutureWarning: `distplot` is a deprecated function and will be removed in a future version. Please adapt your code to use either `displot` (a figure-level function with similar flexibility) or `histplot` (an axes-level function for histograms).\n",
      "  warnings.warn(msg, FutureWarning)\n"
     ]
    },
    {
     "data": {
      "image/png": "[encoded data removed]",
      "text/plain": [
       "<Figure size 432x288 with 1 Axes>"
      ]
     },
     "metadata": {
      "needs_background": "light"
     },
     "output_type": "display_data"
    }
   ],
   "source": [
    "display (df_test['GarageArea'])\n",
    "ax = sns.distplot(df_test['GarageArea'])"
   ]
  },
  {
   "cell_type": "code",
   "execution_count": 568,
   "id": "51945207",
   "metadata": {
    "papermill": {
     "duration": 0.500278,
     "end_time": "2022-03-10T15:47:50.486276",
     "exception": false,
     "start_time": "2022-03-10T15:47:49.985998",
     "status": "completed"
    },
    "tags": []
   },
   "outputs": [
    {
     "data": {
      "text/plain": [
       "0        882.0\n",
       "1       1329.0\n",
       "2        928.0\n",
       "3        926.0\n",
       "4       1280.0\n",
       "         ...  \n",
       "1454     546.0\n",
       "1455     546.0\n",
       "1456    1224.0\n",
       "1457     912.0\n",
       "1458     996.0\n",
       "Name: TotalBsmtSF, Length: 1459, dtype: float64"
      ]
     },
     "metadata": {},
     "output_type": "display_data"
    },
    {
     "name": "stderr",
     "output_type": "stream",
     "text": [
      "/Users/tanishqdrive/opt/anaconda3/lib/python3.9/site-packages/seaborn/distributions.py:2619: FutureWarning: `distplot` is a deprecated function and will be removed in a future version. Please adapt your code to use either `displot` (a figure-level function with similar flexibility) or `histplot` (an axes-level function for histograms).\n",
      "  warnings.warn(msg, FutureWarning)\n"
     ]
    },
    {
     "data": {
      "image/png": "[encoded data removed]",
      "text/plain": [
       "<Figure size 432x288 with 1 Axes>"
      ]
     },
     "metadata": {
      "needs_background": "light"
     },
     "output_type": "display_data"
    }
   ],
   "source": [
    "display (df_test['TotalBsmtSF'])\n",
    "ax = sns.distplot(df_test['TotalBsmtSF'])"
   ]
  },
  {
   "cell_type": "code",
   "execution_count": 569,
   "id": "50784ffb",
   "metadata": {
    "papermill": {
     "duration": 0.220399,
     "end_time": "2022-03-10T15:47:50.912931",
     "exception": false,
     "start_time": "2022-03-10T15:47:50.692532",
     "status": "completed"
    },
    "tags": []
   },
   "outputs": [
    {
     "data": {
      "text/plain": [
       "0       144.0\n",
       "1         0.0\n",
       "2         0.0\n",
       "3         0.0\n",
       "4         0.0\n",
       "        ...  \n",
       "1454      0.0\n",
       "1455      0.0\n",
       "1456      0.0\n",
       "1457      0.0\n",
       "1458      0.0\n",
       "Name: BsmtFinSF2, Length: 1459, dtype: float64"
      ]
     },
     "execution_count": 569,
     "metadata": {},
     "output_type": "execute_result"
    }
   ],
   "source": [
    "df_test['BsmtFinSF2']"
   ]
  },
  {
   "cell_type": "code",
   "execution_count": 570,
   "id": "15ac8590",
   "metadata": {
    "papermill": {
     "duration": 0.21752,
     "end_time": "2022-03-10T15:47:51.338859",
     "exception": false,
     "start_time": "2022-03-10T15:47:51.121339",
     "status": "completed"
    },
    "tags": []
   },
   "outputs": [
    {
     "data": {
      "text/plain": [
       "0        270.0\n",
       "1        406.0\n",
       "2        137.0\n",
       "3        324.0\n",
       "4       1017.0\n",
       "         ...  \n",
       "1454     546.0\n",
       "1455     294.0\n",
       "1456       0.0\n",
       "1457     575.0\n",
       "1458     238.0\n",
       "Name: BsmtUnfSF, Length: 1459, dtype: float64"
      ]
     },
     "execution_count": 570,
     "metadata": {},
     "output_type": "execute_result"
    }
   ],
   "source": [
    "df_test['BsmtUnfSF']"
   ]
  },
  {
   "cell_type": "code",
   "execution_count": 571,
   "id": "85f969da",
   "metadata": {
    "papermill": {
     "duration": 0.234055,
     "end_time": "2022-03-10T15:47:51.787251",
     "exception": false,
     "start_time": "2022-03-10T15:47:51.553196",
     "status": "completed"
    },
    "tags": []
   },
   "outputs": [
    {
     "data": {
      "text/html": [
       "<div>\n",
       "<style scoped>\n",
       "    .dataframe tbody tr th:only-of-type {\n",
       "        vertical-align: middle;\n",
       "    }\n",
       "\n",
       "    .dataframe tbody tr th {\n",
       "        vertical-align: top;\n",
       "    }\n",
       "\n",
       "    .dataframe thead th {\n",
       "        text-align: right;\n",
       "    }\n",
       "</style>\n",
       "<table border=\"1\" class=\"dataframe\">\n",
       "  <thead>\n",
       "    <tr style=\"text-align: right;\">\n",
       "      <th></th>\n",
       "      <th>Missing Ratio</th>\n",
       "    </tr>\n",
       "  </thead>\n",
       "  <tbody>\n",
       "    <tr>\n",
       "      <th>PoolQC</th>\n",
       "      <td>99.794380</td>\n",
       "    </tr>\n",
       "    <tr>\n",
       "      <th>MiscFeature</th>\n",
       "      <td>96.504455</td>\n",
       "    </tr>\n",
       "    <tr>\n",
       "      <th>Alley</th>\n",
       "      <td>92.666210</td>\n",
       "    </tr>\n",
       "    <tr>\n",
       "      <th>Fence</th>\n",
       "      <td>80.123372</td>\n",
       "    </tr>\n",
       "    <tr>\n",
       "      <th>FireplaceQu</th>\n",
       "      <td>50.034270</td>\n",
       "    </tr>\n",
       "    <tr>\n",
       "      <th>LotFrontage</th>\n",
       "      <td>15.558602</td>\n",
       "    </tr>\n",
       "    <tr>\n",
       "      <th>GarageYrBlt</th>\n",
       "      <td>5.346127</td>\n",
       "    </tr>\n",
       "    <tr>\n",
       "      <th>GarageQual</th>\n",
       "      <td>5.346127</td>\n",
       "    </tr>\n",
       "    <tr>\n",
       "      <th>GarageFinish</th>\n",
       "      <td>5.346127</td>\n",
       "    </tr>\n",
       "    <tr>\n",
       "      <th>GarageCond</th>\n",
       "      <td>5.346127</td>\n",
       "    </tr>\n",
       "    <tr>\n",
       "      <th>GarageType</th>\n",
       "      <td>5.209047</td>\n",
       "    </tr>\n",
       "    <tr>\n",
       "      <th>BsmtCond</th>\n",
       "      <td>3.084304</td>\n",
       "    </tr>\n",
       "    <tr>\n",
       "      <th>BsmtQual</th>\n",
       "      <td>3.015764</td>\n",
       "    </tr>\n",
       "    <tr>\n",
       "      <th>BsmtExposure</th>\n",
       "      <td>3.015764</td>\n",
       "    </tr>\n",
       "    <tr>\n",
       "      <th>BsmtFinType1</th>\n",
       "      <td>2.878684</td>\n",
       "    </tr>\n",
       "    <tr>\n",
       "      <th>BsmtFinType2</th>\n",
       "      <td>2.878684</td>\n",
       "    </tr>\n",
       "    <tr>\n",
       "      <th>MasVnrType</th>\n",
       "      <td>1.096642</td>\n",
       "    </tr>\n",
       "    <tr>\n",
       "      <th>MasVnrArea</th>\n",
       "      <td>1.028101</td>\n",
       "    </tr>\n",
       "    <tr>\n",
       "      <th>MSZoning</th>\n",
       "      <td>0.274160</td>\n",
       "    </tr>\n",
       "    <tr>\n",
       "      <th>BsmtHalfBath</th>\n",
       "      <td>0.137080</td>\n",
       "    </tr>\n",
       "    <tr>\n",
       "      <th>Utilities</th>\n",
       "      <td>0.137080</td>\n",
       "    </tr>\n",
       "    <tr>\n",
       "      <th>Functional</th>\n",
       "      <td>0.137080</td>\n",
       "    </tr>\n",
       "    <tr>\n",
       "      <th>BsmtFullBath</th>\n",
       "      <td>0.137080</td>\n",
       "    </tr>\n",
       "    <tr>\n",
       "      <th>BsmtFinSF1</th>\n",
       "      <td>0.068540</td>\n",
       "    </tr>\n",
       "    <tr>\n",
       "      <th>BsmtFinSF2</th>\n",
       "      <td>0.068540</td>\n",
       "    </tr>\n",
       "    <tr>\n",
       "      <th>BsmtUnfSF</th>\n",
       "      <td>0.068540</td>\n",
       "    </tr>\n",
       "    <tr>\n",
       "      <th>KitchenQual</th>\n",
       "      <td>0.068540</td>\n",
       "    </tr>\n",
       "    <tr>\n",
       "      <th>TotalBsmtSF</th>\n",
       "      <td>0.068540</td>\n",
       "    </tr>\n",
       "    <tr>\n",
       "      <th>Exterior2nd</th>\n",
       "      <td>0.068540</td>\n",
       "    </tr>\n",
       "    <tr>\n",
       "      <th>GarageCars</th>\n",
       "      <td>0.068540</td>\n",
       "    </tr>\n",
       "  </tbody>\n",
       "</table>\n",
       "</div>"
      ],
      "text/plain": [
       "              Missing Ratio\n",
       "PoolQC            99.794380\n",
       "MiscFeature       96.504455\n",
       "Alley             92.666210\n",
       "Fence             80.123372\n",
       "FireplaceQu       50.034270\n",
       "LotFrontage       15.558602\n",
       "GarageYrBlt        5.346127\n",
       "GarageQual         5.346127\n",
       "GarageFinish       5.346127\n",
       "GarageCond         5.346127\n",
       "GarageType         5.209047\n",
       "BsmtCond           3.084304\n",
       "BsmtQual           3.015764\n",
       "BsmtExposure       3.015764\n",
       "BsmtFinType1       2.878684\n",
       "BsmtFinType2       2.878684\n",
       "MasVnrType         1.096642\n",
       "MasVnrArea         1.028101\n",
       "MSZoning           0.274160\n",
       "BsmtHalfBath       0.137080\n",
       "Utilities          0.137080\n",
       "Functional         0.137080\n",
       "BsmtFullBath       0.137080\n",
       "BsmtFinSF1         0.068540\n",
       "BsmtFinSF2         0.068540\n",
       "BsmtUnfSF          0.068540\n",
       "KitchenQual        0.068540\n",
       "TotalBsmtSF        0.068540\n",
       "Exterior2nd        0.068540\n",
       "GarageCars         0.068540"
      ]
     },
     "execution_count": 571,
     "metadata": {},
     "output_type": "execute_result"
    }
   ],
   "source": [
    "df_test_nu = (df_test.isnull().sum() / len(df_test)) * 100\n",
    "df_test_nu = df_test_nu.drop(df_train_nu[df_test_nu == 0].index).sort_values(ascending=False)[:30]\n",
    "missing_data = pd.DataFrame({'Missing Ratio' :df_test_nu})\n",
    "missing_data.head(100)"
   ]
  },
  {
   "cell_type": "code",
   "execution_count": 572,
   "id": "dc3933e0",
   "metadata": {
    "papermill": {
     "duration": 0.216013,
     "end_time": "2022-03-10T15:47:52.213513",
     "exception": false,
     "start_time": "2022-03-10T15:47:51.997500",
     "status": "completed"
    },
    "tags": []
   },
   "outputs": [],
   "source": [
    "df_test.drop(['PoolQC','MiscFeature','Alley','Fence','FireplaceQu'], axis = 1, inplace = True )"
   ]
  },
  {
   "cell_type": "code",
   "execution_count": 573,
   "id": "2bf64a6d",
   "metadata": {
    "papermill": {
     "duration": 0.404774,
     "end_time": "2022-03-10T15:47:52.828688",
     "exception": false,
     "start_time": "2022-03-10T15:47:52.423914",
     "status": "completed"
    },
    "tags": []
   },
   "outputs": [],
   "source": [
    "df_test['LotFrontage'].fillna(df_test.LotFrontage.median(), inplace = True)\n",
    "df_test['GarageType'].fillna(df_test['GarageType'].mode()[0], inplace = True)\n",
    "df_test['GarageYrBlt'].fillna(df_test.GarageYrBlt.median(), inplace = True)\n",
    "df_test['GarageFinish'].fillna(df_test.GarageFinish.mode()[0], inplace = True)\n",
    "df_test['GarageQual'].fillna(df_test.GarageQual.mode()[0], inplace = True)\n",
    "df_test['GarageCond'].fillna(df_test.GarageCond.mode()[0], inplace = True)\n",
    "df_test['BsmtExposure'].fillna(df_test.BsmtExposure.mode()[0], inplace = True)\n",
    "df_test['BsmtFinType2'].fillna(df_test.BsmtFinType2.mode()[0], inplace = True)\n",
    "df_test['BsmtQual'].fillna(df_test.BsmtQual.mode()[0], inplace = True)\n",
    "df_test['BsmtCond'].fillna(df_test.BsmtCond.mode()[0], inplace = True)\n",
    "df_test['BsmtFinType1'].fillna(df_test.BsmtFinType1.mode()[0], inplace = True)\n",
    "df_test['MasVnrArea'].fillna(df_test.MasVnrArea.median(), inplace = True)\n",
    "df_test['Electrical'].fillna(df_test.Electrical.mode()[0], inplace = True)\n",
    "df_test['MasVnrType'].fillna(df_test.MasVnrType.mode()[0], inplace = True)\n",
    "\n",
    "df_test['BsmtFullBath'].fillna(df_test.BsmtFullBath.mode()[0], inplace = True)\n",
    "df_test['BsmtHalfBath'].fillna(df_test.BsmtHalfBath.mode()[0], inplace = True)\n",
    "df_test['BsmtFinSF1'].fillna(df_test.BsmtFinSF1.median(), inplace = True)\n",
    "df_test['GarageCars'].fillna(df_test.GarageCars.mode()[0], inplace = True)\n",
    "df_test['GarageArea'].fillna(df_test.GarageArea.mean(), inplace = True)\n",
    "df_test['TotalBsmtSF'].fillna(df_test.TotalBsmtSF.mode()[0], inplace = True)\n",
    "df_test['BsmtFinSF2'].fillna(df_test.BsmtFinSF2.mode()[0], inplace = True)\n",
    "df_test['BsmtUnfSF'].fillna(df_test.BsmtUnfSF.median(), inplace = True)\n",
    "df_test['MSZoning'].fillna(df_test.MSZoning.mode()[0], inplace = True)\n",
    "df_test['Functional'].fillna(df_test.Functional.mode()[0], inplace = True)\n",
    "df_test['Utilities'].fillna(df_test.Utilities.mode()[0], inplace = True)\n",
    "df_test['Exterior2nd'].fillna(df_test.Exterior2nd.mode()[0], inplace = True)\n",
    "df_test['Exterior1st'].fillna(df_test.Exterior1st.mode()[0], inplace = True)\n",
    "df_test['SaleType'].fillna(df_test.SaleType.mode()[0], inplace = True)\n",
    "df_test['KitchenQual'].fillna(df_test.KitchenQual.mode()[0], inplace = True)\n"
   ]
  },
  {
   "cell_type": "code",
   "execution_count": 574,
   "id": "9e1535c9",
   "metadata": {
    "papermill": {
     "duration": 0.238734,
     "end_time": "2022-03-10T15:47:53.274337",
     "exception": false,
     "start_time": "2022-03-10T15:47:53.035603",
     "status": "completed"
    },
    "tags": []
   },
   "outputs": [
    {
     "data": {
      "text/html": [
       "<div>\n",
       "<style scoped>\n",
       "    .dataframe tbody tr th:only-of-type {\n",
       "        vertical-align: middle;\n",
       "    }\n",
       "\n",
       "    .dataframe tbody tr th {\n",
       "        vertical-align: top;\n",
       "    }\n",
       "\n",
       "    .dataframe thead th {\n",
       "        text-align: right;\n",
       "    }\n",
       "</style>\n",
       "<table border=\"1\" class=\"dataframe\">\n",
       "  <thead>\n",
       "    <tr style=\"text-align: right;\">\n",
       "      <th></th>\n",
       "      <th>Missing Ratio</th>\n",
       "    </tr>\n",
       "  </thead>\n",
       "  <tbody>\n",
       "    <tr>\n",
       "      <th>Id</th>\n",
       "      <td>0.0</td>\n",
       "    </tr>\n",
       "    <tr>\n",
       "      <th>GarageType</th>\n",
       "      <td>0.0</td>\n",
       "    </tr>\n",
       "    <tr>\n",
       "      <th>Functional</th>\n",
       "      <td>0.0</td>\n",
       "    </tr>\n",
       "    <tr>\n",
       "      <th>TotRmsAbvGrd</th>\n",
       "      <td>0.0</td>\n",
       "    </tr>\n",
       "    <tr>\n",
       "      <th>KitchenQual</th>\n",
       "      <td>0.0</td>\n",
       "    </tr>\n",
       "    <tr>\n",
       "      <th>KitchenAbvGr</th>\n",
       "      <td>0.0</td>\n",
       "    </tr>\n",
       "    <tr>\n",
       "      <th>BedroomAbvGr</th>\n",
       "      <td>0.0</td>\n",
       "    </tr>\n",
       "    <tr>\n",
       "      <th>HalfBath</th>\n",
       "      <td>0.0</td>\n",
       "    </tr>\n",
       "    <tr>\n",
       "      <th>FullBath</th>\n",
       "      <td>0.0</td>\n",
       "    </tr>\n",
       "    <tr>\n",
       "      <th>BsmtHalfBath</th>\n",
       "      <td>0.0</td>\n",
       "    </tr>\n",
       "    <tr>\n",
       "      <th>BsmtFullBath</th>\n",
       "      <td>0.0</td>\n",
       "    </tr>\n",
       "    <tr>\n",
       "      <th>GrLivArea</th>\n",
       "      <td>0.0</td>\n",
       "    </tr>\n",
       "    <tr>\n",
       "      <th>LowQualFinSF</th>\n",
       "      <td>0.0</td>\n",
       "    </tr>\n",
       "    <tr>\n",
       "      <th>2ndFlrSF</th>\n",
       "      <td>0.0</td>\n",
       "    </tr>\n",
       "    <tr>\n",
       "      <th>1stFlrSF</th>\n",
       "      <td>0.0</td>\n",
       "    </tr>\n",
       "    <tr>\n",
       "      <th>Electrical</th>\n",
       "      <td>0.0</td>\n",
       "    </tr>\n",
       "    <tr>\n",
       "      <th>CentralAir</th>\n",
       "      <td>0.0</td>\n",
       "    </tr>\n",
       "    <tr>\n",
       "      <th>Fireplaces</th>\n",
       "      <td>0.0</td>\n",
       "    </tr>\n",
       "    <tr>\n",
       "      <th>GarageYrBlt</th>\n",
       "      <td>0.0</td>\n",
       "    </tr>\n",
       "    <tr>\n",
       "      <th>Heating</th>\n",
       "      <td>0.0</td>\n",
       "    </tr>\n",
       "    <tr>\n",
       "      <th>GarageFinish</th>\n",
       "      <td>0.0</td>\n",
       "    </tr>\n",
       "    <tr>\n",
       "      <th>SaleType</th>\n",
       "      <td>0.0</td>\n",
       "    </tr>\n",
       "    <tr>\n",
       "      <th>YrSold</th>\n",
       "      <td>0.0</td>\n",
       "    </tr>\n",
       "    <tr>\n",
       "      <th>MoSold</th>\n",
       "      <td>0.0</td>\n",
       "    </tr>\n",
       "    <tr>\n",
       "      <th>MiscVal</th>\n",
       "      <td>0.0</td>\n",
       "    </tr>\n",
       "    <tr>\n",
       "      <th>PoolArea</th>\n",
       "      <td>0.0</td>\n",
       "    </tr>\n",
       "    <tr>\n",
       "      <th>ScreenPorch</th>\n",
       "      <td>0.0</td>\n",
       "    </tr>\n",
       "    <tr>\n",
       "      <th>3SsnPorch</th>\n",
       "      <td>0.0</td>\n",
       "    </tr>\n",
       "    <tr>\n",
       "      <th>EnclosedPorch</th>\n",
       "      <td>0.0</td>\n",
       "    </tr>\n",
       "    <tr>\n",
       "      <th>OpenPorchSF</th>\n",
       "      <td>0.0</td>\n",
       "    </tr>\n",
       "  </tbody>\n",
       "</table>\n",
       "</div>"
      ],
      "text/plain": [
       "               Missing Ratio\n",
       "Id                       0.0\n",
       "GarageType               0.0\n",
       "Functional               0.0\n",
       "TotRmsAbvGrd             0.0\n",
       "KitchenQual              0.0\n",
       "KitchenAbvGr             0.0\n",
       "BedroomAbvGr             0.0\n",
       "HalfBath                 0.0\n",
       "FullBath                 0.0\n",
       "BsmtHalfBath             0.0\n",
       "BsmtFullBath             0.0\n",
       "GrLivArea                0.0\n",
       "LowQualFinSF             0.0\n",
       "2ndFlrSF                 0.0\n",
       "1stFlrSF                 0.0\n",
       "Electrical               0.0\n",
       "CentralAir               0.0\n",
       "Fireplaces               0.0\n",
       "GarageYrBlt              0.0\n",
       "Heating                  0.0\n",
       "GarageFinish             0.0\n",
       "SaleType                 0.0\n",
       "YrSold                   0.0\n",
       "MoSold                   0.0\n",
       "MiscVal                  0.0\n",
       "PoolArea                 0.0\n",
       "ScreenPorch              0.0\n",
       "3SsnPorch                0.0\n",
       "EnclosedPorch            0.0\n",
       "OpenPorchSF              0.0"
      ]
     },
     "execution_count": 574,
     "metadata": {},
     "output_type": "execute_result"
    }
   ],
   "source": [
    "df_test_nu = (df_test.isnull().sum() / len(df_test)) * 100\n",
    "df_test_nu = df_test_nu.drop(df_train_nu[df_test_nu == 0].index).sort_values(ascending=False)[:30]\n",
    "missing_data = pd.DataFrame({'Missing Ratio' :df_test_nu})\n",
    "missing_data.head(100)"
   ]
  },
  {
   "cell_type": "code",
   "execution_count": 575,
   "id": "786268fe",
   "metadata": {
    "papermill": {
     "duration": 0.222437,
     "end_time": "2022-03-10T15:47:53.712381",
     "exception": false,
     "start_time": "2022-03-10T15:47:53.489944",
     "status": "completed"
    },
    "tags": []
   },
   "outputs": [
    {
     "data": {
      "text/plain": [
       "Index(['MSZoning', 'Street', 'LotShape', 'LandContour', 'Utilities',\n",
       "       'LotConfig', 'LandSlope', 'Neighborhood', 'Condition1', 'Condition2',\n",
       "       'BldgType', 'HouseStyle', 'RoofStyle', 'RoofMatl', 'Exterior1st',\n",
       "       'Exterior2nd', 'MasVnrType', 'ExterQual', 'ExterCond', 'Foundation',\n",
       "       'BsmtQual', 'BsmtCond', 'BsmtExposure', 'BsmtFinType1', 'BsmtFinType2',\n",
       "       'Heating', 'HeatingQC', 'CentralAir', 'Electrical', 'KitchenQual',\n",
       "       'Functional', 'GarageType', 'GarageFinish', 'GarageQual', 'GarageCond',\n",
       "       'PavedDrive', 'SaleType', 'SaleCondition'],\n",
       "      dtype='object')"
      ]
     },
     "execution_count": 575,
     "metadata": {},
     "output_type": "execute_result"
    }
   ],
   "source": [
    "df_test.select_dtypes(include=['object'])\n",
    "df_test_object=df_test.select_dtypes(include=['object'])\n",
    "df_test_object.columns"
   ]
  },
  {
   "cell_type": "code",
   "execution_count": 576,
   "id": "0151d52c",
   "metadata": {
    "papermill": {
     "duration": 0.330087,
     "end_time": "2022-03-10T15:47:54.252949",
     "exception": false,
     "start_time": "2022-03-10T15:47:53.922862",
     "status": "completed"
    },
    "tags": []
   },
   "outputs": [],
   "source": [
    "for i in object_cols:\n",
    "    lb_encoder = LabelEncoder() \n",
    "    lb_encoder.fit(list(df_test[i].values)) \n",
    "    df_test[i] = lb_encoder.transform(list(df_test[i].values))"
   ]
  },
  {
   "cell_type": "code",
   "execution_count": 577,
   "id": "e525cfad",
   "metadata": {
    "papermill": {
     "duration": 0.230523,
     "end_time": "2022-03-10T15:47:54.692844",
     "exception": false,
     "start_time": "2022-03-10T15:47:54.462321",
     "status": "completed"
    },
    "tags": []
   },
   "outputs": [
    {
     "name": "stdout",
     "output_type": "stream",
     "text": [
      "<class 'pandas.core.frame.DataFrame'>\n",
      "RangeIndex: 1459 entries, 0 to 1458\n",
      "Data columns (total 75 columns):\n",
      " #   Column         Non-Null Count  Dtype  \n",
      "---  ------         --------------  -----  \n",
      " 0   Id             1459 non-null   int64  \n",
      " 1   MSSubClass     1459 non-null   int64  \n",
      " 2   MSZoning       1459 non-null   int64  \n",
      " 3   LotFrontage    1459 non-null   float64\n",
      " 4   LotArea        1459 non-null   int64  \n",
      " 5   Street         1459 non-null   int64  \n",
      " 6   LotShape       1459 non-null   int64  \n",
      " 7   LandContour    1459 non-null   int64  \n",
      " 8   Utilities      1459 non-null   int64  \n",
      " 9   LotConfig      1459 non-null   int64  \n",
      " 10  LandSlope      1459 non-null   int64  \n",
      " 11  Neighborhood   1459 non-null   int64  \n",
      " 12  Condition1     1459 non-null   int64  \n",
      " 13  Condition2     1459 non-null   int64  \n",
      " 14  BldgType       1459 non-null   int64  \n",
      " 15  HouseStyle     1459 non-null   int64  \n",
      " 16  OverallQual    1459 non-null   int64  \n",
      " 17  OverallCond    1459 non-null   int64  \n",
      " 18  YearBuilt      1459 non-null   int64  \n",
      " 19  YearRemodAdd   1459 non-null   int64  \n",
      " 20  RoofStyle      1459 non-null   int64  \n",
      " 21  RoofMatl       1459 non-null   int64  \n",
      " 22  Exterior1st    1459 non-null   int64  \n",
      " 23  Exterior2nd    1459 non-null   int64  \n",
      " 24  MasVnrType     1459 non-null   int64  \n",
      " 25  MasVnrArea     1459 non-null   float64\n",
      " 26  ExterQual      1459 non-null   int64  \n",
      " 27  ExterCond      1459 non-null   int64  \n",
      " 28  Foundation     1459 non-null   int64  \n",
      " 29  BsmtQual       1459 non-null   int64  \n",
      " 30  BsmtCond       1459 non-null   int64  \n",
      " 31  BsmtExposure   1459 non-null   int64  \n",
      " 32  BsmtFinType1   1459 non-null   int64  \n",
      " 33  BsmtFinSF1     1459 non-null   float64\n",
      " 34  BsmtFinType2   1459 non-null   int64  \n",
      " 35  BsmtFinSF2     1459 non-null   float64\n",
      " 36  BsmtUnfSF      1459 non-null   float64\n",
      " 37  TotalBsmtSF    1459 non-null   float64\n",
      " 38  Heating        1459 non-null   int64  \n",
      " 39  HeatingQC      1459 non-null   int64  \n",
      " 40  CentralAir     1459 non-null   int64  \n",
      " 41  Electrical     1459 non-null   int64  \n",
      " 42  1stFlrSF       1459 non-null   int64  \n",
      " 43  2ndFlrSF       1459 non-null   int64  \n",
      " 44  LowQualFinSF   1459 non-null   int64  \n",
      " 45  GrLivArea      1459 non-null   int64  \n",
      " 46  BsmtFullBath   1459 non-null   float64\n",
      " 47  BsmtHalfBath   1459 non-null   float64\n",
      " 48  FullBath       1459 non-null   int64  \n",
      " 49  HalfBath       1459 non-null   int64  \n",
      " 50  BedroomAbvGr   1459 non-null   int64  \n",
      " 51  KitchenAbvGr   1459 non-null   int64  \n",
      " 52  KitchenQual    1459 non-null   int64  \n",
      " 53  TotRmsAbvGrd   1459 non-null   int64  \n",
      " 54  Functional     1459 non-null   int64  \n",
      " 55  Fireplaces     1459 non-null   int64  \n",
      " 56  GarageType     1459 non-null   int64  \n",
      " 57  GarageYrBlt    1459 non-null   float64\n",
      " 58  GarageFinish   1459 non-null   int64  \n",
      " 59  GarageCars     1459 non-null   float64\n",
      " 60  GarageArea     1459 non-null   float64\n",
      " 61  GarageQual     1459 non-null   int64  \n",
      " 62  GarageCond     1459 non-null   int64  \n",
      " 63  PavedDrive     1459 non-null   int64  \n",
      " 64  WoodDeckSF     1459 non-null   int64  \n",
      " 65  OpenPorchSF    1459 non-null   int64  \n",
      " 66  EnclosedPorch  1459 non-null   int64  \n",
      " 67  3SsnPorch      1459 non-null   int64  \n",
      " 68  ScreenPorch    1459 non-null   int64  \n",
      " 69  PoolArea       1459 non-null   int64  \n",
      " 70  MiscVal        1459 non-null   int64  \n",
      " 71  MoSold         1459 non-null   int64  \n",
      " 72  YrSold         1459 non-null   int64  \n",
      " 73  SaleType       1459 non-null   int64  \n",
      " 74  SaleCondition  1459 non-null   int64  \n",
      "dtypes: float64(11), int64(64)\n",
      "memory usage: 855.0 KB\n"
     ]
    }
   ],
   "source": [
    "df_test.select_dtypes(include=['object'])\n",
    "df_test.info()"
   ]
  },
  {
   "cell_type": "code",
   "execution_count": 578,
   "id": "9f6ac45d",
   "metadata": {
    "papermill": {
     "duration": 0.269224,
     "end_time": "2022-03-10T15:47:55.173699",
     "exception": false,
     "start_time": "2022-03-10T15:47:54.904475",
     "status": "completed"
    },
    "tags": []
   },
   "outputs": [],
   "source": [
    "from sklearn.model_selection import train_test_split\n",
    "from sklearn import preprocessing"
   ]
  },
  {
   "cell_type": "code",
   "execution_count": 579,
   "id": "15d43e31",
   "metadata": {
    "papermill": {
     "duration": 0.216282,
     "end_time": "2022-03-10T15:47:55.601181",
     "exception": false,
     "start_time": "2022-03-10T15:47:55.384899",
     "status": "completed"
    },
    "tags": []
   },
   "outputs": [],
   "source": [
    "x_data=df_train.drop('SalePrice',axis=1)\n",
    "y_data=df_train['SalePrice']"
   ]
  },
  {
   "cell_type": "code",
   "execution_count": 580,
   "id": "1dc6cb41",
   "metadata": {
    "papermill": {
     "duration": 0.232956,
     "end_time": "2022-03-10T15:47:56.041117",
     "exception": false,
     "start_time": "2022-03-10T15:47:55.808161",
     "status": "completed"
    },
    "tags": []
   },
   "outputs": [
    {
     "name": "stdout",
     "output_type": "stream",
     "text": [
      "<class 'pandas.core.frame.DataFrame'>\n",
      "Int64Index: 1159 entries, 1320 to 847\n",
      "Data columns (total 75 columns):\n",
      " #   Column         Non-Null Count  Dtype  \n",
      "---  ------         --------------  -----  \n",
      " 0   Id             1159 non-null   int64  \n",
      " 1   MSSubClass     1159 non-null   int64  \n",
      " 2   MSZoning       1159 non-null   int64  \n",
      " 3   LotFrontage    1159 non-null   float64\n",
      " 4   LotArea        1159 non-null   int64  \n",
      " 5   Street         1159 non-null   int64  \n",
      " 6   LotShape       1159 non-null   int64  \n",
      " 7   LandContour    1159 non-null   int64  \n",
      " 8   Utilities      1159 non-null   int64  \n",
      " 9   LotConfig      1159 non-null   int64  \n",
      " 10  LandSlope      1159 non-null   int64  \n",
      " 11  Neighborhood   1159 non-null   int64  \n",
      " 12  Condition1     1159 non-null   int64  \n",
      " 13  Condition2     1159 non-null   int64  \n",
      " 14  BldgType       1159 non-null   int64  \n",
      " 15  HouseStyle     1159 non-null   int64  \n",
      " 16  OverallQual    1159 non-null   int64  \n",
      " 17  OverallCond    1159 non-null   int64  \n",
      " 18  YearBuilt      1159 non-null   int64  \n",
      " 19  YearRemodAdd   1159 non-null   int64  \n",
      " 20  RoofStyle      1159 non-null   int64  \n",
      " 21  RoofMatl       1159 non-null   int64  \n",
      " 22  Exterior1st    1159 non-null   int64  \n",
      " 23  Exterior2nd    1159 non-null   int64  \n",
      " 24  MasVnrType     1159 non-null   int64  \n",
      " 25  MasVnrArea     1159 non-null   float64\n",
      " 26  ExterQual      1159 non-null   int64  \n",
      " 27  ExterCond      1159 non-null   int64  \n",
      " 28  Foundation     1159 non-null   int64  \n",
      " 29  BsmtQual       1159 non-null   int64  \n",
      " 30  BsmtCond       1159 non-null   int64  \n",
      " 31  BsmtExposure   1159 non-null   int64  \n",
      " 32  BsmtFinType1   1159 non-null   int64  \n",
      " 33  BsmtFinSF1     1159 non-null   int64  \n",
      " 34  BsmtFinType2   1159 non-null   int64  \n",
      " 35  BsmtFinSF2     1159 non-null   int64  \n",
      " 36  BsmtUnfSF      1159 non-null   int64  \n",
      " 37  TotalBsmtSF    1159 non-null   int64  \n",
      " 38  Heating        1159 non-null   int64  \n",
      " 39  HeatingQC      1159 non-null   int64  \n",
      " 40  CentralAir     1159 non-null   int64  \n",
      " 41  Electrical     1159 non-null   int64  \n",
      " 42  1stFlrSF       1159 non-null   int64  \n",
      " 43  2ndFlrSF       1159 non-null   int64  \n",
      " 44  LowQualFinSF   1159 non-null   int64  \n",
      " 45  GrLivArea      1159 non-null   int64  \n",
      " 46  BsmtFullBath   1159 non-null   int64  \n",
      " 47  BsmtHalfBath   1159 non-null   int64  \n",
      " 48  FullBath       1159 non-null   int64  \n",
      " 49  HalfBath       1159 non-null   int64  \n",
      " 50  BedroomAbvGr   1159 non-null   int64  \n",
      " 51  KitchenAbvGr   1159 non-null   int64  \n",
      " 52  KitchenQual    1159 non-null   int64  \n",
      " 53  TotRmsAbvGrd   1159 non-null   int64  \n",
      " 54  Functional     1159 non-null   int64  \n",
      " 55  Fireplaces     1159 non-null   int64  \n",
      " 56  GarageType     1159 non-null   int64  \n",
      " 57  GarageYrBlt    1159 non-null   float64\n",
      " 58  GarageFinish   1159 non-null   int64  \n",
      " 59  GarageCars     1159 non-null   int64  \n",
      " 60  GarageArea     1159 non-null   int64  \n",
      " 61  GarageQual     1159 non-null   int64  \n",
      " 62  GarageCond     1159 non-null   int64  \n",
      " 63  PavedDrive     1159 non-null   int64  \n",
      " 64  WoodDeckSF     1159 non-null   int64  \n",
      " 65  OpenPorchSF    1159 non-null   int64  \n",
      " 66  EnclosedPorch  1159 non-null   int64  \n",
      " 67  3SsnPorch      1159 non-null   int64  \n",
      " 68  ScreenPorch    1159 non-null   int64  \n",
      " 69  PoolArea       1159 non-null   int64  \n",
      " 70  MiscVal        1159 non-null   int64  \n",
      " 71  MoSold         1159 non-null   int64  \n",
      " 72  YrSold         1159 non-null   int64  \n",
      " 73  SaleType       1159 non-null   int64  \n",
      " 74  SaleCondition  1159 non-null   int64  \n",
      "dtypes: float64(3), int64(72)\n",
      "memory usage: 688.2 KB\n"
     ]
    }
   ],
   "source": [
    "x_train, x_test, y_train, y_test = train_test_split(x_data, y_data, test_size = 0.2)\n",
    "x_train.info()"
   ]
  },
  {
   "cell_type": "code",
   "execution_count": 581,
   "id": "841d3b74",
   "metadata": {
    "papermill": {
     "duration": 0.29186,
     "end_time": "2022-03-10T15:47:56.542018",
     "exception": false,
     "start_time": "2022-03-10T15:47:56.250158",
     "status": "completed"
    },
    "tags": []
   },
   "outputs": [],
   "source": [
    "from sklearn.linear_model import LinearRegression"
   ]
  },
  {
   "cell_type": "code",
   "execution_count": 582,
   "id": "04b3deb8",
   "metadata": {
    "papermill": {
     "duration": 0.219362,
     "end_time": "2022-03-10T15:47:56.972729",
     "exception": false,
     "start_time": "2022-03-10T15:47:56.753367",
     "status": "completed"
    },
    "tags": []
   },
   "outputs": [],
   "source": [
    "model = LinearRegression()"
   ]
  },
  {
   "cell_type": "code",
   "execution_count": 583,
   "id": "73b4af04",
   "metadata": {
    "papermill": {
     "duration": 0.248871,
     "end_time": "2022-03-10T15:47:57.429774",
     "exception": false,
     "start_time": "2022-03-10T15:47:57.180903",
     "status": "completed"
    },
    "tags": []
   },
   "outputs": [],
   "source": [
    "model.fit(x_train , y_train)\n",
    "predictions = model.predict(x_test)"
   ]
  },
  {
   "cell_type": "code",
   "execution_count": 584,
   "id": "5787f329",
   "metadata": {
    "papermill": {
     "duration": 0.255821,
     "end_time": "2022-03-10T15:47:57.973041",
     "exception": false,
     "start_time": "2022-03-10T15:47:57.717220",
     "status": "completed"
    },
    "tags": []
   },
   "outputs": [],
   "source": [
    "from sklearn import metrics\n",
    "from sklearn.metrics import mean_squared_error,mean_absolute_error,explained_variance_score, r2_score"
   ]
  },
  {
   "cell_type": "code",
   "execution_count": 585,
   "id": "682bb3e2",
   "metadata": {
    "papermill": {
     "duration": 0.217053,
     "end_time": "2022-03-10T15:47:58.399482",
     "exception": false,
     "start_time": "2022-03-10T15:47:58.182429",
     "status": "completed"
    },
    "tags": []
   },
   "outputs": [
    {
     "name": "stdout",
     "output_type": "stream",
     "text": [
      "Mean Absolute Error(MAE): 0.08557810833145717\n",
      "Mean Squared Error(MSE): 0.013580552721336283\n",
      "Root Mean Squared Error (RMSE): 0.1165356285491106\n",
      "Explained Variance Score (EVS): 0.9042299015333138\n",
      "Accuracy: 0.9042290289795593\n"
     ]
    }
   ],
   "source": [
    "print('Mean Absolute Error(MAE):', metrics.mean_absolute_error(y_test, predictions))\n",
    "print('Mean Squared Error(MSE):', metrics.mean_squared_error(y_test, predictions))\n",
    "print('Root Mean Squared Error (RMSE):', np.sqrt(metrics.mean_squared_error(y_test, predictions)))\n",
    "print('Explained Variance Score (EVS):',explained_variance_score(y_test,predictions))\n",
    "print('Accuracy:',metrics.r2_score(y_test, predictions))"
   ]
  },
  {
   "cell_type": "code",
   "execution_count": 586,
   "id": "a1bc69b9",
   "metadata": {
    "papermill": {
     "duration": 0.31083,
     "end_time": "2022-03-10T15:48:02.697088",
     "exception": false,
     "start_time": "2022-03-10T15:48:02.386258",
     "status": "completed"
    },
    "tags": []
   },
   "outputs": [],
   "source": [
    "from sklearn.tree import DecisionTreeRegressor"
   ]
  },
  {
   "cell_type": "code",
   "execution_count": 587,
   "id": "001f3e40",
   "metadata": {
    "papermill": {
     "duration": 0.235086,
     "end_time": "2022-03-10T15:48:03.142363",
     "exception": false,
     "start_time": "2022-03-10T15:48:02.907277",
     "status": "completed"
    },
    "tags": []
   },
   "outputs": [],
   "source": [
    "model_DecisionTree = DecisionTreeRegressor()\n",
    "model_DecisionTree.fit(x_train , y_train)\n",
    "DecisionTree_predictions = model_DecisionTree.predict(x_test)"
   ]
  },
  {
   "cell_type": "code",
   "execution_count": 588,
   "id": "dc4d2f21",
   "metadata": {
    "papermill": {
     "duration": 0.251436,
     "end_time": "2022-03-10T15:48:03.680241",
     "exception": false,
     "start_time": "2022-03-10T15:48:03.428805",
     "status": "completed"
    },
    "tags": []
   },
   "outputs": [
    {
     "name": "stdout",
     "output_type": "stream",
     "text": [
      "Mean Absolute Error(MAE): 0.14471885846718519\n",
      "Mean Squared Error(MSE): 0.04246158127760776\n",
      "Root Mean Squared Error (RMSE): 0.20606208112510113\n",
      "Explained Variance Score (EVS): 0.7011020265650643\n",
      "Accuracy: 0.7005580734846759\n"
     ]
    }
   ],
   "source": [
    "print('Mean Absolute Error(MAE):', metrics.mean_absolute_error(y_test, DecisionTree_predictions))\n",
    "print('Mean Squared Error(MSE):', metrics.mean_squared_error(y_test, DecisionTree_predictions))\n",
    "print('Root Mean Squared Error (RMSE):', np.sqrt(metrics.mean_squared_error(y_test, DecisionTree_predictions)))\n",
    "print('Explained Variance Score (EVS):',explained_variance_score(y_test,DecisionTree_predictions))\n",
    "print('Accuracy:',metrics.r2_score(y_test, DecisionTree_predictions))"
   ]
  },
  {
   "cell_type": "code",
   "execution_count": 589,
   "id": "46d9d5de",
   "metadata": {
    "papermill": {
     "duration": 0.289615,
     "end_time": "2022-03-10T15:48:04.183536",
     "exception": false,
     "start_time": "2022-03-10T15:48:03.893921",
     "status": "completed"
    },
    "tags": []
   },
   "outputs": [],
   "source": [
    "from sklearn.ensemble import RandomForestRegressor"
   ]
  },
  {
   "cell_type": "code",
   "execution_count": 590,
   "id": "1b704c53",
   "metadata": {
    "papermill": {
     "duration": 0.248656,
     "end_time": "2022-03-10T15:48:04.643049",
     "exception": false,
     "start_time": "2022-03-10T15:48:04.394393",
     "status": "completed"
    },
    "tags": []
   },
   "outputs": [],
   "source": [
    "model_RandomForest = RandomForestRegressor()\n",
    "model_RandomForest.fit(x_train , y_train)\n",
    "RandomForest_predictions = model_RandomForest.predict(x_test)"
   ]
  },
  {
   "cell_type": "code",
   "execution_count": 591,
   "id": "814545fa",
   "metadata": {
    "papermill": {
     "duration": 0.235683,
     "end_time": "2022-03-10T15:48:05.219271",
     "exception": false,
     "start_time": "2022-03-10T15:48:04.983588",
     "status": "completed"
    },
    "tags": []
   },
   "outputs": [
    {
     "name": "stdout",
     "output_type": "stream",
     "text": [
      "Mean Absolute Error(MAE): 0.09023365649255957\n",
      "Mean Squared Error(MSE): 0.01696100832635275\n",
      "Root Mean Squared Error (RMSE): 0.13023443602347556\n",
      "Explained Variance Score (EVS): 0.8807299071755317\n",
      "Accuracy: 0.8803898287329244\n"
     ]
    }
   ],
   "source": [
    "print('Mean Absolute Error(MAE):', metrics.mean_absolute_error(y_test, RandomForest_predictions))\n",
    "print('Mean Squared Error(MSE):', metrics.mean_squared_error(y_test, RandomForest_predictions))\n",
    "print('Root Mean Squared Error (RMSE):', np.sqrt(metrics.mean_squared_error(y_test, RandomForest_predictions)))\n",
    "print('Explained Variance Score (EVS):',explained_variance_score(y_test,RandomForest_predictions))\n",
    "print('Accuracy:',metrics.r2_score(y_test, RandomForest_predictions))"
   ]
  },
  {
   "cell_type": "code",
   "execution_count": 592,
   "id": "0716afc2",
   "metadata": {
    "papermill": {
     "duration": 0.236754,
     "end_time": "2022-03-10T15:48:06.107677",
     "exception": false,
     "start_time": "2022-03-10T15:48:05.870923",
     "status": "completed"
    },
    "tags": []
   },
   "outputs": [
    {
     "data": {
      "text/html": [
       "<div>\n",
       "<style scoped>\n",
       "    .dataframe tbody tr th:only-of-type {\n",
       "        vertical-align: middle;\n",
       "    }\n",
       "\n",
       "    .dataframe tbody tr th {\n",
       "        vertical-align: top;\n",
       "    }\n",
       "\n",
       "    .dataframe thead th {\n",
       "        text-align: right;\n",
       "    }\n",
       "</style>\n",
       "<table border=\"1\" class=\"dataframe\">\n",
       "  <thead>\n",
       "    <tr style=\"text-align: right;\">\n",
       "      <th></th>\n",
       "      <th>Id</th>\n",
       "      <th>MSSubClass</th>\n",
       "      <th>MSZoning</th>\n",
       "      <th>LotFrontage</th>\n",
       "      <th>LotArea</th>\n",
       "      <th>Street</th>\n",
       "      <th>LotShape</th>\n",
       "      <th>LandContour</th>\n",
       "      <th>Utilities</th>\n",
       "      <th>LotConfig</th>\n",
       "      <th>...</th>\n",
       "      <th>OpenPorchSF</th>\n",
       "      <th>EnclosedPorch</th>\n",
       "      <th>3SsnPorch</th>\n",
       "      <th>ScreenPorch</th>\n",
       "      <th>PoolArea</th>\n",
       "      <th>MiscVal</th>\n",
       "      <th>MoSold</th>\n",
       "      <th>YrSold</th>\n",
       "      <th>SaleType</th>\n",
       "      <th>SaleCondition</th>\n",
       "    </tr>\n",
       "  </thead>\n",
       "  <tbody>\n",
       "    <tr>\n",
       "      <th>0</th>\n",
       "      <td>1461</td>\n",
       "      <td>0</td>\n",
       "      <td>2</td>\n",
       "      <td>80.0</td>\n",
       "      <td>11622</td>\n",
       "      <td>1</td>\n",
       "      <td>3</td>\n",
       "      <td>3</td>\n",
       "      <td>0</td>\n",
       "      <td>4</td>\n",
       "      <td>...</td>\n",
       "      <td>0</td>\n",
       "      <td>0</td>\n",
       "      <td>0</td>\n",
       "      <td>120</td>\n",
       "      <td>0</td>\n",
       "      <td>0</td>\n",
       "      <td>5</td>\n",
       "      <td>4</td>\n",
       "      <td>8</td>\n",
       "      <td>4</td>\n",
       "    </tr>\n",
       "    <tr>\n",
       "      <th>1</th>\n",
       "      <td>1462</td>\n",
       "      <td>0</td>\n",
       "      <td>3</td>\n",
       "      <td>81.0</td>\n",
       "      <td>14267</td>\n",
       "      <td>1</td>\n",
       "      <td>0</td>\n",
       "      <td>3</td>\n",
       "      <td>0</td>\n",
       "      <td>0</td>\n",
       "      <td>...</td>\n",
       "      <td>36</td>\n",
       "      <td>0</td>\n",
       "      <td>0</td>\n",
       "      <td>0</td>\n",
       "      <td>0</td>\n",
       "      <td>12500</td>\n",
       "      <td>5</td>\n",
       "      <td>4</td>\n",
       "      <td>8</td>\n",
       "      <td>4</td>\n",
       "    </tr>\n",
       "    <tr>\n",
       "      <th>2</th>\n",
       "      <td>1463</td>\n",
       "      <td>5</td>\n",
       "      <td>3</td>\n",
       "      <td>74.0</td>\n",
       "      <td>13830</td>\n",
       "      <td>1</td>\n",
       "      <td>0</td>\n",
       "      <td>3</td>\n",
       "      <td>0</td>\n",
       "      <td>4</td>\n",
       "      <td>...</td>\n",
       "      <td>34</td>\n",
       "      <td>0</td>\n",
       "      <td>0</td>\n",
       "      <td>0</td>\n",
       "      <td>0</td>\n",
       "      <td>0</td>\n",
       "      <td>2</td>\n",
       "      <td>4</td>\n",
       "      <td>8</td>\n",
       "      <td>4</td>\n",
       "    </tr>\n",
       "    <tr>\n",
       "      <th>3</th>\n",
       "      <td>1464</td>\n",
       "      <td>5</td>\n",
       "      <td>3</td>\n",
       "      <td>78.0</td>\n",
       "      <td>9978</td>\n",
       "      <td>1</td>\n",
       "      <td>0</td>\n",
       "      <td>3</td>\n",
       "      <td>0</td>\n",
       "      <td>4</td>\n",
       "      <td>...</td>\n",
       "      <td>36</td>\n",
       "      <td>0</td>\n",
       "      <td>0</td>\n",
       "      <td>0</td>\n",
       "      <td>0</td>\n",
       "      <td>0</td>\n",
       "      <td>5</td>\n",
       "      <td>4</td>\n",
       "      <td>8</td>\n",
       "      <td>4</td>\n",
       "    </tr>\n",
       "    <tr>\n",
       "      <th>4</th>\n",
       "      <td>1465</td>\n",
       "      <td>11</td>\n",
       "      <td>3</td>\n",
       "      <td>43.0</td>\n",
       "      <td>5005</td>\n",
       "      <td>1</td>\n",
       "      <td>0</td>\n",
       "      <td>1</td>\n",
       "      <td>0</td>\n",
       "      <td>4</td>\n",
       "      <td>...</td>\n",
       "      <td>82</td>\n",
       "      <td>0</td>\n",
       "      <td>0</td>\n",
       "      <td>144</td>\n",
       "      <td>0</td>\n",
       "      <td>0</td>\n",
       "      <td>0</td>\n",
       "      <td>4</td>\n",
       "      <td>8</td>\n",
       "      <td>4</td>\n",
       "    </tr>\n",
       "  </tbody>\n",
       "</table>\n",
       "<p>5 rows × 75 columns</p>\n",
       "</div>"
      ],
      "text/plain": [
       "     Id  MSSubClass  MSZoning  LotFrontage  LotArea  Street  LotShape  \\\n",
       "0  1461           0         2         80.0    11622       1         3   \n",
       "1  1462           0         3         81.0    14267       1         0   \n",
       "2  1463           5         3         74.0    13830       1         0   \n",
       "3  1464           5         3         78.0     9978       1         0   \n",
       "4  1465          11         3         43.0     5005       1         0   \n",
       "\n",
       "   LandContour  Utilities  LotConfig  ...  OpenPorchSF  EnclosedPorch  \\\n",
       "0            3          0          4  ...            0              0   \n",
       "1            3          0          0  ...           36              0   \n",
       "2            3          0          4  ...           34              0   \n",
       "3            3          0          4  ...           36              0   \n",
       "4            1          0          4  ...           82              0   \n",
       "\n",
       "   3SsnPorch  ScreenPorch  PoolArea  MiscVal  MoSold  YrSold  SaleType  \\\n",
       "0          0          120         0        0       5       4         8   \n",
       "1          0            0         0    12500       5       4         8   \n",
       "2          0            0         0        0       2       4         8   \n",
       "3          0            0         0        0       5       4         8   \n",
       "4          0          144         0        0       0       4         8   \n",
       "\n",
       "   SaleCondition  \n",
       "0              4  \n",
       "1              4  \n",
       "2              4  \n",
       "3              4  \n",
       "4              4  \n",
       "\n",
       "[5 rows x 75 columns]"
      ]
     },
     "execution_count": 592,
     "metadata": {},
     "output_type": "execute_result"
    }
   ],
   "source": [
    "df_test.head()"
   ]
  },
  {
   "cell_type": "code",
   "execution_count": 593,
   "id": "bc4e5e78",
   "metadata": {
    "papermill": {
     "duration": 0.236386,
     "end_time": "2022-03-10T15:48:07.457170",
     "exception": false,
     "start_time": "2022-03-10T15:48:07.220784",
     "status": "completed"
    },
    "tags": []
   },
   "outputs": [
    {
     "data": {
      "text/html": [
       "<div>\n",
       "<style scoped>\n",
       "    .dataframe tbody tr th:only-of-type {\n",
       "        vertical-align: middle;\n",
       "    }\n",
       "\n",
       "    .dataframe tbody tr th {\n",
       "        vertical-align: top;\n",
       "    }\n",
       "\n",
       "    .dataframe thead th {\n",
       "        text-align: right;\n",
       "    }\n",
       "</style>\n",
       "<table border=\"1\" class=\"dataframe\">\n",
       "  <thead>\n",
       "    <tr style=\"text-align: right;\">\n",
       "      <th></th>\n",
       "      <th>Missing Ratio</th>\n",
       "    </tr>\n",
       "  </thead>\n",
       "  <tbody>\n",
       "    <tr>\n",
       "      <th>Id</th>\n",
       "      <td>0.0</td>\n",
       "    </tr>\n",
       "    <tr>\n",
       "      <th>GarageType</th>\n",
       "      <td>0.0</td>\n",
       "    </tr>\n",
       "    <tr>\n",
       "      <th>Functional</th>\n",
       "      <td>0.0</td>\n",
       "    </tr>\n",
       "    <tr>\n",
       "      <th>TotRmsAbvGrd</th>\n",
       "      <td>0.0</td>\n",
       "    </tr>\n",
       "    <tr>\n",
       "      <th>KitchenQual</th>\n",
       "      <td>0.0</td>\n",
       "    </tr>\n",
       "    <tr>\n",
       "      <th>KitchenAbvGr</th>\n",
       "      <td>0.0</td>\n",
       "    </tr>\n",
       "    <tr>\n",
       "      <th>BedroomAbvGr</th>\n",
       "      <td>0.0</td>\n",
       "    </tr>\n",
       "    <tr>\n",
       "      <th>HalfBath</th>\n",
       "      <td>0.0</td>\n",
       "    </tr>\n",
       "    <tr>\n",
       "      <th>FullBath</th>\n",
       "      <td>0.0</td>\n",
       "    </tr>\n",
       "    <tr>\n",
       "      <th>BsmtHalfBath</th>\n",
       "      <td>0.0</td>\n",
       "    </tr>\n",
       "    <tr>\n",
       "      <th>BsmtFullBath</th>\n",
       "      <td>0.0</td>\n",
       "    </tr>\n",
       "    <tr>\n",
       "      <th>GrLivArea</th>\n",
       "      <td>0.0</td>\n",
       "    </tr>\n",
       "    <tr>\n",
       "      <th>LowQualFinSF</th>\n",
       "      <td>0.0</td>\n",
       "    </tr>\n",
       "    <tr>\n",
       "      <th>2ndFlrSF</th>\n",
       "      <td>0.0</td>\n",
       "    </tr>\n",
       "    <tr>\n",
       "      <th>1stFlrSF</th>\n",
       "      <td>0.0</td>\n",
       "    </tr>\n",
       "    <tr>\n",
       "      <th>Electrical</th>\n",
       "      <td>0.0</td>\n",
       "    </tr>\n",
       "    <tr>\n",
       "      <th>CentralAir</th>\n",
       "      <td>0.0</td>\n",
       "    </tr>\n",
       "    <tr>\n",
       "      <th>Fireplaces</th>\n",
       "      <td>0.0</td>\n",
       "    </tr>\n",
       "    <tr>\n",
       "      <th>GarageYrBlt</th>\n",
       "      <td>0.0</td>\n",
       "    </tr>\n",
       "    <tr>\n",
       "      <th>Heating</th>\n",
       "      <td>0.0</td>\n",
       "    </tr>\n",
       "    <tr>\n",
       "      <th>GarageFinish</th>\n",
       "      <td>0.0</td>\n",
       "    </tr>\n",
       "    <tr>\n",
       "      <th>SaleType</th>\n",
       "      <td>0.0</td>\n",
       "    </tr>\n",
       "    <tr>\n",
       "      <th>YrSold</th>\n",
       "      <td>0.0</td>\n",
       "    </tr>\n",
       "    <tr>\n",
       "      <th>MoSold</th>\n",
       "      <td>0.0</td>\n",
       "    </tr>\n",
       "    <tr>\n",
       "      <th>MiscVal</th>\n",
       "      <td>0.0</td>\n",
       "    </tr>\n",
       "    <tr>\n",
       "      <th>PoolArea</th>\n",
       "      <td>0.0</td>\n",
       "    </tr>\n",
       "    <tr>\n",
       "      <th>ScreenPorch</th>\n",
       "      <td>0.0</td>\n",
       "    </tr>\n",
       "    <tr>\n",
       "      <th>3SsnPorch</th>\n",
       "      <td>0.0</td>\n",
       "    </tr>\n",
       "    <tr>\n",
       "      <th>EnclosedPorch</th>\n",
       "      <td>0.0</td>\n",
       "    </tr>\n",
       "    <tr>\n",
       "      <th>OpenPorchSF</th>\n",
       "      <td>0.0</td>\n",
       "    </tr>\n",
       "  </tbody>\n",
       "</table>\n",
       "</div>"
      ],
      "text/plain": [
       "               Missing Ratio\n",
       "Id                       0.0\n",
       "GarageType               0.0\n",
       "Functional               0.0\n",
       "TotRmsAbvGrd             0.0\n",
       "KitchenQual              0.0\n",
       "KitchenAbvGr             0.0\n",
       "BedroomAbvGr             0.0\n",
       "HalfBath                 0.0\n",
       "FullBath                 0.0\n",
       "BsmtHalfBath             0.0\n",
       "BsmtFullBath             0.0\n",
       "GrLivArea                0.0\n",
       "LowQualFinSF             0.0\n",
       "2ndFlrSF                 0.0\n",
       "1stFlrSF                 0.0\n",
       "Electrical               0.0\n",
       "CentralAir               0.0\n",
       "Fireplaces               0.0\n",
       "GarageYrBlt              0.0\n",
       "Heating                  0.0\n",
       "GarageFinish             0.0\n",
       "SaleType                 0.0\n",
       "YrSold                   0.0\n",
       "MoSold                   0.0\n",
       "MiscVal                  0.0\n",
       "PoolArea                 0.0\n",
       "ScreenPorch              0.0\n",
       "3SsnPorch                0.0\n",
       "EnclosedPorch            0.0\n",
       "OpenPorchSF              0.0"
      ]
     },
     "execution_count": 593,
     "metadata": {},
     "output_type": "execute_result"
    }
   ],
   "source": [
    "df_test_nu = (df_test.isnull().sum() / len(df_test)) * 100\n",
    "df_test_nu = df_test_nu.drop(df_train_nu[df_test_nu == 0].index).sort_values(ascending=False)[:30]\n",
    "missing_data = pd.DataFrame({'Missing Ratio' :df_test_nu})\n",
    "missing_data.head(100)"
   ]
  },
  {
   "cell_type": "code",
   "execution_count": 594,
   "id": "adeed4e0",
   "metadata": {
    "papermill": {
     "duration": 0.238598,
     "end_time": "2022-03-10T15:48:07.911062",
     "exception": false,
     "start_time": "2022-03-10T15:48:07.672464",
     "status": "completed"
    },
    "tags": []
   },
   "outputs": [],
   "source": [
    "Test_predictions_LR = model.predict(df_test)"
   ]
  },
  {
   "cell_type": "code",
   "execution_count": 595,
   "id": "8ac14b54",
   "metadata": {
    "papermill": {
     "duration": 0.225326,
     "end_time": "2022-03-10T15:48:08.403043",
     "exception": false,
     "start_time": "2022-03-10T15:48:08.177717",
     "status": "completed"
    },
    "tags": []
   },
   "outputs": [
    {
     "data": {
      "text/plain": [
       "array([11.72084798, 11.97626438, 12.10787028, ..., 12.0437328 ,\n",
       "       11.74475839, 12.33623846])"
      ]
     },
     "execution_count": 595,
     "metadata": {},
     "output_type": "execute_result"
    }
   ],
   "source": [
    "Test_predictions_LR"
   ]
  },
  {
   "cell_type": "code",
   "execution_count": 596,
   "id": "bbeedd12-ff27-4ff1-95f7-049d8ed644d2",
   "metadata": {},
   "outputs": [],
   "source": [
    "final_prediction = df_test[['Id']]"
   ]
  },
  {
   "cell_type": "code",
   "execution_count": 597,
   "id": "44b429c0-deab-4247-a1b4-1d5d53e6838a",
   "metadata": {},
   "outputs": [
    {
     "name": "stderr",
     "output_type": "stream",
     "text": [
      "/var/folders/kc/02ft3wl53qz2hk5l6mgj33r80000gn/T/ipykernel_11851/500939277.py:1: SettingWithCopyWarning: \n",
      "A value is trying to be set on a copy of a slice from a DataFrame.\n",
      "Try using .loc[row_indexer,col_indexer] = value instead\n",
      "\n",
      "See the caveats in the documentation: https://pandas.pydata.org/pandas-docs/stable/user_guide/indexing.html#returning-a-view-versus-a-copy\n",
      "  final_prediction['SalePrice'] = Test_predictions_LR\n"
     ]
    }
   ],
   "source": [
    "final_prediction['SalePrice'] = Test_predictions_LR"
   ]
  },
  {
   "cell_type": "code",
   "execution_count": 598,
   "id": "0655f695-ce6d-4f82-9b9d-7338169134f9",
   "metadata": {},
   "outputs": [
    {
     "data": {
      "text/html": [
       "<div>\n",
       "<style scoped>\n",
       "    .dataframe tbody tr th:only-of-type {\n",
       "        vertical-align: middle;\n",
       "    }\n",
       "\n",
       "    .dataframe tbody tr th {\n",
       "        vertical-align: top;\n",
       "    }\n",
       "\n",
       "    .dataframe thead th {\n",
       "        text-align: right;\n",
       "    }\n",
       "</style>\n",
       "<table border=\"1\" class=\"dataframe\">\n",
       "  <thead>\n",
       "    <tr style=\"text-align: right;\">\n",
       "      <th></th>\n",
       "      <th>Id</th>\n",
       "      <th>SalePrice</th>\n",
       "    </tr>\n",
       "  </thead>\n",
       "  <tbody>\n",
       "    <tr>\n",
       "      <th>0</th>\n",
       "      <td>1461</td>\n",
       "      <td>11.720848</td>\n",
       "    </tr>\n",
       "    <tr>\n",
       "      <th>1</th>\n",
       "      <td>1462</td>\n",
       "      <td>11.976264</td>\n",
       "    </tr>\n",
       "    <tr>\n",
       "      <th>2</th>\n",
       "      <td>1463</td>\n",
       "      <td>12.107870</td>\n",
       "    </tr>\n",
       "    <tr>\n",
       "      <th>3</th>\n",
       "      <td>1464</td>\n",
       "      <td>12.198792</td>\n",
       "    </tr>\n",
       "    <tr>\n",
       "      <th>4</th>\n",
       "      <td>1465</td>\n",
       "      <td>12.132200</td>\n",
       "    </tr>\n",
       "    <tr>\n",
       "      <th>...</th>\n",
       "      <td>...</td>\n",
       "      <td>...</td>\n",
       "    </tr>\n",
       "    <tr>\n",
       "      <th>1454</th>\n",
       "      <td>2915</td>\n",
       "      <td>11.521631</td>\n",
       "    </tr>\n",
       "    <tr>\n",
       "      <th>1455</th>\n",
       "      <td>2916</td>\n",
       "      <td>11.398541</td>\n",
       "    </tr>\n",
       "    <tr>\n",
       "      <th>1456</th>\n",
       "      <td>2917</td>\n",
       "      <td>12.043733</td>\n",
       "    </tr>\n",
       "    <tr>\n",
       "      <th>1457</th>\n",
       "      <td>2918</td>\n",
       "      <td>11.744758</td>\n",
       "    </tr>\n",
       "    <tr>\n",
       "      <th>1458</th>\n",
       "      <td>2919</td>\n",
       "      <td>12.336238</td>\n",
       "    </tr>\n",
       "  </tbody>\n",
       "</table>\n",
       "<p>1459 rows × 2 columns</p>\n",
       "</div>"
      ],
      "text/plain": [
       "        Id  SalePrice\n",
       "0     1461  11.720848\n",
       "1     1462  11.976264\n",
       "2     1463  12.107870\n",
       "3     1464  12.198792\n",
       "4     1465  12.132200\n",
       "...    ...        ...\n",
       "1454  2915  11.521631\n",
       "1455  2916  11.398541\n",
       "1456  2917  12.043733\n",
       "1457  2918  11.744758\n",
       "1458  2919  12.336238\n",
       "\n",
       "[1459 rows x 2 columns]"
      ]
     },
     "execution_count": 598,
     "metadata": {},
     "output_type": "execute_result"
    }
   ],
   "source": [
    "final_prediction"
   ]
  },
  {
   "cell_type": "code",
   "execution_count": 599,
   "id": "bed6a0b8-99f3-40b2-bb26-e67785e5c52c",
   "metadata": {},
   "outputs": [],
   "source": [
    "final_prediction.to_csv('final_prediction.csv', index = None)"
   ]
  },
  {
   "cell_type": "code",
   "execution_count": 600,
   "id": "45ab905f-1243-4e3c-b3f3-ea38d2613508",
   "metadata": {},
   "outputs": [
    {
     "data": {
      "text/html": [
       "<div>\n",
       "<style scoped>\n",
       "    .dataframe tbody tr th:only-of-type {\n",
       "        vertical-align: middle;\n",
       "    }\n",
       "\n",
       "    .dataframe tbody tr th {\n",
       "        vertical-align: top;\n",
       "    }\n",
       "\n",
       "    .dataframe thead th {\n",
       "        text-align: right;\n",
       "    }\n",
       "</style>\n",
       "<table border=\"1\" class=\"dataframe\">\n",
       "  <thead>\n",
       "    <tr style=\"text-align: right;\">\n",
       "      <th></th>\n",
       "      <th>Id</th>\n",
       "      <th>SalePrice</th>\n",
       "    </tr>\n",
       "  </thead>\n",
       "  <tbody>\n",
       "    <tr>\n",
       "      <th>0</th>\n",
       "      <td>1461</td>\n",
       "      <td>11.720848</td>\n",
       "    </tr>\n",
       "    <tr>\n",
       "      <th>1</th>\n",
       "      <td>1462</td>\n",
       "      <td>11.976264</td>\n",
       "    </tr>\n",
       "    <tr>\n",
       "      <th>2</th>\n",
       "      <td>1463</td>\n",
       "      <td>12.107870</td>\n",
       "    </tr>\n",
       "    <tr>\n",
       "      <th>3</th>\n",
       "      <td>1464</td>\n",
       "      <td>12.198792</td>\n",
       "    </tr>\n",
       "    <tr>\n",
       "      <th>4</th>\n",
       "      <td>1465</td>\n",
       "      <td>12.132200</td>\n",
       "    </tr>\n",
       "  </tbody>\n",
       "</table>\n",
       "</div>"
      ],
      "text/plain": [
       "     Id  SalePrice\n",
       "0  1461  11.720848\n",
       "1  1462  11.976264\n",
       "2  1463  12.107870\n",
       "3  1464  12.198792\n",
       "4  1465  12.132200"
      ]
     },
     "execution_count": 600,
     "metadata": {},
     "output_type": "execute_result"
    }
   ],
   "source": [
    "final = pd.read_csv('final_prediction.csv')\n",
    "final.head()"
   ]
  },
  {
   "cell_type": "code",
   "execution_count": null,
   "id": "f853ec7a-789c-4c99-bde0-7db4f00e68be",
   "metadata": {},
   "outputs": [],
   "source": []
  }
 ],
 "metadata": {
  "kernelspec": {
   "display_name": "Python 3 (ipykernel)",
   "language": "python",
   "name": "python3"
  },
  "language_info": {
   "codemirror_mode": {
    "name": "ipython",
    "version": 3
   },
   "file_extension": ".py",
   "mimetype": "text/x-python",
   "name": "python",
   "nbconvert_exporter": "python",
   "pygments_lexer": "ipython3",
   "version": "3.9.7"
  },
  "papermill": {
   "default_parameters": {},
   "duration": 80.50042,
   "end_time": "2022-03-10T15:48:13.484760",
   "environment_variables": {},
   "exception": null,
   "input_path": "__notebook__.ipynb",
   "output_path": "__notebook__.ipynb",
   "parameters": {},
   "start_time": "2022-03-10T15:46:52.984340",
   "version": "2.3.3"
  }
 },
 "nbformat": 4,
 "nbformat_minor": 5
}
